{
 "metadata": {
  "name": "",
  "signature": "sha256:9ba724d4710eecea17d8cefba0e7217fcb7e323247e38e4675bd13a8edc292af"
 },
 "nbformat": 3,
 "nbformat_minor": 0,
 "worksheets": [
  {
   "cells": [
    {
     "cell_type": "markdown",
     "metadata": {},
     "source": [
      "Esenciales de Python 2\n",
      "=====\n",
      "\n",
      "Cuando trabajamos con datos, necesitamos una manera de guardarlos en variables de manera que podamos manipularlos. Usaremos dos nuevos tipos de estructuras que quizas no conozcan. Ests son **listas** y **diccionarios**.\n",
      "\n",
      "Si ya estan familiarizados con estas estructuras entonces este modulo servira como recordatorio."
     ]
    },
    {
     "cell_type": "markdown",
     "metadata": {},
     "source": [
      "## Entendiendo estructuras de datos\n",
      "\n",
      "Tres de los tipos de datos mas comunes usados en programacion son: numeros, cadenas (de caracteres) y booleanos. En Python estos tipos de datos se asignan a variables uno por uno, como en:\n",
      "\n",
      "    x = 3          # numeros\n",
      "    a = \"gorilas\"  # cadenas\n",
      "    t = True       # booleanos\n",
      "\n",
      "Pero que pasa si necesitamos algo mas complicado, como una lista del supermercado. Asignando una variable para cada elemento de la lista podria hacer que las cosas fueran complicandose rapidamente:\n",
      "\n",
      "    item_1 = \"leche\"\n",
      "    item_2 = \"queso\"\n",
      "    item_3 = \"pan\""
     ]
    },
    {
     "cell_type": "markdown",
     "metadata": {},
     "source": [
      "### Listas\n",
      "\n",
      "Python proporciona un manera de evitar este tipo de cosas. En lugar de esto, existe el tipo de datos 'lista', ``list``. Una lista vacia, sin elementos, es simplemente ``[]``:\n",
      "\n",
      "    lista_del_super = []\n",
      "\n",
      "Si estan en el interprete de Python, pueden ver que hay dentro de una lista escribiendo el nombre de la lista. Por ejemplo:\n",
      "\n",
      "    >>> lista_del_super\n",
      "    []"
     ]
    },
    {
     "cell_type": "markdown",
     "metadata": {},
     "source": [
      "El interprete muestra que la lista esta vacia.\n",
      "\n",
      "Para agregar elementos a la ``lista_del_super``, usamos los siguientes comandos:\n",
      "\n",
      "    lista_del_super.append(\"leche\")\n",
      "    lista_del_super.append(\"queso\")\n",
      "    lista_del_super.append(\"pan\")"
     ]
    },
    {
     "cell_type": "markdown",
     "metadata": {},
     "source": [
      "Que hay ahora en la `lista_del_super`?\n",
      "Que ocurre si agregamos numeros o booleanos a la lista?"
     ]
    },
    {
     "cell_type": "markdown",
     "metadata": {},
     "source": [
      "Tambien podemos asignar una lista con algunos elementos en una sola linea, por ejemplo:\n",
      "\n",
      "    lista_del_super = [ \"leche\", \"queso\", \"pan\" ]"
     ]
    },
    {
     "cell_type": "markdown",
     "metadata": {},
     "source": [
      "Para remover un elemento de lista, usamos ``remove()``:\n",
      "\n",
      "    lista_del_super.remove(\"leche\")"
     ]
    },
    {
     "cell_type": "markdown",
     "metadata": {},
     "source": [
      "Las listas pueden usarse y procesarse facilmente dentro de un loop usando `for`. Vean el siguiente ejemplo el cual imprime cada elemento de la lista en un renglon nuevo:\n",
      "\n",
      "    for item in lista_del_super:\n",
      "        print(item)"
     ]
    },
    {
     "cell_type": "markdown",
     "metadata": {},
     "source": [
      "Eso es todo! En Python es muy facil checar si algo esta o no en una lista:\n",
      "\n",
      "    if \"leche\" in lista_del_super:\n",
      "        print(\"Mmmh! Que rico.\")\n",
      "\n",
      "    if \"huevos\" not in lista_del_super:\n",
      "        print(\"No podemos tener eso!\")\n",
      "        shopping_list.append(\"huevos\")"
     ]
    },
    {
     "cell_type": "markdown",
     "metadata": {},
     "source": [
      "Las listas son las estructuras de datos mas comunes en programacion. Existen muchas otras cosas que pueden hacerse con ellas, y todos los lenguajes tienen ligeras diferencias en su interpretacion, pero fundamentalmente son todas similares.\n",
      "\n",
      "En resumen:\n",
      "\n",
      "    lista_del_super = []\n",
      "    lista_del_super.append(\"galletas\")\n",
      "    lista_del_super.remove(\"galletas\")"
     ]
    },
    {
     "cell_type": "markdown",
     "metadata": {},
     "source": [
      "### Diccionarios\n",
      "\n",
      "El otro tipo de datos fundamental son los diccionarios. Un diccionario permite asociar una parte de los datos (una llave, \"key\") con otra (el valor, \"value\"). Esta analogia viene de los diccionarios reales, donde se asocia una palabra con su significado. Son un poco mas dificiles de entender que las listas, pero Python hace muy sencillo su uso."
     ]
    },
    {
     "cell_type": "markdown",
     "metadata": {},
     "source": [
      "Pueden crear un diccionario con ``{}``\n",
      "\n",
      "    comidas = {}\n",
      "\n",
      "Y agregar elementos al diccionario de la siguiente manera:\n",
      "\n",
      "    comidas[\"platano\"] = \"Un bocado amarillo exquisito!\"\n",
      "    comidas[\"lodo\"]   = \"No muy rico. NO COMER!\"\n",
      "\n",
      "En este ejemplo, las llaves (keys) son \"platano\" y \"lodo\", y los valores (values) son aquellos que asignamos a las llaves. Como llave puede usarse cualquier tipo de dato que no cambie. Prueben usando un numero, un valor booleano y una lista como llaves en un diccionario. Que les dice esto de las cadenas de caracteres?"
     ]
    },
    {
     "cell_type": "markdown",
     "metadata": {},
     "source": [
      "Como con las listas, puede verse que hay en un diccionario:\n",
      "\n",
      "    >>> comidas\n",
      "    {'platano': 'Un bocado amarillo exquisito!', 'lodo': 'No muy rico. NO COMER!'}"
     ]
    },
    {
     "cell_type": "markdown",
     "metadata": {},
     "source": [
      "Puede consultarse cualquierentrada en un diccionario usando su llave:\n",
      "\n",
      "    >>> comidas[\"platano\"]\n",
      "    'Un bocado amarillo exquisito!'"
     ]
    },
    {
     "cell_type": "markdown",
     "metadata": {},
     "source": [
      "Si la llave no se encuentra en el diccionario, ocurre un `KeyError`:\n",
      "\n",
      "    >>> comidas[\"queso\"]\n",
      "    Traceback (most recent call last):\n",
      "      File \"<stdin>\", line 1, in <module>\n",
      "    KeyError: 'queso'"
     ]
    },
    {
     "cell_type": "markdown",
     "metadata": {},
     "source": [
      "Por esta razon, es posible probar si una llave esta o no en un diccionario, usando la palabra `in`:\n",
      "\n",
      "    if \"queso\" in comidas:\n",
      "        print(\"Queso es una comida conocida!\")\n",
      "        print(comidas[\"queso\"])\n",
      "\n",
      "`not in` tambien sirve, intentenlo."
     ]
    },
    {
     "cell_type": "markdown",
     "metadata": {},
     "source": [
      "Podemos borrar de un diccionario. Por ejemplo, no necesitamos una entrada para el lodo:\n",
      "\n",
      "    del comidas[\"lodo\"]"
     ]
    },
    {
     "cell_type": "markdown",
     "metadata": {},
     "source": [
      "Lo que hace muy utiles a los diccionarios es que podemos asignar significado a los elementos. Una lista es solamente una bolsa llena de objetos, pero un diccionario es un mapeo especifico de algo en otra cosa. Al combinar listas y diccionarios se puede describir basicamente cualquier estructura usada en computacion."
     ]
    },
    {
     "cell_type": "markdown",
     "metadata": {},
     "source": [
      "Por ejemplo, es muy sencillo incluir una lista en un diccionario:\n",
      "\n",
      "    ingredientes = {}\n",
      "    ingredientes[\"sandwich jlt\"] = [\"pan\", \"jitomate\", \"lechuga\", \"tocino\"]"
     ]
    },
    {
     "cell_type": "markdown",
     "metadata": {},
     "source": [
      "O agregar dictcionarios a listas:\n",
      "\n",
      "    europa = []\n",
      "    alemania = {\"nombre\": \"Alemania\", \"poblacion\": 81000000}\n",
      "    europa.append(alemania)\n",
      "    luxemburgo = {\"nombre\": \"Luxemburgo\", \"poblacion\": 512000}\n",
      "    europa.append(luxemburgo)"
     ]
    },
    {
     "cell_type": "markdown",
     "metadata": {},
     "source": [
      "Fuera de Python, los diccionarios se conocen como ``tablas hash``, ``mapas hash`` o solo ``mapas``."
     ]
    },
    {
     "cell_type": "markdown",
     "metadata": {},
     "source": [
      "## Modulo siguiente\n",
      "\n",
      "Ahora que saben que son las listas y diccionarios, podemos seguir con el siguiente modulo, [Introduccion a las IPython Notebook](Lib03_Esenciales_IPythonNotebook.ipynb)"
     ]
    }
   ],
   "metadata": {}
  }
 ]
}