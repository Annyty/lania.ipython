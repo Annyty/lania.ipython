{
 "metadata": {
  "name": "",
  "signature": "sha256:87d386b041e8bda44a9a6498d851bf0f196cbe06bdbd5ea113184c877ceb9faa"
 },
 "nbformat": 3,
 "nbformat_minor": 0,
 "worksheets": [
  {
   "cells": [
    {
     "cell_type": "markdown",
     "metadata": {},
     "source": [
      "Ejercicios 1\n",
      "=====\n",
      "\n",
      "Les recuerdo que los ejercicios en este curso son actividades interactivas que pueden realizar en una libreta IPython Notebook o en el interprete de IPython. Su resolucion y entrega en tiempo y forma seran parte esencial de la calificacion de este curso.\n",
      "\n",
      "Esta primera libreta de ejercicios les servira para practicar con algunos fundamentales de programacion en el lenguaje Python y el uso de las IPython Notebook."
     ]
    }
   ],
   "metadata": {}
  }
 ]
}