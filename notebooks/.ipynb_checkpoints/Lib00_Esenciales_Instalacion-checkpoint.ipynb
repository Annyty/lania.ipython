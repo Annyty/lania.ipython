{
 "metadata": {
  "name": "",
  "signature": "sha256:0f0ced6e5879669d9cc8e9c4ae9db2ce7272fd9c63eda56b58651e19fa613872"
 },
 "nbformat": 3,
 "nbformat_minor": 0,
 "worksheets": [
  {
   "cells": [
    {
     "cell_type": "markdown",
     "metadata": {},
     "source": [
      "Esenciales de Python 0\n",
      "=====\n",
      "\n",
      "Esta libreta describe el proceso de instalacion mas sencillo para tener un ambiente de computo basado en [IPython](http://ipython.org/) en su computadora."
     ]
    },
    {
     "cell_type": "markdown",
     "metadata": {},
     "source": [
      "![http://ipython.org/_static/IPy_header.png](http://ipython.org/_static/IPy_header.png)\n",
      "\n",
      "[IPython](http://ipython.org/) es un conjunto de herramientas originalmente desarrolladas para hacer mas facil el trabajo de cientificos usando Python y datos. Permite combinar Python de manera exploratorio e interactiva con otros programas e incluso con texto y ecuaciones.\n",
      "\n",
      "*IPython no es un lenguaje de programacion distinto, es solo un conjunto de programas para trabajar con Python.*"
     ]
    },
    {
     "cell_type": "markdown",
     "metadata": {},
     "source": [
      "# Instalando IPython\n",
      "\n",
      "Hay varias formas de instalar Python y el ambiente de IPython Notebook. \n",
      "\n",
      "Si estan usando Windows o MAC OS X, recomendamos descargar e instalar [Anaconda](http://continuum.io/downloads.html), que es un instaladaor de Python que contiene un conjunto herramientas utiles para empezar a desarrollar programas (incluyendo IPython Notebook).\n",
      "\n",
      "**Anaconda es un archivo relativamente grande para descargar (~ 300Mb) asi que se recomieda descargarlo antes del inicio del curso.**\n",
      "\n",
      "Anaconda viene con una version propia de Python 2.7, IPython Notebook, mas otras librerias como `matplotlib`, y un administrador de paquetes (\"conda\") que puede usarse para instalar de manera muy sencilla otros paquetes o versiones de Python.\n",
      "\n",
      "Si estan usando GNU/Linux, Anaconda tambien esta disponible, pero se recomienda tratar de instalar los programas usando los repositorios de la distribucion (ver Otras Alternativas).\n",
      "\n",
      "## Otras Alternativas\n",
      "\n",
      "**Esta seccion es solamente si no quieren o no pueden usar Anaconda**\n",
      "\n",
      "Anaconda (ver arriba) es la forma mas sencilla de tener un sistema funcionando. Existen otras opciones de instalacion que pueden pronar si desean intentar algo diferente:\n",
      "\n",
      "* En Linux, la mayoria de los adminstradores de paquetes incluye IPython Notebook. Por ejemplo, en Ubuntu o Debian:\n",
      "\n",
      "        sudo apt-get install ipython-notebook python-matplotlib\n",
      "\n",
      "* Si tienen instalado 'pip', pueden obtener IPython y matplotlib via 'pip' de la siguiente manera:\n",
      "\n",
      "        pip install ipython[notebook]\n",
      "\n",
      "(En OS X puede ser necesario tener Xcode para compilar las dependencias.)\n",
      "\n",
      "* Si no pueden instalar IPython Notebook o hacerlo funcionar en su computadore, existe un servicio web llamado [Wakari](https://www.wakari.io/) que es gratis. En este caso los programas no se ejecutan en su computadora, sino \"en la nube\" en los servidores de Wakari, y solamente veran los resultados en su navegador.\n",
      "\n",
      "## Nota acerca de Python 3\n",
      "\n",
      "Anaconda y otros instaladores vienen con Python version 2.\n",
      "\n",
      "El mundo de Python esta migrando lentamente hacia Python 3. IPython esta disponible para ambos 2 & 3 y Anaconda permite elegir entre 2.7 y 3.4.\n",
      "\n",
      "Entre Python 2 y Python 3 hay algunas incompatibilidades en la sintaxis del lenguaje. Los programas que presentaremos usaremos en este curso estan dise\u00f1ados para Python 2 y es muy probable que no funcionen correctamente con Python 3 aun."
     ]
    },
    {
     "cell_type": "markdown",
     "metadata": {},
     "source": [
      "## Iniciando las IPython Notebook\n",
      "\n",
      "La interaccion con IPython Notebook es a traves de un navegador de internet. El programa crea un \"servidor web\" local en su computadora al que se conecta.\n",
      "\n",
      "En Windows, puede encontrarse un programa para IPython Notebook bajo Anaconda en el menu de inicio.\n",
      "\n",
      "En Linux o en OS X, IPython Notebook puede inicializarse desde la linea de comando, abriendo una terminal, navegando a un directorio donde se desean guardar los archivos y documentos de las libretas (usando 'cd') y desde esa ruta escribiendo el siguiente comando:\n",
      "\n",
      "    ipython notebook"
     ]
    },
    {
     "cell_type": "markdown",
     "metadata": {},
     "source": [
      "Si observan la terminal, veran algo como esto:\n",
      "\n",
      "    [NotebookApp] Using existing profile dir: u'/home/gus/.ipython/profile_default'\n",
      "    [NotebookApp] Serving notebooks from /home/gus/workshops\n",
      "    [NotebookApp] The IPython Notebook is running at: http://127.0.0.1:8888/\n",
      "    [NotebookApp] Use Control-C to stop this server and shut down all kernels.\n",
      "\n",
      "Automaticamente debe abrirse un navegador de internet mostrando la interface de IPython Notebook. En caso contrario puede copiarse la direccion en la barra del navegador.\n",
      "\n",
      "A pesar de que interactuan con IPython Notebook usando su navegador, Notebook corre y ejecuta en su computadora en ese ventana. Solamente ustedes tienen acceso a ella."
     ]
    }
   ],
   "metadata": {}
  }
 ]
}