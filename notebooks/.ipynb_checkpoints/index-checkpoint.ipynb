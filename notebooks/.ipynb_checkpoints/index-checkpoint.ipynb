{
 "metadata": {
  "name": "",
  "signature": "sha256:0781c78ac82b200024dcb8fe879c76c302162c039bce24cc184ecac40c724440"
 },
 "nbformat": 3,
 "nbformat_minor": 0,
 "worksheets": [
  {
   "cells": [
    {
     "cell_type": "markdown",
     "metadata": {},
     "source": [
      "Index\n",
      "=====\n",
      "\n",
      "El curso consiste en 24 horas de tutoriales y practicas usando el lenguaje de programacion Python para crear una aplicacion que puede, al menos en principios, implementarse en un dispositivo Android.\n",
      "\n",
      "Las 24 horas se cubriran en 3 dias, 8 horas cada uno de tal manera que cada dia habra dos sesiones de aproximadamente 4 hrs. cada una. Cubriremos los siguiente temas\n",
      "\n",
      "1. Showcase de Python y la tecnologia de IPython Notebook\n",
      "2. Git y control de revision\n",
      "3. Introduccion al lenguaje de programacion Python y IPython\n",
      "4. Introduccion al procesamiento de Datos:\n",
      "    1. usando `python`\n",
      "    2. usando `pandas`\n",
      "5. Introduccion al computo paralelo con IPython\n",
      "6. Aplicaciones moviles con Python: Kivy"
     ]
    },
    {
     "cell_type": "markdown",
     "metadata": {},
     "source": [
      "#Dia 1:\n",
      "## Python y IPython notebooks\n",
      "\n",
      "Cubriremos\n",
      "\n",
      "1. Instalacion\n",
      "2. Configuracion\n",
      "3. Ejecutando codigo\n",
      "4. Usando IPython Notebook\n",
      "\n",
      "## Git y control de revision\n",
      "\n",
      "Utilizando IPython Notebook introduciremos los elementos esenciales del sistema de revision de software `git`, el cual sera utilizado durante el curso para llevar control de sus actividades y ejercicios."
     ]
    },
    {
     "cell_type": "markdown",
     "metadata": {},
     "source": [
      "#Dia 2:\n",
      "## Python y Python Interactivo (IPython)\n",
      "Veremos mas a detalle los conceptos esenciales del lenguaje de programacion Python y la idea de Python interactivo desde la perspectiva de trabajo colaborativo y reproducible.\n",
      "\n",
      "## Introduccion al procesamiento de datos\n",
      "Utilizaremos (I)Python (Notebook) para resolver un problema de analisis de datos:\n",
      "1. usando Python directamente\n",
      "2. usando la libreria `pandas`\n",
      "\n",
      "## Introduccion a computo paralelo con IPython\n",
      "IPython ofrece un ambiente para realizar computo en paralelo de manera sencilla y rapida. \n"
     ]
    },
    {
     "cell_type": "markdown",
     "metadata": {},
     "source": [
      "#Dia 3\n",
      "## Aplicaciones moviles con Python\n",
      "Este dia desarrollaremos una aplicacion movil basica utilizando la libreria `Kivy`."
     ]
    },
    {
     "cell_type": "code",
     "collapsed": false,
     "input": [],
     "language": "python",
     "metadata": {},
     "outputs": []
    },
    {
     "cell_type": "code",
     "collapsed": false,
     "input": [],
     "language": "python",
     "metadata": {},
     "outputs": []
    },
    {
     "cell_type": "code",
     "collapsed": false,
     "input": [],
     "language": "python",
     "metadata": {},
     "outputs": []
    },
    {
     "cell_type": "code",
     "collapsed": false,
     "input": [],
     "language": "python",
     "metadata": {},
     "outputs": []
    }
   ],
   "metadata": {}
  }
 ]
}