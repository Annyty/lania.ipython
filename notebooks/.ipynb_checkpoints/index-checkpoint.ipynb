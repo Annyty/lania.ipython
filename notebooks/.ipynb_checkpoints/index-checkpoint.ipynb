{
 "metadata": {
  "name": "",
  "signature": "sha256:822dd9a3bc6246b9837f4a6cb66397794f9712c903ea81122547ecc771fda45b"
 },
 "nbformat": 3,
 "nbformat_minor": 0,
 "worksheets": [
  {
   "cells": [
    {
     "cell_type": "code",
     "collapsed": false,
     "input": [
      "%run talktools.py"
     ],
     "language": "python",
     "metadata": {},
     "outputs": [
      {
       "html": [
        "\n",
        "<style>\n",
        "    @font-face {\n",
        "        font-family: \"Computer Modern\";\n",
        "        src: url('http://mirrors.ctan.org/fonts/cm-unicode/fonts/otf/cmunss.otf');\n",
        "    }\n",
        "    div.cell{\n",
        "        width:800px;\n",
        "        margin-left:auto !important;\n",
        "        margin-right:auto;\n",
        "\t\tmargin-top:1em;\n",
        "\t\tmargin-bottom:1em;\n",
        "    }\n",
        "    h1 {\n",
        "        font-family: Helvetica, serif;\n",
        "\t\tbackground-color:#b0c4de;\n",
        "\n",
        "\t\t\n",
        "    }\n",
        "\th2 {\n",
        "        font-family: Helvetica, serif;\n",
        "\t\tbackground-color:#b0c4de;\n",
        "\t\t\n",
        "\t\t\n",
        "    }\n",
        "\th3 {\n",
        "        font-family: Helvetica, serif;\n",
        "\t\tbackground-color:#b0c4de;\n",
        "\t\t\n",
        "    }\n",
        "    h4{\n",
        "        margin-top:12px;\n",
        "        margin-bottom: 3px;\n",
        "       }\n",
        "    div.text_cell_render{\n",
        "        font-family: Computer Modern, \"Helvetica Neue\", Arial, Helvetica, Geneva, sans-serif;\n",
        "        line-height: 145%;\n",
        "        font-size: 130%;\n",
        "        width:800px;\n",
        "        margin-left:auto;\n",
        "        margin-right:auto;\n",
        "    }\n",
        "    .CodeMirror{\n",
        "            font-family: \"Source Code Pro\", source-code-pro,Consolas, monospace;\n",
        "    }\n",
        "    \n",
        "    .text_cell_render h5 {\n",
        "        font-weight: 300;\n",
        "        font-size: 22pt;\n",
        "        color: #4057A1;\n",
        "        font-style: italic;\n",
        "        margin-bottom: .5em;\n",
        "        margin-top: 0.5em;\n",
        "        display: block;\n",
        "    }\n",
        "    \n",
        "    .warning{\n",
        "        color: rgb( 240, 20, 20 )\n",
        "        }  \n",
        "\n",
        "\t\tdiv.cell.code_cell {  /* Areat containing both code and output */\n",
        "\t\tbackground-color:#F1F0FF; /* light blue */\n",
        "\t\tborder-radius: 10px; /* rounded borders = friendlier */\n",
        "\t\tpadding: 1em;\n",
        "\t\t}\n",
        "</style>\n",
        "<script>\n",
        "    MathJax.Hub.Config({\n",
        "                        TeX: {\n",
        "                           extensions: [\"AMSmath.js\"]\n",
        "                           },\n",
        "                tex2jax: {\n",
        "                    inlineMath: [ ['$','$'], [\"\\\\(\",\"\\\\)\"] ],\n",
        "                    displayMath: [ ['$$','$$'], [\"\\\\[\",\"\\\\]\"] ]\n",
        "                },\n",
        "                displayAlign: 'center', // Change this to 'center' to center equations.\n",
        "                \"HTML-CSS\": {\n",
        "                    styles: {'.MathJax_Display': {\"margin\": 4}}\n",
        "                }\n",
        "        });\n",
        "</script>"
       ],
       "metadata": {},
       "output_type": "display_data",
       "text": [
        "<IPython.core.display.HTML at 0x105d88a90>"
       ]
      }
     ],
     "prompt_number": 1
    },
    {
     "cell_type": "markdown",
     "metadata": {},
     "source": [
      "Contenido\n",
      "=====\n",
      "\n",
      "El curso consiste en 24 horas de tutoriales y practicas usando el lenguaje de programacion Python para crear una aplicacion que puede, al menos en principios, implementarse en un dispositivo Android.\n",
      "\n",
      "Las 24 horas se cubriran en 3 dias, 8 horas cada uno de tal manera que cada dia habra dos sesiones de aproximadamente 4 hrs. cada una. Cubriremos los siguiente temas\n",
      "\n",
      "1. Showcase de Python y la tecnologia de IPython Notebook\n",
      "2. Git y control de revision\n",
      "3. Introduccion al lenguaje de programacion Python y IPython\n",
      "4. Introduccion al procesamiento de Datos:\n",
      "    1. usando `python`\n",
      "    2. usando `pandas`\n",
      "5. \"Computo en la nube\" y computo paralelo con IPython\n",
      "6. Aplicaciones moviles con Python: Kivy"
     ]
    },
    {
     "cell_type": "markdown",
     "metadata": {},
     "source": [
      "#Dia 1:\n",
      "## Python y IPython notebooks\n",
      "\n",
      "Cubriremos\n",
      "\n",
      "1. Instalacion\n",
      "2. Configuracion\n",
      "3. Ejecutando codigo\n",
      "4. Usando IPython Notebook\n",
      "\n",
      "## Git y control de revision\n",
      "\n",
      "Utilizando IPython Notebook introduciremos los elementos esenciales del sistema de revision de software `git`, el cual sera utilizado durante el curso para llevar control de sus actividades y ejercicios.\n",
      "\n",
      "1. Instalacion y configuracion\n",
      "2. Usando git"
     ]
    },
    {
     "cell_type": "markdown",
     "metadata": {},
     "source": [
      "#Dia 2:\n",
      "## Python y Python Interactivo (IPython)\n",
      "Veremos mas a detalle los conceptos esenciales del lenguaje de programacion Python y la idea de Python interactivo desde la perspectiva de trabajo colaborativo y reproducible.\n",
      "\n",
      "1. Checando instalacion y configuracion\n",
      "2. Esenciales del lenguaje de programacion Python\n",
      "3. Analisis de datos usando (I)Python\n",
      "4. Analisis de datos usando la libreria `pandas`\n"
     ]
    },
    {
     "cell_type": "markdown",
     "metadata": {},
     "source": [
      "#Dia 3: \"Computo en la nube\" y computo paralelo con IPython\n",
      "\n",
      "## \"Computo en la nube\" con IPython\n",
      "Presentamos algunos metodos que ofrece el ambiente de IPython para acceder informacion en la nube\n",
      "\n",
      "1. Checando instalacion y configuracion\n",
      "2. Creando datos usando dispositivos moviles\n",
      "3. Distribuyendo nuestros datos en la nube\n",
      "4. Accesando datos en la nube\n",
      "\n",
      "## Esenciales de computo en paralelo con IPython\n",
      "\n",
      "1. Modelo paralelo de IPython \n",
      "2. Procesamiento de datos en paralelo\n",
      "\n",
      "## Aplicaciones moviles con Python\n",
      "Este dia desarrollaremos una aplicacion movil basica utilizando la libreria `Kivy`.\n",
      "\n",
      "1. Creando \"Hola clase!\"\n",
      "2. Distribuyendo \"Hola clase!\"\n",
      "3. Creando aplicaciones mas complejas"
     ]
    },
    {
     "cell_type": "code",
     "collapsed": false,
     "input": [],
     "language": "python",
     "metadata": {},
     "outputs": []
    },
    {
     "cell_type": "code",
     "collapsed": false,
     "input": [],
     "language": "python",
     "metadata": {},
     "outputs": []
    },
    {
     "cell_type": "code",
     "collapsed": false,
     "input": [],
     "language": "python",
     "metadata": {},
     "outputs": []
    },
    {
     "cell_type": "code",
     "collapsed": false,
     "input": [],
     "language": "python",
     "metadata": {},
     "outputs": []
    }
   ],
   "metadata": {}
  }
 ]
}