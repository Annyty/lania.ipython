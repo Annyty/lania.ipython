{
 "metadata": {
  "name": "",
  "signature": "sha256:cd21deb9f7c96dc68550f5b5527e34ab2ed16bf9f4ab4178aa74f6d3f7cd4ec5"
 },
 "nbformat": 3,
 "nbformat_minor": 0,
 "worksheets": [
  {
   "cells": [
    {
     "cell_type": "markdown",
     "metadata": {},
     "source": [
      "## Compartiendo Datos \n",
      "* Ahora vamos a compartir nuestros datos, en forma de imagenes digitales, dando credito a nuestro trabajo.\n",
      "* Ilustraremos el proceso usando (Figshare)[figshare.com]\n",
      "* Otros sitios pueden existir dependiendo de su disciplina ...\n",
      "\n",
      "## Localizar la imagen\n",
      "* Encuentren la(s) imagen(es) que acaban de adquirir con su telefono, en el sistema operativo local.\n",
      "* Subiremos una de ellas al servicio Figshare.\n",
      "* Ingresen al servicio\n",
      "*\n"
     ]
    },
    {
     "cell_type": "code",
     "collapsed": false,
     "input": [
      "import urllib\n",
      "import json\n",
      "\n",
      "destino = '/tmp/imagen.jpg'\n",
      "\n",
      "figshare_id = '1190169'\n",
      "figshare_url = 'http://api.figshare.com/v1/articles/%s' % figshare_id\n"
     ],
     "language": "python",
     "metadata": {},
     "outputs": [],
     "prompt_number": 7
    },
    {
     "cell_type": "markdown",
     "metadata": {},
     "source": [
      "##Solicitamos detalles del articulo de Figshare\n",
      "Usamos la REST API\n",
      "\n",
      "La respuesta viene en la estructura JSON"
     ]
    },
    {
     "cell_type": "code",
     "collapsed": false,
     "input": [
      "resp_json = urllib.urlopen(figshare_url)"
     ],
     "language": "python",
     "metadata": {},
     "outputs": [],
     "prompt_number": 2
    },
    {
     "cell_type": "markdown",
     "metadata": {},
     "source": [
      "## Ecnontrando el URL de descarga\n",
      "Podemos guardar la estructura JSOn en un obejto"
     ]
    },
    {
     "cell_type": "code",
     "collapsed": false,
     "input": [
      "info_articulo = json.load(resp_json)"
     ],
     "language": "python",
     "metadata": {},
     "outputs": [],
     "prompt_number": 3
    },
    {
     "cell_type": "markdown",
     "metadata": {},
     "source": [
      "y extraer el elemento \"download_url\":"
     ]
    },
    {
     "cell_type": "code",
     "collapsed": false,
     "input": [
      "img_download_url = info_articulo['items'][0]['files'][0]['download_url']\n",
      "# download_url: \"http://files.figshare.com/1700425/2014_10_01_22.24.30.jpg\","
     ],
     "language": "python",
     "metadata": {},
     "outputs": [],
     "prompt_number": 5
    },
    {
     "cell_type": "markdown",
     "metadata": {},
     "source": [
      "## Finalmente podemos descargar la imagen\n",
      "Usando el \"url\" de descarga podemos salvar la imagen al sistema de archivos local:"
     ]
    },
    {
     "cell_type": "code",
     "collapsed": false,
     "input": [
      "urllib.urlretrieve(img_download_url, destino)"
     ],
     "language": "python",
     "metadata": {},
     "outputs": [
      {
       "metadata": {},
       "output_type": "pyout",
       "prompt_number": 8,
       "text": [
        "('/tmp/imagen.jpg', <httplib.HTTPMessage instance at 0x10486ce60>)"
       ]
      }
     ],
     "prompt_number": 8
    },
    {
     "cell_type": "markdown",
     "metadata": {},
     "source": [
      "## Revisamos que la imagen existe\n",
      "Podemos usar el comando \"ls\""
     ]
    },
    {
     "cell_type": "code",
     "collapsed": false,
     "input": [
      "ls -lt /tmp/imagen.jpg"
     ],
     "language": "python",
     "metadata": {},
     "outputs": [
      {
       "output_type": "stream",
       "stream": "stdout",
       "text": [
        "-rw-r--r--  1 horacio  wheel  320487 Oct  1 22:59 /tmp/imagen.jpg\r\n"
       ]
      }
     ],
     "prompt_number": 9
    },
    {
     "cell_type": "markdown",
     "metadata": {},
     "source": [
      "# Ejercicio\n",
      "* Repitan el proceso con su imagen\n",
      "* Escriban en pantalla el contenido de la respuesta obtenida en formato JSON\n",
      "* Verifiquen que el archivo aparece en el sistema"
     ]
    }
   ],
   "metadata": {}
  }
 ]
}