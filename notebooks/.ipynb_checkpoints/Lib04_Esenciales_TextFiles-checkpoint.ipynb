{
 "metadata": {
  "name": "",
  "signature": "sha256:c4028bb22f08859d2866ec3e9cf14c32f9843de79384f52105eaa21a1fcc249f"
 },
 "nbformat": 3,
 "nbformat_minor": 0,
 "worksheets": [
  {
   "cells": [
    {
     "cell_type": "markdown",
     "metadata": {},
     "source": [
      "Esenciales de Python 4\n",
      "=====\n",
      "## Archivos de texto\n",
      "Un archivo de texto es cualquier archivo que continene unicamente caracteries legibles."
     ]
    },
    {
     "cell_type": "markdown",
     "metadata": {},
     "source": [
      "<div style=\"width: 33%; float: right;\">\n",
      "<a href=\"http://www.flickr.com/photos/dplmedmss/8644579302/\" title=\"Book of Hours, Latin with additions in Middle English; second page of the second Middle English prayer to Christ. Southern Netherlands (probably Bruges), ca. 1440, f.45r by Dunedin Public Libraries Medieval Manuscripts, on Flickr\"><img src=\"http://farm9.staticflickr.com/8529/8644579302_879e79aff1_q.jpg\" width=\"150\" height=\"150\" alt=\"Book of Hours, Latin with additions in Middle English; second page of the second Middle English prayer to Christ. Southern Netherlands (probably Bruges), ca. 1440, f.45r\"></a>\n",
      "</div>\n",
      "\n",
      "<div style=\"width: 33%; float: right;\">\n",
      "<a href=\"http://www.flickr.com/photos/mwichary/3249196669/\" title=\"Untitled by Marcin Wichary, on Flickr\"><img src=\"http://farm4.staticflickr.com/3051/3249196669_7f313c2fa7_q.jpg\" width=\"150\" height=\"150\" alt=\"Untitled\"></a>\n",
      "</div>\n",
      "\n",
      "<div style=\"width: 33%;\">\n",
      "<a href=\"http://www.flickr.com/photos/mwichary/2355783479/\" title=\"IBM 1403 printout (from the power-of-two program) by Marcin Wichary, on Flickr\"><img class=\"text-left\" src=\"http://farm3.staticflickr.com/2087/2355783479_ba8837ac18_q.jpg\" width=\"150\" height=\"150\" alt=\"IBM 1403 printout (from the power-of-two program)\"></a>\n",
      "</div>"
     ]
    },
    {
     "cell_type": "markdown",
     "metadata": {},
     "source": [
      "## Que hay en un archivo de texto\n",
      "Un caracter puede ser un numero como 3 o 7, o una letra del alfabeto. Juntos, se conocen en programacion como caracteres *alfanumericos*.\n",
      "\n",
      "Algunos simbolos como # o $ tambien constituyen caracteres, incluso otros como \u6c49 o \u0419. Cada uno de estos constituye un caracter individual.\n",
      "\n",
      "En algunos archivos de texto, los simbolos pueden tener un significado especial, por ejemplo los archivos con codigo de Python son un tipo de archivos de texto.\n",
      "\n",
      "Los archivos HTML son otros ejemplos de archivos de texto, aun cuando etiquetas de HTML, como  &lt;i&gt; or &lt;div&gt; tengan significados especiales para un navegador de internet, se representan y guardan como texto que puede verse en un editor."
     ]
    },
    {
     "cell_type": "markdown",
     "metadata": {},
     "source": [
      "# Que *no* hay en un archivo de texto\n",
      "\n",
      "Archivos binarios como cuyos formatos no estan hechos de caracteres legibles, como JPEGs, GIFs, MP3 o documentos binarios en formatos de Word o PDF *no* son archivos de texto."
     ]
    },
    {
     "cell_type": "code",
     "collapsed": false,
     "input": [
      "Image(url=\"http://forgifs.com/gallery/d/161206-4/Firefighter-kitten-slides-down-banister.gif?\")"
     ],
     "language": "python",
     "metadata": {},
     "outputs": [
      {
       "ename": "NameError",
       "evalue": "name 'Image' is not defined",
       "output_type": "pyerr",
       "traceback": [
        "\u001b[0;31m---------------------------------------------------------------------------\u001b[0m\n\u001b[0;31mNameError\u001b[0m                                 Traceback (most recent call last)",
        "\u001b[0;32m<ipython-input-1-fccf0b40fed7>\u001b[0m in \u001b[0;36m<module>\u001b[0;34m()\u001b[0m\n\u001b[0;32m----> 1\u001b[0;31m \u001b[0mImage\u001b[0m\u001b[0;34m(\u001b[0m\u001b[0murl\u001b[0m\u001b[0;34m=\u001b[0m\u001b[0;34m\"http://forgifs.com/gallery/d/161206-4/Firefighter-kitten-slides-down-banister.gif?\"\u001b[0m\u001b[0;34m)\u001b[0m\u001b[0;34m\u001b[0m\u001b[0m\n\u001b[0m",
        "\u001b[0;31mNameError\u001b[0m: name 'Image' is not defined"
       ]
      }
     ],
     "prompt_number": 1
    },
    {
     "cell_type": "markdown",
     "metadata": {},
     "source": [
      "La diferencia principal entre archivos de texto y archivos binarios es que estos ultimos requieren de programas especiales que interpreten el formato. Los archivos de texto pueden editarse con cualquier programa que edita texto y son sencillos para procesar en lenguajes como Python."
     ]
    },
    {
     "cell_type": "markdown",
     "metadata": {},
     "source": [
      "# Leyendo archivos en Python\n",
      "\n",
      "Descargen este archivo, [meses.txt](./meses.txt) que contiene los nombres de los meses del a\u00f1o\u00a0\n",
      "\n",
      "    Enero\n",
      "    Febrero\n",
      "    Marzo\n",
      "\n",
      "... etc"
     ]
    },
    {
     "cell_type": "markdown",
     "metadata": {},
     "source": [
      "Que creen que hacen las siguiente lineas de codigo?\n",
      "\n",
      "    f = open(\"meses.txt\")\n",
      "    print(f.read())\n",
      "\n",
      "Intenten ejecutarlo en una celda de IPython Notebook."
     ]
    },
    {
     "cell_type": "markdown",
     "metadata": {},
     "source": [
      "### Solucion:"
     ]
    },
    {
     "cell_type": "code",
     "collapsed": false,
     "input": [
      "Imprime los nombres de los meses..."
     ],
     "language": "python",
     "metadata": {},
     "outputs": []
    },
    {
     "cell_type": "markdown",
     "metadata": {},
     "source": [
      "## Que esta pasando?\n",
      "\n",
      "* La funcion `open` crea un objeto de la clase *file* (una forma de acceder los contenidos del archivo), el cual es guardado en la variable`f`."
     ]
    },
    {
     "cell_type": "markdown",
     "metadata": {},
     "source": [
      "* `f.read()` le indica al objeto que lea los contenidos completos del archivo, regresando una cadena con este contenido."
     ]
    },
    {
     "cell_type": "markdown",
     "metadata": {},
     "source": [
      "## Accesando un archivo por partes\n",
      "\n",
      "`read()` acepta un argumento, el numero maximo de caracteres a leer de un archivo."
     ]
    },
    {
     "cell_type": "markdown",
     "metadata": {},
     "source": [
      "Cuando `read()` llega al final de archivo, regresa una cadena vacia (cero caracteres, la cadena \"\")"
     ]
    },
    {
     "cell_type": "markdown",
     "metadata": {},
     "source": [
      "Pueden decir que hacen las siguientes lineas?\n",
      "\n",
      "    f = open(\"meses.txt\")\n",
      "    next = f.read(1)\n",
      "    while siguiente != \"\":\n",
      "        print(siguiente)\n",
      "        siguiente = f.read(1)"
     ]
    },
    {
     "cell_type": "markdown",
     "metadata": {},
     "source": [
      "### Solucion:"
     ]
    },
    {
     "cell_type": "markdown",
     "metadata": {},
     "source": [
      "Imprime el contenido del archivo, caracter por caracter, hasta que llega al final del archivo:\n",
      "\n",
      "    E\n",
      "    n\n",
      "    e\n",
      "    r\n",
      "    o\n",
      "    \n",
      "    F\n",
      "    e\n",
      "    b\n",
      "    r\n",
      "    e\n",
      "    r\n",
      "    o\n",
      "    \n",
      "    M\n",
      "    a\n",
      "    r\n",
      "\n",
      "... etc."
     ]
    },
    {
     "cell_type": "markdown",
     "metadata": {},
     "source": [
      "### Pregunta #1\n",
      "\n",
      "Que hace la instrucci\u00f3n `while` en el c\u00f3digo anterior? En que momento el programa se sale de la recursi\u00f3n?\n",
      "\n",
      "Piensen en el valor de la variable `siguiente` cada vez que se evalua durante la recursi\u00f3n. Que pasa cuando se llega al final del archivo?"
     ]
    },
    {
     "cell_type": "markdown",
     "metadata": {},
     "source": [
      "### Pregunta #2\n",
      "\n",
      "Que pasaria si reemplazan los `read(1)`s en el c\u00f3digo anterior con `read(2)`s? Piensen primero en la respuesta, escriban su idea y despues vean que pasa!"
     ]
    },
    {
     "cell_type": "markdown",
     "metadata": {},
     "source": [
      "# Leyendo el archivo linea por linea\n",
      "\n",
      "Hasta ahora hemos leido el archivo completo o un numero de caracteres del archivo. Pero, si queremos leer una sola linea del archivo?"
     ]
    },
    {
     "cell_type": "markdown",
     "metadata": {},
     "source": [
      "## Como se representan lineas\n",
      "\n",
      "En los archivos de texto, las lineas se separan por caracteres no visibles que marcan el *fin de una linea*. Caracteres como estos, no visibles, suelen llamarse de control."
     ]
    },
    {
     "cell_type": "markdown",
     "metadata": {},
     "source": [
      "En Python, el caracter de control para el fin de una linea siempre se representa como `\\n`. Siempre que quieran separar una linea pueden usar el caracter `\\n`. Por ejemplo,\n",
      "\n",
      "    print(\"Quiero dos lineas!\\nEl caracter de linea nueva me permite hacerlo.\")"
     ]
    },
    {
     "cell_type": "markdown",
     "metadata": {},
     "source": [
      "Produce:\n",
      "\n",
      "    Quiero dos lineas!\n",
      "    El caracter de linea nueva me permite hacerlo."
     ]
    },
    {
     "cell_type": "markdown",
     "metadata": {},
     "source": [
      "Caracteres de control como `\\n` tienen su origen cuando las computadoras tenian interfaces tipo maquinas de escribir. Este tipo de caracteres tenian un significado literal como *Presione la palanca de retorno* o *Presionea el boton de linea de alimentacion*.\n",
      "\n",
      "<a href=\"http://www.flickr.com/photos/dancentury/3916969051/\" title=\"Teletype Machine, DanCentury, on Flickr\"><img src=\"http://farm3.staticflickr.com/2553/3916969051_ecc076867e.jpg\" width=\"500\" height=\"375\" alt=\"A Teletype Machine\"></a>"
     ]
    },
    {
     "cell_type": "markdown",
     "metadata": {},
     "source": [
      "### Basta de maquinas de escribir!\n",
      "\n",
      "Regresando a los archivos en Python. Para leer una archivo linea por linea podriamos leer caracter por caracter usando `.read(1)`, hasta llegar a un caracter de linea nueva `\\n`.\n",
      "\n",
      "Hay una manera mas simple de hacer esto, usando el metodo `.readline()` en lugar de `.read()`.\n",
      "\n",
      "Modifiquemos el ejemplo anterior donde se lee caracter por caracter para que lea el archivo linea por linea.\n",
      "\n",
      "Tip: en IPython Notebook, podemos copiar el contenido completo de una celda y pegarlo en otra para no tener que reescribir todo el codigo..."
     ]
    },
    {
     "cell_type": "markdown",
     "metadata": {},
     "source": [
      "### Solucion:\n",
      "\n",
      "    f = open(\"meses.txt\")\n",
      "    next = f.readline()\n",
      "    while next != \"\":\n",
      "        print(next)\n",
      "        next = f.readline()"
     ]
    },
    {
     "cell_type": "markdown",
     "metadata": {},
     "source": [
      "Como se ve esto?"
     ]
    },
    {
     "cell_type": "code",
     "collapsed": false,
     "input": [
      "f = open('meses.txt')\n",
      "next = f.readline()\n",
      "while next != '':\n",
      "    print(next)\n",
      "    next = f.readline()"
     ],
     "language": "python",
     "metadata": {},
     "outputs": [
      {
       "output_type": "stream",
       "stream": "stdout",
       "text": [
        "Enero\n",
        "\n",
        "Febrero\n",
        "\n",
        "Marzo\n",
        "\n",
        "Abril\n",
        "\n",
        "Mayo\n",
        "\n",
        "Junio\n",
        "\n",
        "Julio\n",
        "\n",
        "Agosto\n",
        "\n",
        "Septiembre\n",
        "\n",
        "Octubre\n",
        "\n",
        "Noviembre\n",
        "\n",
        "Diciembre\n"
       ]
      }
     ],
     "prompt_number": 3
    },
    {
     "cell_type": "markdown",
     "metadata": {},
     "source": [
      "Es esto lo que esperabamos?"
     ]
    },
    {
     "cell_type": "markdown",
     "metadata": {},
     "source": [
      "... `readline()` tambien retorna una nueva linea '\\n' al final de cada linea y `print` automaticamente agrega una nueva linea, resultando en dos nuevas lineas y por lo tanto un espacio o una linea vacia entre cada uno de los contenidos del archivo."
     ]
    },
    {
     "cell_type": "markdown",
     "metadata": {},
     "source": [
      "Podemos quitar lineas y otros caracteres \"blancos\" del final de una cadena usando el metodo [.strip() method](http://docs.python.org/3.3/library/stdtypes.html#str.strip). "
     ]
    },
    {
     "cell_type": "markdown",
     "metadata": {},
     "source": [
      "Usemos este metodo para remover los saltos de linea en el codigo anterior:"
     ]
    },
    {
     "cell_type": "code",
     "collapsed": false,
     "input": [
      "f = open('meses.txt')\n",
      "next = f.readline()\n",
      "while next != '':\n",
      "    print(next.strip())\n",
      "    next = f.readline()"
     ],
     "language": "python",
     "metadata": {},
     "outputs": [
      {
       "output_type": "stream",
       "stream": "stdout",
       "text": [
        "Enero\n",
        "Febrero\n",
        "Marzo\n",
        "Abril\n",
        "Mayo\n",
        "Junio\n",
        "Julio\n",
        "Agosto\n",
        "Septiembre\n",
        "Octubre\n",
        "Noviembre\n",
        "Diciembre\n"
       ]
      }
     ],
     "prompt_number": 5
    },
    {
     "cell_type": "code",
     "collapsed": false,
     "input": [
      "f = open('meses.txt')\n",
      "next = f.readline()\n",
      "while next != '':\n",
      "    next = next.strip()\n",
      "    print(next)\n",
      "    next = f.readline()"
     ],
     "language": "python",
     "metadata": {},
     "outputs": [
      {
       "output_type": "stream",
       "stream": "stdout",
       "text": [
        "Enero\n",
        "Febrero\n",
        "Marzo\n",
        "Abril\n",
        "Mayo\n",
        "Junio\n",
        "Julio\n",
        "Agosto\n",
        "Septiembre\n",
        "Octubre\n",
        "Noviembre\n",
        "Diciembre\n"
       ]
      }
     ],
     "prompt_number": 6
    },
    {
     "cell_type": "markdown",
     "metadata": {},
     "source": [
      "Por default, `strip` quita caracteres blancos al final de una cadena, incluyendo `\\n`, y `tabs` o espacios. Pueden especificar solamente quitar `\\n` y nada mas:\n",
      "\n",
      "    next = next.strip(\"\\n\")\n",
      "    print(next)"
     ]
    },
    {
     "cell_type": "code",
     "collapsed": false,
     "input": [
      "f = open('meses.txt')\n",
      "next = f.readline()\n",
      "while next != '':\n",
      "    print(next.strip('\\n'))\n",
      "    next = f.readline()"
     ],
     "language": "python",
     "metadata": {},
     "outputs": [
      {
       "output_type": "stream",
       "stream": "stdout",
       "text": [
        "Enero\n",
        "Febrero\n",
        "Marzo\n",
        "Abril\n",
        "Mayo\n",
        "Junio\n",
        "Julio\n",
        "Agosto\n",
        "Septiembre\n",
        "Octubre\n",
        "Noviembre\n",
        "Diciembre\n"
       ]
      }
     ],
     "prompt_number": 9
    },
    {
     "cell_type": "markdown",
     "metadata": {},
     "source": [
      "## Leyendo una linea completa\n",
      "\n",
      "`readline()` nos permite leer un archivo linea por linea, pero hay otras formas mas faciles de leer un archivo:\n",
      "\n",
      "    f = open(\"meses.txt\")\n",
      "    print(f.readlines())"
     ]
    },
    {
     "cell_type": "code",
     "collapsed": false,
     "input": [
      "f = open('meses.txt')\n",
      "print f.readlines()"
     ],
     "language": "python",
     "metadata": {},
     "outputs": [
      {
       "output_type": "stream",
       "stream": "stdout",
       "text": [
        "['Enero\\n', 'Febrero\\n', 'Marzo\\n', 'Abril\\n', 'Mayo\\n', 'Junio\\n', 'Julio\\n', 'Agosto\\n', 'Septiembre\\n', 'Octubre\\n', 'Noviembre\\n', 'Diciembre']\n"
       ]
      }
     ],
     "prompt_number": 10
    },
    {
     "cell_type": "markdown",
     "metadata": {},
     "source": [
      "El metodo `readlines()` lee todas las lineas en un archivo y regresa un lista de Python"
     ]
    },
    {
     "cell_type": "markdown",
     "metadata": {},
     "source": [
      "Podemos iterar sobre esta lista de la siguiente forma:\n",
      "\n",
      "    f = open(\"months.txt\")\n",
      "    for month in f.readlines():\n",
      "       print(\"Month \" + month.strip())"
     ]
    },
    {
     "cell_type": "code",
     "collapsed": false,
     "input": [
      "f = open(\"meses.txt\")\n",
      "for mes in f.readlines():\n",
      "    print(\"Mes \" + mes.strip())"
     ],
     "language": "python",
     "metadata": {},
     "outputs": [
      {
       "output_type": "stream",
       "stream": "stdout",
       "text": [
        "Mes Enero\n",
        "Mes Febrero\n",
        "Mes Marzo\n",
        "Mes Abril\n",
        "Mes Mayo\n",
        "Mes Junio\n",
        "Mes Julio\n",
        "Mes Agosto\n",
        "Mes Septiembre\n",
        "Mes Octubre\n",
        "Mes Noviembre\n",
        "Mes Diciembre\n"
       ]
      }
     ],
     "prompt_number": 12
    },
    {
     "cell_type": "markdown",
     "metadata": {},
     "source": [
      "De hecho, no es necesario hacer un llamado a `readlines()` - Python asume que si quieren iterar un archivo usando un `for`, probablemente quieren hacerlo linea por linea:\n",
      "\n",
      "    f = open(\"months.txt\")\n",
      "    for month in f:\n",
      "       print(\"Month \" + month.strip())"
     ]
    },
    {
     "cell_type": "code",
     "collapsed": false,
     "input": [
      "f = open('meses.txt')\n",
      "for mes in f:\n",
      "    print 'Mes '+mes.strip()"
     ],
     "language": "python",
     "metadata": {},
     "outputs": [
      {
       "output_type": "stream",
       "stream": "stdout",
       "text": [
        "Mes Enero\n",
        "Mes Febrero\n",
        "Mes Marzo\n",
        "Mes Abril\n",
        "Mes Mayo\n",
        "Mes Junio\n",
        "Mes Julio\n",
        "Mes Agosto\n",
        "Mes Septiembre\n",
        "Mes Octubre\n",
        "Mes Noviembre\n",
        "Mes Diciembre\n"
       ]
      }
     ],
     "prompt_number": 13
    },
    {
     "cell_type": "markdown",
     "metadata": {},
     "source": [
      "# Escribiendo archivos\n",
      "\n",
      "Cuando \"abren\" un archivo usando `open()`, pueden especificar el *modo*, es decir pueden indicarle a Python que es lo que quieren hacer con el archivo."
     ]
    },
    {
     "cell_type": "markdown",
     "metadata": {},
     "source": [
      "El modo por default es `r`, por \"read\" en ingles; otro modo es `w` por \"write\", que permite escribir al archivo\n",
      "\n",
      "    f = open(\"awesomenewfile.txt\", \"w\")"
     ]
    },
    {
     "cell_type": "markdown",
     "metadata": {},
     "source": [
      "Tip: el modod \"write\" (`w`) escribira por completo los contenidos en el archivo, borrando todo lo que tenian previamente!"
     ]
    },
    {
     "cell_type": "markdown",
     "metadata": {},
     "source": [
      "Existen muchisimos modos de abrir un archivo, `r` y `w` son de los mas comunes. La [lista completa esta en la documentacion](http://docs.python.org/3/library/functions.html#open) o la pueden consultar escribiendo `open?` en IPython Notebook y ejecutando la celda."
     ]
    },
    {
     "cell_type": "markdown",
     "metadata": {},
     "source": [
      "### Ejemplo\n",
      "Escribir una cadena a un archivo.\n",
      "\n",
      "###Solucion\n",
      "Los objetos que representan archivos tienen metodos para escribir. Pueden revisar la ayuda correspondiente al objeto para darse una idea."
     ]
    },
    {
     "cell_type": "markdown",
     "metadata": {},
     "source": [
      "En IPython Notebook pueden escribir:\n",
      "\n",
      "    f = open(\"awesomenewfile.txt\", \"w\")\n",
      "    f?"
     ]
    },
    {
     "cell_type": "code",
     "collapsed": false,
     "input": [
      "f = open('archivonuevogenial.txt', 'w')\n",
      "f?"
     ],
     "language": "python",
     "metadata": {},
     "outputs": [],
     "prompt_number": 15
    },
    {
     "cell_type": "markdown",
     "metadata": {},
     "source": [
      "Tambien pueden escribir `f.` en una celda de IPython Notebook y presionar la tecla \"Tab\""
     ]
    },
    {
     "cell_type": "markdown",
     "metadata": {},
     "source": [
      "Esto mostrara una lista de posibles comandos (solo sirve si ya se ha asignado el valor a \"f\", es decir si han ejecutado la celda)."
     ]
    },
    {
     "cell_type": "code",
     "collapsed": false,
     "input": [
      "### Solution\n",
      "\n",
      "f = open(\"archivonuevogenial.txt\", \"w\")\n",
      "f.write(\"Mensaje Genial!\")\n",
      "f.close()"
     ],
     "language": "python",
     "metadata": {},
     "outputs": [],
     "prompt_number": 16
    },
    {
     "cell_type": "markdown",
     "metadata": {},
     "source": [
      "### Why do you use 'print' to write things on the console, but 'write' for files?\n",
      "\n",
      "I don't know. I think it's just been that way for as long as Python has been around.\n",
      "\n",
      "**There is one important difference between print and write**, `print()` automatically ends the line. `write()` doesn't, if you want to end the line you'll need to add the newline character `\\n` yourself.\n",
      "\n",
      "Can you write a program which creates a two line text file?\n",
      "\n",
      "### Closing Files\n",
      "\n",
      "The last part of the solution is to `close()` the file when you're done. This is good practice to \"clean up\" after yourself. Changes may not show up in the file until you've closed it.\n",
      "\n",
      "You can `close()` files that you've opened for reading as well.\n",
      "\n",
      "\n",
      "### Hint\n",
      "\n",
      "To look at the contents of a text file, you can open it in your text editor.\n",
      "\n",
      "Alternatively, if you're using OS X or Linux you can type `cat <filename>` in a terminal (not a Python interpreter, the plain terminal shell you run Python from), to print the contents out. In the Windows terminal, you can use `type <filename>` to do the same thing.\n",
      "\n",
      "### Solution:\n",
      "\n",
      "    f = open(\"mylongfile.txt\", \"w\")\n",
      "    f.write(\"First line\\n\")\n",
      "    f.write(\"Second line\")\n",
      "    f.close()\n",
      "\n",
      "### Exercise!\n",
      "\n",
      "If you want to try all this out, here's a quick exercise to make sure you've got everything down pat. First, use a text editor to create a plain text file with a few lines of random text. Then write a Python program that:\n",
      "\n",
      "1. Reads all the lines from your text file into a list.\n",
      "2. Appends something crazy to each line in the list. \" Ya mum!\" is nicely innapropriate, if you're struggling for ideas.\n",
      "3. Writes all lines in that list into a new file. Check out your handy work by looking in the new file!\n",
      "\n",
      "When writing to the files, remember that `print()` adds a newline but with `write()` you have to add the newline yourself.\n",
      "\n",
      "If you're not sure where to start, one approach is to modify one of the solutions to the previous exercises. If you get stuck, remember you can always call over a coach for some advice.\n",
      "\n",
      "## Next Chapter\n",
      "\n",
      "Now we're ready to process some of the text data from the files, in [Working With Strings](strings.html)."
     ]
    },
    {
     "cell_type": "code",
     "collapsed": false,
     "input": [],
     "language": "python",
     "metadata": {},
     "outputs": []
    }
   ],
   "metadata": {}
  }
 ]
}