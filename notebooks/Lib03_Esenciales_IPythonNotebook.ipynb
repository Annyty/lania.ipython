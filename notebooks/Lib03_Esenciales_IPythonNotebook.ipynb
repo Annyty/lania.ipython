{
 "metadata": {
  "name": "",
  "signature": "sha256:ca735172d667c344e02010a6998e3b8f5a9710c9f4b4c6b4a9dcede52b9572d4"
 },
 "nbformat": 3,
 "nbformat_minor": 0,
 "worksheets": [
  {
   "cells": [
    {
     "cell_type": "markdown",
     "metadata": {},
     "source": [
      "Esenciales de Python 3\n",
      "=====\n",
      "\n",
      "Hasta ahora hemos usado Python a traves de una consola conectada al interprete interactivo, o escribiendo programas usando un editor de textos.\n",
      "\n",
      "Existe sin embargo, otras formas de trabajar con Python. "
     ]
    },
    {
     "cell_type": "markdown",
     "metadata": {},
     "source": [
      "![http://ipython.org/_static/IPy_header.png](http://ipython.org/_static/IPy_header.png)\n",
      "\n",
      "[IPython](http://ipython.org/) es un conjunto de herramientas originalmente desarrolladas para hacer mas facil el trabajo de cientificos usando Python y datos. Permite combinar Python de manera exploratorio e interactiva con otros programas e incluso con texto y ecuaciones.\n",
      "\n",
      "*IPython no es un lenguaje de programacion distinto, es solo un conjunto de programas para trabajar con Python.*"
     ]
    },
    {
     "cell_type": "markdown",
     "metadata": {},
     "source": [
      "# La libreta de IPython (IPython Notebook)\n",
      "\n",
      "La IPython notebook, parte del proyecto de IPython(ipython.org) es un ambiente computacional interactivo web (se ejecuta en un navegador por medio de un servidor web) en el cual se puede combinar la ejecucionde codigo, texto, matematicas, graficas y contenido, en un solo documento.\n",
      "\n",
      "![IPython Notebook](http://ipython.org/_static/ipy_0.13.png)"
     ]
    },
    {
     "cell_type": "markdown",
     "metadata": {},
     "source": [
      "## Iniciando las IPython Notebook\n",
      "\n",
      "La interaccion con IPython Notebook es a traves de un navegador de internet. El programa crea un \"servidor web\" local en su computadora al que se conecta.\n",
      "\n",
      "En Windows, puede encontrarse un programa para IPython Notebook bajo Anaconda en el menu de inicio.\n",
      "\n",
      "En Linux o en OS X, IPython Notebook puede inicializarse desde la linea de comando, abriendo una terminal, navegando a un directorio donde se desean guardar los archivos y documentos de las libretas (usando 'cd') y desde esa ruta escribiendo el siguiente comando:\n",
      "\n",
      "    ipython notebook"
     ]
    },
    {
     "cell_type": "markdown",
     "metadata": {},
     "source": [
      "Si observan la terminal, veran algo como esto:\n",
      "\n",
      "    [NotebookApp] Using existing profile dir: u'/home/gus/.ipython/profile_default'\n",
      "    [NotebookApp] Serving notebooks from /home/gus/workshops\n",
      "    [NotebookApp] The IPython Notebook is running at: http://127.0.0.1:8888/\n",
      "    [NotebookApp] Use Control-C to stop this server and shut down all kernels."
     ]
    },
    {
     "cell_type": "markdown",
     "metadata": {},
     "source": [
      "Automaticamente debe abrirse un navegador de internet mostrando la interface de IPython Notebook. En caso contrario puede copiarse la direccion en la barra del navegador.\n",
      "\n",
      "A pesar de que interactuan con IPython Notebook usando su navegador, Notebook corre y ejecuta en su computadora en ese ventana. Solamente ustedes tienen acceso a ella."
     ]
    },
    {
     "cell_type": "markdown",
     "metadata": {},
     "source": [
      "## Primeros pasos\n",
      "\n",
      "In your browser, click the \"New Notebook\" button and a new notebook will open up.\n",
      "\n",
      "![IPython Notebook empty][ipn-empty]\n",
      "\n",
      "The empty box at the top is the first \"cell\" for entering Python code.\n",
      "\n",
      "Try typing something like `print(\"Hello World\")` into the cell. To run the code in the cell and see the output, click the Run button (play icon) on the toolbar, or type Shift-Enter:\n",
      "\n",
      "![IPython Notebook Hello World][ipn-hello]\n",
      "\n",
      "You'll see that whenever you run a cell, a new empty cell appears where you can enter another set of Python statements. Try assigning a variable. Let's make another shopping list:\n",
      "\n",
      "![IPython Notebook Assign Variable][ipn-variable]\n",
      "\n",
      "When you Run this cell you won't see any output, but behind the scenes the variable \"shopping list\" has been assigned.\n",
      "\n",
      "We can see this by making a third cell to print the contents:\n",
      "\n",
      "![IPython Notebook Print Shopping List][ipn-list]\n",
      "\n",
      "You can do anything with IPython Notebook cells that you'd do with normal Python code. As you build up the notebook full of cells you create a history of the things you've done and the results that were printed.\n",
      "\n",
      "## IPython Notebook Directory\n",
      "\n",
      "When IPython Notebook starts up it prints a line like this:\n",
      "\n",
      "    [NotebookApp] Serving notebooks from /home/gus/workshops\n",
      "\n",
      "This is the directory that it was started from, and it's the working directory for loading Python files, text files, etc.\n",
      "\n",
      "It can be helpful to make sure this directory is the directory where you plan to keep files related to your work.\n",
      "\n",
      "On Windows with Anaconda this directory is called \"IPython Notebooks\" inside \"My Documents\", and is created when you install Anaconda. On OS X, Linux or other Windows installations it's up to you which directory you use.\n",
      "\n",
      "If you're launching from the command line, you can 'cd' to this directory before you launch Notebook.\n",
      "\n",
      "If you're using the command line on Windows, you can use Explorer to find your directory, then hold shift+right click. The context menu that comes up should have an option to \"Start a command prompt here\".\n",
      "\n",
      "\n",
      "## Loading Notebook Files\n",
      "\n",
      "You can also load IPython Notebooks that other people have created, saved as IPython Notebook files (File extension .ipynb.) Try [downloading and opening this Notebook file with the shopping list example](../files/shopping_list.ipynb).\n",
      "\n",
      "After you download the Notebook file, move it into your IPython Notebook working directory and then choose File -> Open in Notebook to open it.\n",
      "\n",
      "That Notebook contains some additional code, and some suggestions for changes you can make by going back and editing the existing files. Take a few moments to play with the Notebook - rerun the cells, edit the cells to change them, don't be afraid to break things!\n",
      "\n",
      "## Loading Python Files\n",
      "\n",
      "You can also load a pre-existing Python file into an IPython Notebook cell by typing\n",
      "\n",
      "    %load \"myprogram.py\"\n",
      "\n",
      "Into a cell and running it. This loads up a new cell containing the contents of *myprogram.py*.\n",
      "\n",
      "Test this feature out by loading one of the scripts you wrote during the recap session. You may have to specify the full path to the script file, depending on the directory IPython Notebook started up from.\n",
      "\n",
      "There is one other useful built-in tool for working with Python files:\n",
      "\n",
      "    %run \"myprogram.py\"\n",
      "\n",
      "This will run *myprogram.py* and load the output into a Notebook cell.\n",
      "\n",
      "## Other IPython tips\n",
      "\n",
      "* As well as Shift-Enter there are other keyboard shortcuts in Notebook. Look under the Help menu -> Keyboard Shortcuts to see them all.\n",
      "\n",
      "* In previous workshops we used `help()` to view help information in the Python interpreter. IPython Notebook makes this even simpler, you can just type the name of a Python function or module and end it with a `?`. Try it now, type `range?` into a cell and run it.\n",
      "\n",
      "* Using a nifty tool called NBViewer you can easily share IPython Notebooks on the internet, rendered as web pages (but still downloadable to play with in IPython.) Check out the [NBViewer home page](http://nbviewer.ipython.org/) or the [IPython Notebook gallery](https://github.com/ipython/ipython/wiki/A-gallery-of-interesting-IPython-Notebooks) for some interesting ones.\n",
      "\n",
      "## Other Ways to Run IPython\n",
      "\n",
      "Other options if you feel like exploring:\n",
      "\n",
      "* There is a command line \"ipython\" program (just run `ipython` without the --notebook argument) that behaves similarly to the \"python\" interactive shell, but with some of the nice features of IPython Notebook (although none of the graphical features.)\n",
      "\n",
      "* There is a graphical IPython program (ie not web browser based) called \"IPython QtConsole\". It's like the command line IPython but with some graphical features. Launch this one by running `ipython qtconsole`.\n",
      "\n",
      "\n",
      "## Doing the workshop without IPython\n",
      "\n",
      "Tried out IPython Notebook but don't really like it? No problem! The rest of the workshop can be completed without using IPython Notebook at all, feel free to go back to the Python coding tools you were using already."
     ]
    },
    {
     "cell_type": "markdown",
     "metadata": {},
     "source": [
      "##  Modulo siguiente\n",
      "\n",
      "Demosle a la Notebook algo de trabajo real! El siguiente modulo es [Working With Text Files](text-files.html)\n",
      "\n",
      "[ipn-example]: ../images/ipython_example.png\n",
      "[ipn-empty]: ../images/ipython_notebook.png\n",
      "[ipn-hello]: ../images/notebook_hello_world.png\n",
      "[ipn-variable]: ../images/assign_shopping_list.png\n",
      "[ipn-list]: ../images/print_shopping_list.png"
     ]
    },
    {
     "cell_type": "code",
     "collapsed": false,
     "input": [],
     "language": "python",
     "metadata": {},
     "outputs": []
    }
   ],
   "metadata": {}
  }
 ]
}