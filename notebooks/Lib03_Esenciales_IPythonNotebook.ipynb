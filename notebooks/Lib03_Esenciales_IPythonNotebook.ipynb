{
 "metadata": {
  "name": "",
<<<<<<< HEAD
  "signature": "sha256:ca735172d667c344e02010a6998e3b8f5a9710c9f4b4c6b4a9dcede52b9572d4"
=======
  "signature": "sha256:1f48a7f8752265e2d586f8a343704922f060e956d6f66891424288b6bb274eca"
>>>>>>> FETCH_HEAD
 },
 "nbformat": 3,
 "nbformat_minor": 0,
 "worksheets": [
  {
   "cells": [
    {
     "cell_type": "markdown",
     "metadata": {},
     "source": [
      "Esenciales de Python 3\n",
      "=====\n",
      "\n",
      "Hasta ahora hemos usado Python a traves de una consola conectada al interprete interactivo, o escribiendo programas usando un editor de textos.\n",
      "\n",
      "Existe sin embargo, otras formas de trabajar con Python. "
     ]
    },
    {
     "cell_type": "markdown",
     "metadata": {},
     "source": [
      "![http://ipython.org/_static/IPy_header.png](http://ipython.org/_static/IPy_header.png)\n",
      "\n",
      "[IPython](http://ipython.org/) es un conjunto de herramientas originalmente desarrolladas para hacer mas facil el trabajo de cientificos usando Python y datos. Permite combinar Python de manera exploratorio e interactiva con otros programas e incluso con texto y ecuaciones.\n",
      "\n",
      "*IPython no es un lenguaje de programacion distinto, es solo un conjunto de programas para trabajar con Python.*"
     ]
    },
    {
     "cell_type": "markdown",
     "metadata": {},
     "source": [
      "# La libreta de IPython (IPython Notebook)\n",
      "\n",
      "La IPython notebook, parte del proyecto de IPython(ipython.org) es un ambiente computacional interactivo web (se ejecuta en un navegador por medio de un servidor web) en el cual se puede combinar la ejecucionde codigo, texto, matematicas, graficas y contenido, en un solo documento.\n",
      "\n",
      "![IPython Notebook](http://ipython.org/_static/ipy_0.13.png)"
     ]
    },
    {
     "cell_type": "markdown",
     "metadata": {},
     "source": [
      "## Iniciando las IPython Notebook\n",
      "\n",
      "La interaccion con IPython Notebook es a traves de un navegador de internet. El programa crea un \"servidor web\" local en su computadora al que se conecta.\n",
      "\n",
      "En Windows, puede encontrarse un programa para IPython Notebook bajo Anaconda en el menu de inicio.\n",
      "\n",
      "En Linux o en OS X, IPython Notebook puede inicializarse desde la linea de comando, abriendo una terminal, navegando a un directorio donde se desean guardar los archivos y documentos de las libretas (usando 'cd') y desde esa ruta escribiendo el siguiente comando:\n",
      "\n",
      "    ipython notebook"
     ]
    },
    {
     "cell_type": "markdown",
     "metadata": {},
     "source": [
      "Si observan la terminal, veran algo como esto:\n",
      "\n",
      "    htapia@gpu-sensores:~$ ipython notebook\n",
      "    2014-09-22 09:28:30.409 [NotebookApp] Using existing profile dir: u'/home/htapia/.ipython/profile_default'\n",
      "    2014-09-22 09:28:30.431 [NotebookApp] Using MathJax from CDN: http://cdn.mathjax.org/mathjax/latest/MathJax.js\n",
      "    2014-09-22 09:28:30.467 [NotebookApp] Serving notebooks from local directory: /home/htapia\n",
      "    2014-09-22 09:28:30.467 [NotebookApp] 0 active kernels \n",
      "    2014-09-22 09:28:30.467 [NotebookApp] The IPython Notebook is running at: http://localhost:8888/\n",
      "    2014-09-22 09:28:30.467 [NotebookApp] Use Control-C to stop this server and shut down all kernels (twice to skip confirmation).\n",
      "    Created new window in existing browser session."
     ]
    },
    {
     "cell_type": "markdown",
     "metadata": {},
     "source": [
      "Automaticamente debe abrirse un navegador de internet mostrando la interface de IPython Notebook. En caso contrario puede copiarse la direccion en la barra del navegador.\n",
      "\n",
      "A pesar de que interactuan con IPython Notebook usando su navegador, Notebook corre y ejecuta en su computadora en ese ventana. Solamente ustedes tienen acceso a ella."
     ]
    },
    {
     "cell_type": "markdown",
     "metadata": {},
     "source": [
      "## Primeros pasos\n",
      "\n",
      "En el navegador, presionen \"New Notebook\" para abrir una nueva libreta\n",
      "\n",
      "\n",
      "The empty box at the top is the first \"cell\" for entering Python code.\n",
      "\n",
      "Try typing something like `print(\"Hello World\")` into the cell. To run the code in the cell and see the output, click the Run button (play icon) on the toolbar, or type Shift-Enter:\n",
      "\n",
      "\n",
      "You'll see that whenever you run a cell, a new empty cell appears where you can enter another set of Python statements. Try assigning a variable. Let's make another shopping list:\n",
      "\n",
      "\n",
      "When you Run this cell you won't see any output, but behind the scenes the variable \"shopping list\" has been assigned.\n",
      "\n",
      "We can see this by making a third cell to print the contents:\n",
      "\n",
      "You can do anything with IPython Notebook cells that you'd do with normal Python code. As you build up the notebook full of cells you create a history of the things you've done and the results that were printed."
     ]
    },
    {
     "cell_type": "markdown",
     "metadata": {},
     "source": [
      "## El directorio de IPython Notebook\n",
      "\n",
      "Al iniciar, IPython Notebook muestra una linea como esta:\n",
      "\n",
      "    [NotebookApp] Serving notebooks from local directory: /home/htapia\n",
      "\n",
      "Este es el directorio desde donde se incia la aplicacion. La version mas reciente de IPython Notebook permite la navegacion entre directorios.\n",
      "\n",
      "Es util mantener un orden en los directorios en donde se trabaja, por ejemplo en referencia al proyecto que se esta desarrollando."
     ]
    },
    {
     "cell_type": "markdown",
     "metadata": {},
     "source": [
      "## Navegando el sistema de archivos Notebook\n",
      "\n",
      "Pueden descargar libretas hechas por otras personas y guardadas en el formato de IPython Notebook (archivo con extension .ipynb). Por ejemplo si [descargan la libreta con el ejemplo de la lista del super](./\n",
      "lista_del_super.ipynb), pueden navegar a el lugar en donde la descargaron (generalmente el folder Descargas) y pueden abrirla navegando a `File -> Open`.\n",
      "\n",
      "Esta libreta contiene algunas lineas adicionales de codigo que pueden intentar para darse una idea de como funciona la libreta y la idea de programcion interactiva - re-ejecuten las celdas de codigo, editenlas, cambien, borren, etc."
     ]
    },
    {
     "cell_type": "markdown",
     "metadata": {},
     "source": [
      "## Abriendo archivos de Python\n",
      "\n",
      "Pueden cargar archivos de codigo de Python preexistentes desde la Libreta, escribiendo en una celda\n",
      "\n",
      "    %load miprograma.py\n",
      "\n",
      "Al ejecutar este comando, el contenido del codigo cargara en una nueva celda, de donde pueden ejecutarlo o modificarlo. Incluso funciona para codigos que se localizan en el internet. "
     ]
    },
    {
     "cell_type": "markdown",
     "metadata": {},
     "source": [
      "Otra funcionalidad que es de utilidad para trabajar con archivos de Python es:\n",
      "\n",
      "    %run miprograma.py\n",
      "\n",
      "Lo cual ejecutara el programa mostrando los resultados de salida en una celda nueva."
     ]
    },
    {
     "cell_type": "markdown",
     "metadata": {},
     "source": [
      "## Other IPython tips\n",
      "\n",
      "* As well as Shift-Enter there are other keyboard shortcuts in Notebook. Look under the Help menu -> Keyboard Shortcuts to see them all.\n",
      "\n",
      "* In previous workshops we used `help()` to view help information in the Python interpreter. IPython Notebook makes this even simpler, you can just type the name of a Python function or module and end it with a `?`. Try it now, type `range?` into a cell and run it.\n",
      "\n",
      "* Using a nifty tool called NBViewer you can easily share IPython Notebooks on the internet, rendered as web pages (but still downloadable to play with in IPython.) Check out the [NBViewer home page](http://nbviewer.ipython.org/) or the [IPython Notebook gallery](https://github.com/ipython/ipython/wiki/A-gallery-of-interesting-IPython-Notebooks) for some interesting ones.\n",
      "\n",
      "## Other Ways to Run IPython\n",
      "\n",
      "Other options if you feel like exploring:\n",
      "\n",
      "* There is a command line \"ipython\" program (just run `ipython` without the --notebook argument) that behaves similarly to the \"python\" interactive shell, but with some of the nice features of IPython Notebook (although none of the graphical features.)\n",
      "\n",
      "* There is a graphical IPython program (ie not web browser based) called \"IPython QtConsole\". It's like the command line IPython but with some graphical features. Launch this one by running `ipython qtconsole`.\n",
      "\n",
      "\n",
      "## Doing the workshop without IPython\n",
      "\n",
      "Tried out IPython Notebook but don't really like it? No problem! The rest of the workshop can be completed without using IPython Notebook at all, feel free to go back to the Python coding tools you were using already."
     ]
    },
    {
     "cell_type": "markdown",
     "metadata": {},
     "source": [
      "##  Modulo siguiente\n",
      "\n",
      "Demosle a la Notebook algo de trabajo real! El siguiente modulo es [Working With Text Files](text-files.html)\n",
      "\n",
      "[ipn-example]: ../images/ipython_example.png\n",
      "[ipn-empty]: ../images/ipython_notebook.png\n",
      "[ipn-hello]: ../images/notebook_hello_world.png\n",
      "[ipn-variable]: ../images/assign_shopping_list.png\n",
      "[ipn-list]: ../images/print_shopping_list.png"
     ]
    },
    {
     "cell_type": "code",
     "collapsed": false,
     "input": [
      "3920*2940/1000.\n"
     ],
     "language": "python",
     "metadata": {},
     "outputs": [
      {
       "metadata": {},
       "output_type": "pyout",
       "prompt_number": 2,
       "text": [
        "11524.8"
       ]
      }
     ],
     "prompt_number": 2
    },
    {
     "cell_type": "code",
     "collapsed": false,
     "input": [
      "5184*3456/1000."
     ],
     "language": "python",
     "metadata": {},
     "outputs": [
      {
       "metadata": {},
       "output_type": "pyout",
       "prompt_number": 4,
       "text": [
        "17915.904"
       ]
      }
     ],
     "prompt_number": 4
    },
    {
     "cell_type": "code",
     "collapsed": false,
     "input": [
      "2448**2/1000."
     ],
     "language": "python",
     "metadata": {},
     "outputs": [
      {
       "metadata": {},
       "output_type": "pyout",
       "prompt_number": 6,
       "text": [
        "5992.704"
       ]
      }
     ],
     "prompt_number": 6
    },
    {
     "cell_type": "code",
     "collapsed": false,
     "input": [],
     "language": "python",
     "metadata": {},
     "outputs": []
    }
   ],
   "metadata": {}
  }
 ]
}