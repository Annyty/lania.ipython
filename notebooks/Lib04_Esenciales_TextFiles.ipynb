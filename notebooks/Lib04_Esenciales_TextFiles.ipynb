{
 "metadata": {
  "name": "",
  "signature": "sha256:4d89cb77e4fe501726616ad749aa635965b8db471857e9671f2fb2e5af53e4a4"
 },
 "nbformat": 3,
 "nbformat_minor": 0,
 "worksheets": [
  {
   "cells": [
    {
     "cell_type": "markdown",
     "metadata": {},
     "source": [
      "Esenciales de Python 4\n",
      "=====\n",
      "## Archivos de texto\n",
      "Un archivo de texto es cualquier archivo que continene unicamente caracteries legibles."
     ]
    },
    {
     "cell_type": "markdown",
     "metadata": {},
     "source": [
      "<div style=\"width: 33%; float: right;\">\n",
      "<a href=\"http://www.flickr.com/photos/dplmedmss/8644579302/\" title=\"Book of Hours, Latin with additions in Middle English; second page of the second Middle English prayer to Christ. Southern Netherlands (probably Bruges), ca. 1440, f.45r by Dunedin Public Libraries Medieval Manuscripts, on Flickr\"><img src=\"http://farm9.staticflickr.com/8529/8644579302_879e79aff1_q.jpg\" width=\"150\" height=\"150\" alt=\"Book of Hours, Latin with additions in Middle English; second page of the second Middle English prayer to Christ. Southern Netherlands (probably Bruges), ca. 1440, f.45r\"></a>\n",
      "</div>\n",
      "\n",
      "<div style=\"width: 33%; float: right;\">\n",
      "<a href=\"http://www.flickr.com/photos/mwichary/3249196669/\" title=\"Untitled by Marcin Wichary, on Flickr\"><img src=\"http://farm4.staticflickr.com/3051/3249196669_7f313c2fa7_q.jpg\" width=\"150\" height=\"150\" alt=\"Untitled\"></a>\n",
      "</div>\n",
      "\n",
      "<div style=\"width: 33%;\">\n",
      "<a href=\"http://www.flickr.com/photos/mwichary/2355783479/\" title=\"IBM 1403 printout (from the power-of-two program) by Marcin Wichary, on Flickr\"><img class=\"text-left\" src=\"http://farm3.staticflickr.com/2087/2355783479_ba8837ac18_q.jpg\" width=\"150\" height=\"150\" alt=\"IBM 1403 printout (from the power-of-two program)\"></a>\n",
      "</div>"
     ]
    },
    {
     "cell_type": "markdown",
     "metadata": {},
     "source": [
      "## Que hay en un archivo de texto\n",
      "Un caracter puede ser un numero como 3 o 7, o una letra del alfabeto. Juntos, se conocen en programacion como caracteres *alfanumericos*.\n",
      "\n",
      "Algunos simbolos como # o $ tambien constituyen caracteres, incluso otros como \u6c49 o \u0419. Cada uno de estos constituye un caracter individual.\n",
      "\n",
      "En algunos archivos de texto, los simbolos pueden tener un significado especial, por ejemplo los archivos con codigo de Python son un tipo de archivos de texto.\n",
      "\n",
      "Los archivos HTML son otros ejemplos de archivos de texto, aun cuando etiquetas de HTML, como  &lt;i&gt; or &lt;div&gt; tengan significados especiales para un navegador de internet, se representan y guardan como texto que puede verse en un editor."
     ]
    },
    {
     "cell_type": "markdown",
     "metadata": {},
     "source": [
      "# Que *no* hay en un archivo de texto\n",
      "\n",
      "Archivos binarios como cuyos formatos no estan hechos de caracteres legibles, como JPEGs, GIFs, MP3 o documentos binarios en formatos de Word o PDF *no* son archivos de texto."
     ]
    },
    {
     "cell_type": "code",
     "collapsed": false,
     "input": [
      "Image(url=\"http://forgifs.com/gallery/d/161206-4/Firefighter-kitten-slides-down-banister.gif?\")"
     ],
     "language": "python",
     "metadata": {},
     "outputs": [
      {
       "ename": "NameError",
       "evalue": "name 'Image' is not defined",
       "output_type": "pyerr",
       "traceback": [
        "\u001b[0;31m---------------------------------------------------------------------------\u001b[0m\n\u001b[0;31mNameError\u001b[0m                                 Traceback (most recent call last)",
        "\u001b[0;32m<ipython-input-1-fccf0b40fed7>\u001b[0m in \u001b[0;36m<module>\u001b[0;34m()\u001b[0m\n\u001b[0;32m----> 1\u001b[0;31m \u001b[0mImage\u001b[0m\u001b[0;34m(\u001b[0m\u001b[0murl\u001b[0m\u001b[0;34m=\u001b[0m\u001b[0;34m\"http://forgifs.com/gallery/d/161206-4/Firefighter-kitten-slides-down-banister.gif?\"\u001b[0m\u001b[0;34m)\u001b[0m\u001b[0;34m\u001b[0m\u001b[0m\n\u001b[0m",
        "\u001b[0;31mNameError\u001b[0m: name 'Image' is not defined"
       ]
      }
     ],
     "prompt_number": 1
    },
    {
     "cell_type": "markdown",
     "metadata": {},
     "source": [
      "La diferencia principal entre archivos de texto y archivos binarios es que estos ultimos requieren de programas especiales que interpreten el formato. Los archivos de texto pueden editarse con cualquier programa que edita texto y son sencillos para procesar en lenguajes como Python."
     ]
    },
    {
     "cell_type": "markdown",
     "metadata": {},
     "source": [
      "# Leyendo archivos en Python\n",
      "\n",
      "Descargen este archivo, [meses.txt](./meses.txt) que contiene los nombres de los meses del a\u00f1o\u00a0\n",
      "\n",
      "    Enero\n",
      "    Febrero\n",
      "    Marzo\n",
      "\n",
      "... etc"
     ]
    },
    {
     "cell_type": "markdown",
     "metadata": {},
     "source": [
      "Que creen que hacen las siguiente lineas de codigo?\n",
      "\n",
      "    f = open(\"meses.txt\")\n",
      "    print(f.read())\n",
      "\n",
      "Intenten ejecutarlo en una celda de IPython Notebook."
     ]
    },
    {
     "cell_type": "markdown",
     "metadata": {},
     "source": [
      "### Solucion:"
     ]
    },
    {
     "cell_type": "code",
     "collapsed": false,
     "input": [
      "Imprime los nombres de los meses..."
     ],
     "language": "python",
     "metadata": {},
     "outputs": []
    },
    {
     "cell_type": "markdown",
     "metadata": {},
     "source": [
      "## Que esta pasando?\n",
      "\n",
      "* La funcion `open` crea un objeto de la clase *file* (una forma de acceder los contenidos del archivo), el cual es guardado en la variable`f`."
     ]
    },
    {
     "cell_type": "markdown",
     "metadata": {},
     "source": [
      "* `f.read()` le indica al objeto que lea los contenidos completos del archivo, regresando una cadena con este contenido."
     ]
    },
    {
     "cell_type": "markdown",
     "metadata": {},
     "source": [
      "## Accesando un archivo por partes\n",
      "\n",
      "`read()` acepta un argumento, el numero maximo de caracteres a leer de un archivo."
     ]
    },
    {
     "cell_type": "markdown",
     "metadata": {},
     "source": [
      "Cuando `read()` llega al final de archivo, regresa una cadena vacia (cero caracteres, la cadena \"\")"
     ]
    },
    {
     "cell_type": "markdown",
     "metadata": {},
     "source": [
      "Pueden decir que hacen las siguientes lineas?\n",
      "\n",
      "    f = open(\"meses.txt\")\n",
      "    next = f.read(1)\n",
      "    while siguiente != \"\":\n",
      "        print(siguiente)\n",
      "        siguiente = f.read(1)"
     ]
    },
    {
     "cell_type": "markdown",
     "metadata": {},
     "source": [
      "### Solucion:"
     ]
    },
    {
     "cell_type": "markdown",
     "metadata": {},
     "source": [
      "Imprime el contenido del archivo, caracter por caracter, hasta que llega al final del archivo:\n",
      "\n",
      "    E\n",
      "    n\n",
      "    e\n",
      "    r\n",
      "    o\n",
      "    \n",
      "    F\n",
      "    e\n",
      "    b\n",
      "    r\n",
      "    e\n",
      "    r\n",
      "    o\n",
      "    \n",
      "    M\n",
      "    a\n",
      "    r\n",
      "\n",
      "... etc."
     ]
    },
    {
     "cell_type": "markdown",
     "metadata": {},
     "source": [
      "### Pregunta #1\n",
      "\n",
      "Que hace la instrucci\u00f3n `while` en el c\u00f3digo anterior? En que momento el programa se sale de la recursi\u00f3n?\n",
      "\n",
      "Piensen en el valor de la variable `siguiente` cada vez que se evalua durante la recursi\u00f3n. Que pasa cuando se llega al final del archivo?"
     ]
    },
    {
     "cell_type": "markdown",
     "metadata": {},
     "source": [
      "### Pregunta #2\n",
      "\n",
      "Que pasaria si reemplazan los `read(1)`s en el c\u00f3digo anterior con `read(2)`s? Piensen primero en la respuesta, escriban su idea y despues vean que pasa!"
     ]
    },
    {
     "cell_type": "markdown",
     "metadata": {},
     "source": [
      "# Leyendo el archivo linea por linea\n",
      "\n",
      "Hasta ahora hemos leido el archivo completo o un numero de caracteres del archivo. Pero, si queremos leer una sola linea del archivo?"
     ]
    },
    {
     "cell_type": "markdown",
     "metadata": {},
     "source": [
      "## Como se representan lineas\n",
      "\n",
      "En los archivos de texto, las lineas se separan por caracteres no visibles que marcan el *fin de una linea*. Caracteres como estos, no visibles, suelen llamarse de control."
     ]
    },
    {
     "cell_type": "markdown",
     "metadata": {},
     "source": [
      "En Python, el caracter de control para el fin de una linea siempre se representa como `\\n`. Siempre que quieran separar una linea pueden usar el caracter `\\n`. Por ejemplo,\n",
      "\n",
      "    print(\"Quiero dos lineas!\\nEl caracter de linea nueva me permite hacerlo.\")"
     ]
    },
    {
     "cell_type": "markdown",
     "metadata": {},
     "source": [
      "Produce:\n",
      "\n",
      "    Quiero dos lineas!\n",
      "    El caracter de linea nueva me permite hacerlo."
     ]
    },
    {
     "cell_type": "markdown",
     "metadata": {},
     "source": [
      "Caracteres de control como `\\n` tienen su origen cuando las computadoras tenian interfaces tipo maquinas de escribir. Este tipo de caracteres tenian un significado literal como *Presione la palanca de retorno* o *Presionea el boton de linea de alimentacion*.\n",
      "\n",
      "<a href=\"http://www.flickr.com/photos/dancentury/3916969051/\" title=\"Teletype Machine, DanCentury, on Flickr\"><img src=\"http://farm3.staticflickr.com/2553/3916969051_ecc076867e.jpg\" width=\"500\" height=\"375\" alt=\"A Teletype Machine\"></a>"
     ]
    },
    {
     "cell_type": "markdown",
     "metadata": {},
     "source": [
      "### Basta de maquinas de escribir!\n",
      "\n",
      "Regresando a los archivos en Python. Para leer una archivo linea por linea podriamos leer caracter por caracter usando `.read(1)`, hasta llegar a un caracter de linea nueva `\\n`.\n",
      "\n",
      "Hay una manera mas simple de hacer esto, usando el metodo `.readline()` en lugar de `.read()`.\n",
      "\n",
      "Modifiquemos el ejemplo anterior donde se lee caracter por caracter para que lea el archivo linea por linea.\n",
      "\n",
      "Tip: en IPython Notebook, podemos copiar el contenido completo de una celda y pegarlo en otra para no tener que reescribir todo el codigo..."
     ]
    },
    {
     "cell_type": "markdown",
     "metadata": {},
     "source": [
      "### Solucion:\n",
      "\n",
      "    f = open(\"meses.txt\")\n",
      "    next = f.readline()\n",
      "    while next != \"\":\n",
      "        print(next)\n",
      "        next = f.readline()"
     ]
    },
    {
     "cell_type": "markdown",
     "metadata": {},
     "source": [
      "Como se ve esto?"
     ]
    },
    {
     "cell_type": "code",
     "collapsed": false,
     "input": [
      "f = open('meses.txt')\n",
      "next = f.readline()\n",
      "while next != '':\n",
      "    print(next)\n",
      "    next = f.readline()"
     ],
     "language": "python",
     "metadata": {},
     "outputs": [
      {
       "output_type": "stream",
       "stream": "stdout",
       "text": [
        "Enero\n",
        "\n",
        "Febrero\n",
        "\n",
        "Marzo\n",
        "\n",
        "Abril\n",
        "\n",
        "Mayo\n",
        "\n",
        "Junio\n",
        "\n",
        "Julio\n",
        "\n",
        "Agosto\n",
        "\n",
        "Septiembre\n",
        "\n",
        "Octubre\n",
        "\n",
        "Noviembre\n",
        "\n",
        "Diciembre\n"
       ]
      }
     ],
     "prompt_number": 3
    },
    {
     "cell_type": "markdown",
     "metadata": {},
     "source": [
      "Es esto lo que esperabamos?"
     ]
    },
    {
     "cell_type": "markdown",
     "metadata": {},
     "source": [
      "... `readline()` tambien retorna una nueva linea '\\n' al final de cada linea y `print` automaticamente agrega una nueva linea, resultando en dos nuevas lineas y por lo tanto un espacio o una linea vacia entre cada uno de los contenidos del archivo."
     ]
    },
    {
     "cell_type": "markdown",
     "metadata": {},
     "source": [
      "Podemos quitar lineas y otros caracteres \"blancos\" del final de una cadena usando el metodo [.strip() method](http://docs.python.org/3.3/library/stdtypes.html#str.strip). "
     ]
    },
    {
     "cell_type": "markdown",
     "metadata": {},
     "source": [
      "Usemos este metodo para remover los saltos de linea en el codigo anterior:"
     ]
    },
    {
     "cell_type": "code",
     "collapsed": false,
     "input": [
      "f = open('meses.txt')\n",
      "next = f.readline()\n",
      "while next != '':\n",
      "    print(next.strip())\n",
      "    next = f.readline()"
     ],
     "language": "python",
     "metadata": {},
     "outputs": [
      {
       "output_type": "stream",
       "stream": "stdout",
       "text": [
        "Enero\n",
        "Febrero\n",
        "Marzo\n",
        "Abril\n",
        "Mayo\n",
        "Junio\n",
        "Julio\n",
        "Agosto\n",
        "Septiembre\n",
        "Octubre\n",
        "Noviembre\n",
        "Diciembre\n"
       ]
      }
     ],
     "prompt_number": 5
    },
    {
     "cell_type": "code",
     "collapsed": false,
     "input": [
      "f = open('meses.txt')\n",
      "next = f.readline()\n",
      "while next != '':\n",
      "    next = next.strip()\n",
      "    print(next)\n",
      "    next = f.readline()"
     ],
     "language": "python",
     "metadata": {},
     "outputs": [
      {
       "output_type": "stream",
       "stream": "stdout",
       "text": [
        "Enero\n",
        "Febrero\n",
        "Marzo\n",
        "Abril\n",
        "Mayo\n",
        "Junio\n",
        "Julio\n",
        "Agosto\n",
        "Septiembre\n",
        "Octubre\n",
        "Noviembre\n",
        "Diciembre\n"
       ]
      }
     ],
     "prompt_number": 6
    },
    {
     "cell_type": "markdown",
     "metadata": {},
     "source": [
      "Por default, `strip` quita caracteres blancos al final de una cadena, incluyendo `\\n`, y `tabs` o espacios. Pueden especificar solamente quitar `\\n` y nada mas:\n",
      "\n",
      "    next = next.strip(\"\\n\")\n",
      "    print(next)"
     ]
    },
    {
     "cell_type": "code",
     "collapsed": false,
     "input": [
      "f = open('meses.txt')\n",
      "next = f.readline()\n",
      "while next != '':\n",
      "    print(next.strip('\\n'))\n",
      "    next = f.readline()"
     ],
     "language": "python",
     "metadata": {},
     "outputs": [
      {
       "output_type": "stream",
       "stream": "stdout",
       "text": [
        "Enero\n",
        "Febrero\n",
        "Marzo\n",
        "Abril\n",
        "Mayo\n",
        "Junio\n",
        "Julio\n",
        "Agosto\n",
        "Septiembre\n",
        "Octubre\n",
        "Noviembre\n",
        "Diciembre\n"
       ]
      }
     ],
     "prompt_number": 9
    },
    {
     "cell_type": "markdown",
     "metadata": {},
     "source": [
      "## Leyendo una linea completa\n",
      "\n",
      "`readline()` nos permite leer un archivo linea por linea, pero hay otras formas mas faciles de leer un archivo:\n",
      "\n",
      "    f = open(\"meses.txt\")\n",
      "    print(f.readlines())"
     ]
    },
    {
     "cell_type": "code",
     "collapsed": false,
     "input": [
      "f = open('meses.txt')\n",
      "print f.readlines()"
     ],
     "language": "python",
     "metadata": {},
     "outputs": [
      {
       "output_type": "stream",
       "stream": "stdout",
       "text": [
        "['Enero\\n', 'Febrero\\n', 'Marzo\\n', 'Abril\\n', 'Mayo\\n', 'Junio\\n', 'Julio\\n', 'Agosto\\n', 'Septiembre\\n', 'Octubre\\n', 'Noviembre\\n', 'Diciembre']\n"
       ]
      }
     ],
     "prompt_number": 10
    },
    {
     "cell_type": "markdown",
     "metadata": {},
     "source": [
      "El metodo `readlines()` lee todas las lineas en un archivo y regresa un lista de Python"
     ]
    },
    {
     "cell_type": "markdown",
     "metadata": {},
     "source": [
      "Podemos iterar sobre esta lista de la siguiente forma:\n",
      "\n",
      "    f = open(\"months.txt\")\n",
      "    for month in f.readlines():\n",
      "       print(\"Month \" + month.strip())"
     ]
    },
    {
     "cell_type": "code",
     "collapsed": false,
     "input": [
      "f = open(\"meses.txt\")\n",
      "for mes in f.readlines():\n",
      "    print(\"Mes \" + mes.strip())"
     ],
     "language": "python",
     "metadata": {},
     "outputs": [
      {
       "output_type": "stream",
       "stream": "stdout",
       "text": [
        "Mes Enero\n",
        "Mes Febrero\n",
        "Mes Marzo\n",
        "Mes Abril\n",
        "Mes Mayo\n",
        "Mes Junio\n",
        "Mes Julio\n",
        "Mes Agosto\n",
        "Mes Septiembre\n",
        "Mes Octubre\n",
        "Mes Noviembre\n",
        "Mes Diciembre\n"
       ]
      }
     ],
     "prompt_number": 12
    },
    {
     "cell_type": "markdown",
     "metadata": {},
     "source": [
      "De hecho, no es necesario hacer un llamado a `readlines()` - Python asume que si quieren iterar un archivo usando un `for`, probablemente quieren hacerlo linea por linea:\n",
      "\n",
      "    f = open(\"months.txt\")\n",
      "    for month in f:\n",
      "       print(\"Month \" + month.strip())"
     ]
    },
    {
     "cell_type": "code",
     "collapsed": false,
     "input": [
      "f = open('meses.txt')\n",
      "for mes in f:\n",
      "    print 'Mes '+mes.strip()"
     ],
     "language": "python",
     "metadata": {},
     "outputs": [
      {
       "output_type": "stream",
       "stream": "stdout",
       "text": [
        "Mes Enero\n",
        "Mes Febrero\n",
        "Mes Marzo\n",
        "Mes Abril\n",
        "Mes Mayo\n",
        "Mes Junio\n",
        "Mes Julio\n",
        "Mes Agosto\n",
        "Mes Septiembre\n",
        "Mes Octubre\n",
        "Mes Noviembre\n",
        "Mes Diciembre\n"
       ]
      }
     ],
     "prompt_number": 13
    },
    {
     "cell_type": "markdown",
     "metadata": {},
     "source": [
      "# Escribiendo archivos\n",
      "\n",
      "Cuando \"abren\" un archivo usando `open()`, pueden especificar el *modo*, es decir pueden indicarle a Python que es lo que quieren hacer con el archivo."
     ]
    },
    {
     "cell_type": "markdown",
     "metadata": {},
     "source": [
      "El modo por default es `r`, por \"read\" en ingles; otro modo es `w` por \"write\", que permite escribir al archivo\n",
      "\n",
      "    f = open(\"archivonuevogenial.txt\", \"w\")"
     ]
    },
    {
     "cell_type": "markdown",
     "metadata": {},
     "source": [
      "Tip: el modo \"write\" (`w`) escribira por completo los contenidos en el archivo, borrando todo lo que tenian previamente!"
     ]
    },
    {
     "cell_type": "markdown",
     "metadata": {},
     "source": [
      "Existen muchisimos modos de abrir un archivo, `r` y `w` son de los mas comunes. La [lista completa esta en la documentacion](http://docs.python.org/3/library/functions.html#open) o la pueden consultar escribiendo `open?` en IPython Notebook y ejecutando la celda."
     ]
    },
    {
     "cell_type": "markdown",
     "metadata": {},
     "source": [
      "### Ejemplo\n",
      "Escribir una cadena a un archivo.\n",
      "\n",
      "###Solucion\n",
      "Los objetos que representan archivos tienen metodos para escribir. Pueden revisar la ayuda correspondiente al objeto para darse una idea."
     ]
    },
    {
     "cell_type": "markdown",
     "metadata": {},
     "source": [
      "En IPython Notebook pueden escribir:\n",
      "\n",
      "    f = open(\"archivonuevogenial.txt\", \"w\")\n",
      "    f?"
     ]
    },
    {
     "cell_type": "code",
     "collapsed": false,
     "input": [
      "f = open('archivonuevogenial.txt', 'w')\n",
      "f?"
     ],
     "language": "python",
     "metadata": {},
     "outputs": [],
     "prompt_number": 15
    },
    {
     "cell_type": "markdown",
     "metadata": {},
     "source": [
      "Tambien pueden escribir `f.` en una celda de IPython Notebook y presionar la tecla \"Tab\""
     ]
    },
    {
     "cell_type": "markdown",
     "metadata": {},
     "source": [
      "Esto mostrara una lista de posibles comandos (solo sirve si ya se ha asignado el valor a \"f\", es decir si han ejecutado la celda)."
     ]
    },
    {
     "cell_type": "code",
     "collapsed": false,
     "input": [
      "### Solution\n",
      "\n",
      "f = open(\"archivonuevogenial.txt\", \"w\")\n",
      "f.write(\"Mensaje Genial!\")\n",
      "f.close()"
     ],
     "language": "python",
     "metadata": {},
     "outputs": [],
     "prompt_number": 16
    },
    {
     "cell_type": "markdown",
     "metadata": {},
     "source": [
      "**Hay una diferencia importante entre print y write**, `print()` automaticamente agrega un salto de linea. `write()` no, si quieren agregarlos deben escribirlo explicitamnte usando `\\n`."
     ]
    },
    {
     "cell_type": "markdown",
     "metadata": {},
     "source": [
      "Podrian escribir un program que creara un archivo de texto con dos lineas?"
     ]
    },
    {
     "cell_type": "markdown",
     "metadata": {},
     "source": [
      "### Cerrando archivos\n",
      "\n",
      "Al terminar de escribir en un archivo, este debe cerrarese con `close()`. Esta es una buena practica, y cambios en el archivo podrian no verse reflejados hasta que ha sido cerrado.\n",
      "\n",
      "Tambien es una buen practica cerrar los archivos, usando `close()`, despues de abrirlos para leer su contenido."
     ]
    },
    {
     "cell_type": "markdown",
     "metadata": {},
     "source": [
      "### Hint\n",
      "\n",
      "Para ver el contenido de un archivo de texto, pueden abrirlo con su editor de texto favorito."
     ]
    },
    {
     "cell_type": "markdown",
     "metadata": {},
     "source": [
      "Alternativamente, si usan Linux o OSX pueden escribir `cat <archivo>` en una terminal para ver los contenidos del archivo. \n",
      "En una terminal de Windowspueden usar `type <archivo>` para hacer los mismo."
     ]
    },
    {
     "cell_type": "markdown",
     "metadata": {},
     "source": [
      "### Solucion:\n",
      "\n",
      "    f = open(\"miarchivodedoslineas.txt\", \"w\")\n",
      "    f.write(\"Primera linea\\n\")\n",
      "    f.write(\"Segunda linea\")\n",
      "    f.close()"
     ]
    },
    {
     "cell_type": "code",
     "collapsed": false,
     "input": [
      "f = open('miarchivodedoslineas.txt', 'w')\n",
      "f.write('Primera linea\\n')\n",
      "f.write('Segunda linea')\n",
      "f.close()"
     ],
     "language": "python",
     "metadata": {},
     "outputs": [],
     "prompt_number": 3
    },
    {
     "cell_type": "markdown",
     "metadata": {},
     "source": [
      "### Ejercicio\n",
      "A continuacion un ejercicio para asegurar que todo va por buen rumbo. Primero escriban un archivo de puro texto que contenga lineas con cadenas de texto aleatorias."
     ]
    },
    {
     "cell_type": "markdown",
     "metadata": {},
     "source": [
      "Escriban un programa en Python que haga lo siguiente:\n",
      "\n",
      "1. Lea todas las lineas del archivo de texto y las asigne a una lista.\n",
      "2. Agrege al final de cada linea la frase \" Pa' su mecha\" o cualquier otra frase original y divertida. \n",
      "3. Escriba todas las lineas en esta lista recien creada en un archivo diferente."
     ]
    },
    {
     "cell_type": "markdown",
     "metadata": {},
     "source": [
      "Cuando escriban las lineas a los archivos, recuerden que `print()` agrega una linea nueva, pero si usan `write()` tienen que escribir la linea ustedes usando `\\n`."
     ]
    },
    {
     "cell_type": "markdown",
     "metadata": {},
     "source": [
      "Si no saben como comenzar, un forma de hacerlo es modificar una de las soluciones de los ejercicios previos. Si se encuentran atorados, preguntenle a su vecino y si despues de esto siguen atorados, preguntenme a mi."
     ]
    },
    {
     "cell_type": "markdown",
     "metadata": {},
     "source": [
      "## Siguiente sesion:\n",
      "\n",
      "Ahora procesaremos datos en forma de texto tomados de un archivo en [Working With Strings](strings.html)."
     ]
    }
   ],
   "metadata": {}
  }
 ]
}