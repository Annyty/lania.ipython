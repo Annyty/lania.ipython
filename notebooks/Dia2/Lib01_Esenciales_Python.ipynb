{
 "metadata": {
  "name": "",
  "signature": "sha256:4118cea1f60a9157568f6b7a37dd895a6f5f67442b5912dd47b5d0b138aba548"
 },
 "nbformat": 3,
 "nbformat_minor": 0,
 "worksheets": [
  {
   "cells": [
    {
     "cell_type": "markdown",
     "metadata": {},
     "source": [
      "Esenciales de Python 1\n",
      "=====\n",
      "\n",
      "Bienvenidos al curso de Python Interactivo, [IPython](http://www.ipython.org). Python es un lenguaje de programacion que como vimos en al introduccion ha ganado terreno debido a su facilidad de uso en diversas aplicaciones, desde cientificas hasta de desarrollo. \n",
      "\n",
      "Si ya estan familiarizados con Python esta seccion les servira de recordatorio; en caso contrario esta introduccion basica servira de inicio para el curso."
     ]
    },
    {
     "cell_type": "markdown",
     "metadata": {},
     "source": [
      "# Instalando Python\n",
      "\n",
      "Les pedi antes del inicio del curso que intentaran instalara Python. La forma mas sencilla de hacerlo y que configura el sistema con todas las dependencias que necesitaremos a lo largo del curso es usando `anaconda`, como esta descrito en el documento que le debo hacer llegar cuanto antes."
     ]
    },
    {
     "cell_type": "markdown",
     "metadata": {},
     "source": [
      "# Iniciando Python\n",
      "\n",
      "Una vez instalado Python en su sistema, pueden iniciar el interprete interactivo escribiendo `python` en la linea de comando. Al iniciar deber mostrarles informacion del contexto de Python similar a la que se muestra a continuacion:\n",
      "    \n",
      "    Python 2.7.8 |Anaconda 2.0.1 (x86_64)| (default, Aug 21 2014, 15:21:46)\n",
      "    [GCC 4.2.1 (Apple Inc. build 5577)] on darwin\n",
      "    Type \"help\", \"copyright\", \"credits\" or \"license\" for more information.\n",
      "    >>>\n",
      "\n",
      "en Windows puede iniciarse Python a traves del menu de inicio.\n",
      "\n",
      "Para salir del interprete de Python, presionen la combinacion de teclas `Ctrl-D`.\n",
      "\n",
      "Para ejecutar un programa salvando en un archivo de Python, puede correrse desde la linea de comando escribiendo:\n",
      "\n",
      "    python programa.py\n",
      "\n",
      "En Windows puede ejecutarse un archivo de Python dandole doble click."
     ]
    },
    {
     "cell_type": "markdown",
     "metadata": {},
     "source": [
      "# Loops\n",
      "\n",
      "Que hacen las siguientes lineas de codigo?\n",
      "\n",
      "    for i in 2, 4, 6, 8:\n",
      "        print(i)"
     ]
    },
    {
     "cell_type": "markdown",
     "metadata": {},
     "source": [
      "### Solucion\n",
      "\n",
      "Estas lineas escriben en pantalla los numeros pares del 2 al 8, uno por linea."
     ]
    },
    {
     "cell_type": "markdown",
     "metadata": {},
     "source": [
      "### Bono 1\n",
      "\n",
      "Python tiene una funcion interna llamada `range` que automaticamente genera un intervalo de numeros como \\[2,4,6,8\\]. Por ejemplo, `range(1,10)` es una secuencia de los numeros 1 al 9, excluyendo el  valor extremo, en este caso el 10. Esto ultimo puede confundir pero quizas estan ya acostumbrados.\n",
      "\n",
      "    for i in range(1,10):\n",
      "        print(i)\n",
      "\n",
      "Pueden hacer uso de `range` de manera que obtengan una secuencia de numeros equivalente a \\[2, 4, 6, 8\\]? Pueden encontrar pistas si inician un interprete de Python y escriben `help(range)`. Los detalles estan cerca del inicio de la ayuda. Cuando terminen de consultar la ayuda, presionen 'q' para regresar al interprete."
     ]
    },
    {
     "cell_type": "markdown",
     "metadata": {},
     "source": [
      "# Variables\n",
      "\n",
      "Pueden usar variables para manipular valores dentro de un programa. Que hacen las siguientes lineas de codigo?\n",
      "\n",
      "    total = 0\n",
      "    for i in 1, 3, 7:\n",
      "        total = total + i\n",
      "    print(total)"
     ]
    },
    {
     "cell_type": "markdown",
     "metadata": {},
     "source": [
      "### Solucion\n",
      "\n",
      "Estas lineas imprimen en pantall 11 - la suma de los numeros 1, 3 y 7.\n",
      "\n",
      "### Bonus 2\n",
      "\n",
      "Si por algun motivo no quieren usar un loop `for`, Python tiene una function interna llamada `sum` que permite evitar el uso de `for`. Pueden obtener el mismo resultado que el loop anterior con:\n",
      "\n",
      "    print(sum([1,3,7]))\n",
      "\n",
      "Pueden escribir un comando de Python en una sola linea que use `sum` y `range` para mostrar la suma de los numeros del 1 al 10?"
     ]
    },
    {
     "cell_type": "markdown",
     "metadata": {},
     "source": [
      "# Funciones\n",
      "\n",
      "Es posible definir funciones con parametros, utiles para reusar codigo. Que hacen las siguientes lineas de codigo?\n",
      "\n",
      "    def saluda_a(nombre):\n",
      "        print(\"Hola \" + nombre)\n",
      "\n",
      "    saluda_a(\"Miranda\")\n",
      "    saluda_a(\"Fede\")"
     ]
    },
    {
     "cell_type": "markdown",
     "metadata": {},
     "source": [
      "### Solution\n",
      "\n",
      "    Hola Miranda\n",
      "    Hola Fede"
     ]
    },
    {
     "cell_type": "markdown",
     "metadata": {},
     "source": [
      "# Condicionales\n",
      "\n",
      "Se pueden usar expresiones con 'if' para ejecutar unicamente algunos comandos si alguna condicion se cumple. Que hacen las siguientes lineas de codigo?\n",
      "\n",
      "    angulo = 5\n",
      "    if angulo > 0:\n",
      "        print(\"Girando en sentido dextrogiro\")\n",
      "    elif angulo < 0:\n",
      "        print(\"Girando en sentido levogiro\")\n",
      "    else:\n",
      "        print(\"No girando\")"
     ]
    },
    {
     "cell_type": "markdown",
     "metadata": {},
     "source": [
      "### Solucion\n",
      "\n",
      "    Girando en sentido dextrogiro"
     ]
    },
    {
     "cell_type": "markdown",
     "metadata": {},
     "source": [
      "## Modulo siguiente\n",
      "\n",
      "Ahora que estan listos con Python, pasaremos al siguiente modulo [Estructuras de datos en Python](Lib02_Esenciales_DataStructures.ipynb)"
     ]
    }
   ],
   "metadata": {}
  }
 ]
}