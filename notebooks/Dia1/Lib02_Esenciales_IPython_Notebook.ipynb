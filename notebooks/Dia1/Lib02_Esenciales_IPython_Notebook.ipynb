{
 "metadata": {
  "celltoolbar": "Slideshow",
  "name": ""
 },
 "nbformat": 3,
 "nbformat_minor": 0,
 "worksheets": [
  {
   "cells": [
    {
     "cell_type": "code",
     "collapsed": true,
     "input": [
      "%run ../talktools.py"
     ],
     "language": "python",
     "metadata": {
      "slideshow": {
       "slide_type": "skip"
      }
     },
     "outputs": [
      {
       "html": [
        "\n",
        "<style>\n",
        "    @font-face {\n",
        "        font-family: \"Computer Modern\";\n",
        "        src: url('http://mirrors.ctan.org/fonts/cm-unicode/fonts/otf/cmunss.otf');\n",
        "    }\n",
        "    div.cell{\n",
        "        width:800px;\n",
        "        margin-left:auto !important;\n",
        "        margin-right:auto;\n",
        "\t\tmargin-top:1em;\n",
        "\t\tmargin-bottom:1em;\n",
        "    }\n",
        "    h1 {\n",
        "        font-family: Helvetica, serif;\n",
        "\t\tbackground-color:#b0c4de;\n",
        "\n",
        "\t\t\n",
        "    }\n",
        "\th2 {\n",
        "        font-family: Helvetica, serif;\n",
        "\t\tbackground-color:#b0c4de;\n",
        "\t\t\n",
        "\t\t\n",
        "    }\n",
        "\th3 {\n",
        "        font-family: Helvetica, serif;\n",
        "\t\tbackground-color:#b0c4de;\n",
        "\t\t\n",
        "    }\n",
        "    h4{\n",
        "        margin-top:12px;\n",
        "        margin-bottom: 3px;\n",
        "       }\n",
        "    div.text_cell_render{\n",
        "        font-family: Computer Modern, \"Helvetica Neue\", Arial, Helvetica, Geneva, sans-serif;\n",
        "        line-height: 145%;\n",
        "        font-size: 130%;\n",
        "        width:800px;\n",
        "        margin-left:auto;\n",
        "        margin-right:auto;\n",
        "    }\n",
        "    .CodeMirror{\n",
        "            font-family: \"Source Code Pro\", source-code-pro,Consolas, monospace;\n",
        "    }\n",
        "    \n",
        "    .text_cell_render h5 {\n",
        "        font-weight: 300;\n",
        "        font-size: 22pt;\n",
        "        color: #4057A1;\n",
        "        font-style: italic;\n",
        "        margin-bottom: .5em;\n",
        "        margin-top: 0.5em;\n",
        "        display: block;\n",
        "    }\n",
        "    \n",
        "    .warning{\n",
        "        color: rgb( 240, 20, 20 )\n",
        "        }  \n",
        "\n",
        "\t\tdiv.cell.code_cell {  /* Areat containing both code and output */\n",
        "\t\tbackground-color:#F1F0FF; /* light blue */\n",
        "\t\tborder-radius: 10px; /* rounded borders = friendlier */\n",
        "\t\tpadding: 1em;\n",
        "\t\t}\n",
        "</style>\n",
        "<script>\n",
        "    MathJax.Hub.Config({\n",
        "                        TeX: {\n",
        "                           extensions: [\"AMSmath.js\"]\n",
        "                           },\n",
        "                tex2jax: {\n",
        "                    inlineMath: [ ['$','$'], [\"\\\\(\",\"\\\\)\"] ],\n",
        "                    displayMath: [ ['$$','$$'], [\"\\\\[\",\"\\\\]\"] ]\n",
        "                },\n",
        "                displayAlign: 'center', // Change this to 'center' to center equations.\n",
        "                \"HTML-CSS\": {\n",
        "                    styles: {'.MathJax_Display': {\"margin\": 4}}\n",
        "                }\n",
        "        });\n",
        "</script>"
       ],
       "metadata": {},
       "output_type": "display_data",
       "text": [
        "<IPython.core.display.HTML at 0x105edc9d0>"
       ]
      }
     ],
     "prompt_number": 1
    },
    {
     "cell_type": "markdown",
     "metadata": {
      "slideshow": {
       "slide_type": "slide"
      }
     },
     "source": [
      "![http://ipython.org/_static/IPy_header.png](http://ipython.org/_static/IPy_header.png)\n",
      "\n",
      "[IPython](http://ipython.org/) en acci\u00f3n. Programacion interactiva, investigacion reproducible y trabajo publicable, aplicada al an\u00e1lisis de datos obtenidos con sensores m\u00f3viles (_aka_ smartphones).\n",
      "\n",
      "# La libreta de IPython (IPython Notebook)\n",
      "\n",
      "La IPython notebook, parte del proyecto de IPython(ipython.org) es un ambiente computacional interactivo web (se ejecuta en un navegador por medio de un servidor web) en el cual se puede combinar la ejecucionde codigo, texto, matematicas, graficas y contenido, en un solo documento.\n",
      "\n",
      "![IPython Notebook](http://ipython.org/_static/ipy_0.13.png)"
     ]
    },
    {
     "cell_type": "markdown",
     "metadata": {
      "slideshow": {
       "slide_type": "slide"
      }
     },
     "source": [
      "## Algunos comandos \u00fatiles\n",
      "\n",
      "Los siguientes comandos, junto con la breve descripci\u00f3n que se muestra, aparecen cada vez que se inicia el int\u00e9rprete de IPython:\n",
      "\n",
      "`comando`      |  `descripci\u00f3n`\n",
      "------------|-----------  \n",
      "?           |  Introduction and overview of IPython's features.\n",
      "%quickref   |  Quick reference.\n",
      "help        |  Python's own help system.\n",
      "object?     |  Details about 'object', use 'object??' for extra details.\n"
     ]
    },
    {
     "cell_type": "markdown",
     "metadata": {
      "slideshow": {
       "slide_type": "slide"
      }
     },
     "source": [
      "## Algunas configuraciones\n",
      "El siguiente comando asegura que las graficas se desplieguen dentro de las libretas."
     ]
    },
    {
     "cell_type": "code",
     "collapsed": false,
     "input": [
      "%matplotlib inline "
     ],
     "language": "python",
     "metadata": {
      "slideshow": {
       "slide_type": "fragment"
      }
     },
     "outputs": [
      {
       "output_type": "stream",
       "stream": "stdout",
       "text": [
        "Populating the interactive namespace from numpy and matplotlib\n"
       ]
      }
     ],
     "prompt_number": 3
    },
    {
     "cell_type": "markdown",
     "metadata": {
      "slideshow": {
       "slide_type": "slide"
      }
     },
     "source": [
      "## Elementos b\u00e1sicos de las libretas\n",
      "Las libretas IPython Notebook (IPN) son un ambiente computacional web interactivo donde puede combinarse c\u00f3digo (escritura y ejecuci\u00f3n), texto, s\u00edmbolos matem\u00e1ticos, gr\u00e1ficas y contenido digital diverso, en un s\u00f3lo documento.\n",
      "\n",
      "* Ejecuci\u00f3n del contenido de una celda\n",
      "* Salvando la libreta\n",
      "* Ayuda y documentaci\u00f3n. \n",
      "* Completando c\u00f3digo\n",
      "* Celdas markdown\n",
      "* Celdas %magicas"
     ]
    },
    {
     "cell_type": "markdown",
     "metadata": {
      "slideshow": {
       "slide_type": "slide"
      }
     },
     "source": [
      "## Ejecuci\u00f3n del contenido de una celda\n",
      "\n",
      "* SHIFT+ENTER ejecutar\u00e1 el contenido de la celda y activar\u00e1 la celda siguiente\n",
      "\n",
      "\n",
      "* ALT+ENTER ejecutar\u00e1 el contenido de la celda y crear\u00e1 una nueva \n",
      "\n",
      "\n",
      "* CTRL+ENTER ejecutar\u00e1 la celda permaneciendo en la celda \n",
      "\n",
      "\n",
      "* CTRL-m h keyboard shorcuts"
     ]
    },
    {
     "cell_type": "code",
     "collapsed": false,
     "input": [
      "# Ejemplo para ejecutar\n",
      "print \"Hola clase\""
     ],
     "language": "python",
     "metadata": {
      "slideshow": {
       "slide_type": "fragment"
      }
     },
     "outputs": [
      {
       "output_type": "stream",
       "stream": "stdout",
       "text": [
        "Hola clase\n"
       ]
      }
     ],
     "prompt_number": 3
    },
    {
     "cell_type": "markdown",
     "metadata": {
      "slideshow": {
       "slide_type": "slide"
      }
     },
     "source": [
      "## Salvando la libreta\n",
      "CTRL-S guarda la libreta"
     ]
    },
    {
     "cell_type": "markdown",
     "metadata": {
      "slideshow": {
       "slide_type": "slide"
      }
     },
     "source": [
      "## Ayuda y documentaci\u00f3n\n",
      "El comando `%quickref` puede usarse para obtener un poco de informaci\u00f3n"
     ]
    },
    {
     "cell_type": "code",
     "collapsed": false,
     "input": [
      "#IPython -- An enhanced Interactive Python - Quick Reference Card\n",
      "%quickref  # now press shift-ender"
     ],
     "language": "python",
     "metadata": {
      "slideshow": {
       "slide_type": "fragment"
      }
     },
     "outputs": [],
     "prompt_number": 7
    }
   ],
   "metadata": {}
  }
 ]
}