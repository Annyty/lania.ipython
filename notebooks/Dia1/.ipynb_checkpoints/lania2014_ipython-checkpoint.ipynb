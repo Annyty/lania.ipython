{
 "metadata": {
  "name": "",
  "signature": "sha256:2bb8172883528252c61d2bcee28eba0eb6b751e38808e2c729f9a53a807962af"
 },
 "nbformat": 3,
 "nbformat_minor": 0,
 "worksheets": [
  {
   "cells": [
    {
     "cell_type": "code",
     "collapsed": true,
     "input": [
      "%run ../talktools.py"
     ],
     "language": "python",
     "metadata": {
      "slideshow": {
       "slide_type": "skip"
      }
     },
     "outputs": [
      {
       "html": [
        "\n",
        "<style>\n",
        "    @font-face {\n",
        "        font-family: \"Computer Modern\";\n",
        "        src: url('http://mirrors.ctan.org/fonts/cm-unicode/fonts/otf/cmunss.otf');\n",
        "    }\n",
        "    div.cell{\n",
        "        width:800px;\n",
        "        margin-left:auto !important;\n",
        "        margin-right:auto;\n",
        "\t\tmargin-top:1em;\n",
        "\t\tmargin-bottom:1em;\n",
        "    }\n",
        "    h1 {\n",
        "        font-family: Helvetica, serif;\n",
        "\t\tbackground-color:#b0c4de;\n",
        "\n",
        "\t\t\n",
        "    }\n",
        "\th2 {\n",
        "        font-family: Helvetica, serif;\n",
        "\t\tbackground-color:#b0c4de;\n",
        "\t\t\n",
        "\t\t\n",
        "    }\n",
        "\th3 {\n",
        "        font-family: Helvetica, serif;\n",
        "\t\tbackground-color:#b0c4de;\n",
        "\t\t\n",
        "    }\n",
        "    h4{\n",
        "        margin-top:12px;\n",
        "        margin-bottom: 3px;\n",
        "       }\n",
        "    div.text_cell_render{\n",
        "        font-family: Computer Modern, \"Helvetica Neue\", Arial, Helvetica, Geneva, sans-serif;\n",
        "        line-height: 145%;\n",
        "        font-size: 130%;\n",
        "        width:800px;\n",
        "        margin-left:auto;\n",
        "        margin-right:auto;\n",
        "    }\n",
        "    .CodeMirror{\n",
        "            font-family: \"Source Code Pro\", source-code-pro,Consolas, monospace;\n",
        "    }\n",
        "    \n",
        "    .text_cell_render h5 {\n",
        "        font-weight: 300;\n",
        "        font-size: 22pt;\n",
        "        color: #4057A1;\n",
        "        font-style: italic;\n",
        "        margin-bottom: .5em;\n",
        "        margin-top: 0.5em;\n",
        "        display: block;\n",
        "    }\n",
        "    \n",
        "    .warning{\n",
        "        color: rgb( 240, 20, 20 )\n",
        "        }  \n",
        "\n",
        "\t\tdiv.cell.code_cell {  /* Areat containing both code and output */\n",
        "\t\tbackground-color:#F1F0FF; /* light blue */\n",
        "\t\tborder-radius: 10px; /* rounded borders = friendlier */\n",
        "\t\tpadding: 1em;\n",
        "\t\t}\n",
        "</style>\n",
        "<script>\n",
        "    MathJax.Hub.Config({\n",
        "                        TeX: {\n",
        "                           extensions: [\"AMSmath.js\"]\n",
        "                           },\n",
        "                tex2jax: {\n",
        "                    inlineMath: [ ['$','$'], [\"\\\\(\",\"\\\\)\"] ],\n",
        "                    displayMath: [ ['$$','$$'], [\"\\\\[\",\"\\\\]\"] ]\n",
        "                },\n",
        "                displayAlign: 'center', // Change this to 'center' to center equations.\n",
        "                \"HTML-CSS\": {\n",
        "                    styles: {'.MathJax_Display': {\"margin\": 4}}\n",
        "                }\n",
        "        });\n",
        "</script>"
       ],
       "metadata": {},
       "output_type": "display_data",
       "text": [
        "<IPython.core.display.HTML at 0x105e60ed0>"
       ]
      }
     ],
     "prompt_number": 5
    },
    {
     "cell_type": "markdown",
     "metadata": {
      "slideshow": {
       "slide_type": "slide"
      }
     },
     "source": [
      "![http://ipython.org/_static/IPy_header.png](http://ipython.org/_static/IPy_header.png)\n",
      "\n",
      "[IPython](http://ipython.org/) en acci\u00f3n. Programacion interactiva, investigacion reproducible y trabajo publicable, aplicada al an\u00e1lisis de datos obtenidos con sensores m\u00f3viles (_aka_ smartphones).\n",
      "\n",
      "\u00bfQu\u00e9 es esto?\n",
      "------\n",
      "\n",
      "Este `repositorio` contiene el curso completo que voy a dar como parte del diplomado/curso **nombre** de la Maestr\u00eda en Redes y Sistemas (RySi) que imparte cada a\u00f1o el Centro de Estudios LANIA (CEL). Se incluyen los archivos que integran todo el documento PDF final. \n",
      "\n",
      "[El repositorio completo del curso esta en este enlace.][6]"
     ]
    },
    {
     "cell_type": "markdown",
     "metadata": {
      "slideshow": {
       "slide_type": "notes"
      }
     },
     "source": [
      "Antecedentes\n",
      "-------------\n",
      "IPython se a vuelto una alternativa popular para realizar investigaci\u00f3n cient\u00edfica interactiva. Este software extiende el int\u00e9rprete est\u00e1ndard de Python agregando muchas funcionalidades \u00fatiles y pr\u00e1cticas, haciendo innecesario el uso int\u00e9rprete est\u00e1ndard de Python.\n",
      "De manera adicional, IPython provee de una libreta (Notebook) basada en el web que hace el trabajo interactivo mucho m\u00e1s sencillo, pero m\u00e1s importante, que ha permitido que la realizaci\u00f3n del trabajo cient\u00edfico, en forma de art\u00edculos publicados, sea reproducible. Incluso, un libro completo se ha escrito y publicado, en forma digital, usando \u00e9sta plataforma.\n",
      "El desarrollo de \u00e9sta tecnolog\u00eda, junto con las herramientas de c\u00f3mputo que le acompa\u00f1an, y que son relevantes a mis intereses de investigaci\u00f3n aqu\u00ed en LANIA, me han llevado a compartirlas con ustedes en este curso, donde espero poderles transmitir las posibilidades de desarrollo en c\u00f3mputo, en este caso orientadas al an\u00e1lisis de datos obtenidos con _sensores m\u00f3viles_, que provee IPython por medio de IPython Notebook."
     ]
    },
    {
     "cell_type": "markdown",
     "metadata": {
      "slideshow": {
       "slide_type": "slide"
      }
     },
     "source": [
      "![http://ipython.org/_static/ipy_0.13.png](http://ipython.org/_static/ipy_0.13.png)"
     ]
    },
    {
     "cell_type": "markdown",
     "metadata": {
      "slideshow": {
       "slide_type": "subslide"
      }
     },
     "source": [
      "Para analizar datos con IPython, usaremos la siguiente colecci\u00f3n de software para c\u00f3mputo cient\u00edfico basado en Python y todos de c\u00f3digo abierto:\n",
      "\n",
      "paqueter\u00eda  |  descripci\u00f3n\n",
      "---  |  ---\n",
      "[ipython][1] | Python interactivo y herramientas de programacion\n",
      "[pandas][2]  |  implementaci\u00f3n de estructuras para analisis de datos `dataframe` (basado en numpy)\n",
      "[scipy][3]  |  rutinas num\u00e9ricas eficientes\n",
      "[matplolib][4] | libreria para graficas\n",
      "<!---\n",
      "[sympy][4]  |  matem\u00e1ticas simb\u00f3licas\n",
      "-->\n",
      "[matplotlib][5]  |  librer\u00eda \"estandard\" para graficar\n",
      "<!---\n",
      "[sci-kit learn][5] | librer\u00eda de `machine learning`\n",
      "-->\n",
      "\n",
      "\n",
      "[1]: http://ipython.org/\n",
      "[2]: http://pandas.pydata.org/\n",
      "[3]: http://www.scipy.org\n",
      "[4]: http://matplotlib.org/"
     ]
    },
    {
     "cell_type": "markdown",
     "metadata": {
      "slideshow": {
       "slide_type": "slide"
      }
     },
     "source": [
      "Contenido del curso\n",
      "--------\n",
      "El objetivo de \u00e9ste curso ser\u00e1 dar a conocer las herramientas que ofrece IPython Notebook por medio de la exploraci\u00f3n y el an\u00e1lisis de datos obtenidos de dispositivos m\u00f3viles, mejor conocidos como _smartphones_. Una vez concluida la exploraci\u00f3n, veremos lo sencillo que es publicar el trabajo realizado en diversos formatos, con lo cual se cubre todo el proceso de investigaci\u00f3n de manera interactiva, simple y reproducible. Algunos de los t\u00f3picos que cubriremos en las siguientes 4 semanas son:\n",
      "\n",
      "tema   | descripci\u00f3n\n",
      "---- |  -------\n",
      "python | introduccion al lenguaje de programacion\n",
      "ipython | introduccion a Python interactivo y las libretas\n",
      "git | software de control de revision\n",
      "i/o | adquiriendo datos en IPython Notebooks\n",
      "pandas  | analizando datos usando `pandas`\n",
      "computo paralelo | herramientas para procesar datos paralelamente\n",
      "reportes | markdown, $\\LaTeX$, documentando el trabajo realizado"
     ]
    },
    {
     "cell_type": "markdown",
     "metadata": {
      "slideshow": {
       "slide_type": "skip"
      }
     },
     "source": [
      "Los archivos procesados de las presentaciones pueden consultarse en los siguientes enlaces:\n",
      "------\n",
      "formato  | descripci\u00f3n\n",
      "------- | ------------\n",
      "[IPython notebook](https://github.com/Tooblippe/zapycon2013_ipython_science/blob/master/src/pycon13_ipython.ipynb)  |  .ipynb file to run in browser\n",
      "[IPython html notebook](http://htmlpreview.github.io/?https://github.com/Tooblippe/zapycon2013_ipython_science/blob/master/src/output/pycon13_ipython.html) | converted to HTML and served online\n",
      "[IPython pdf notebook](https://github.com/Tooblippe/zapycon2013_ipython_science/blob/master/src/output/pycon13_ipython_pdf.pdf?raw=true)  | converted to PDF for download (to be added, needs pandoc)\n",
      "[IPython pdf book](https://github.com/Tooblippe/zapycon2013_ipython_science/blob/master/src/output/pycon13_ipython_complete.pdf?raw=true)  | converted to pdf and a front-page stitched to it)\n",
      "[Ipython reveal.js presentation](http://htmlpreview.github.io/?https://github.com/Tooblippe/zapycon2013_ipython_science/blob/master/src/output/pycon13_ipython.slides.html#/) | converted to a reveal.js presentation and served online\n",
      "[Online IPython NBveiwer](http://nbviewer.ipython.org/urls/raw.github.com/Tooblippe/zapycon2013_ipython_science/master/src/pycon13_ipython.ipynb)  | view on the ipython notebook viewer"
     ]
    },
    {
     "cell_type": "markdown",
     "metadata": {
      "slideshow": {
       "slide_type": "slide"
      }
     },
     "source": [
      "Dependencias\n",
      "-------------\n",
      "Estas libretas estan preparadas y desarrolladas en GNU/Linux/OSX. Sin embargo, al ser esta herramienta una aplicacion web, es muy facil transportar todo a Windows, quizas sean necesarias algunas dependencias adicionales, pero no requiere ningun tipo de configuracion avanzada.\n",
      "\n",
      "paquete  |  descripcion\n",
      "-------- | ------------\n",
      "[IPython][1] | incluye la herramienta `nbconvert`\n",
      "[pandoc][2]  | convertidor de documentos \n",
      "[MiKTeX][3]  | En caso de querer convertir texto de $\\LaTeX$ a PDF\n",
      "\n",
      "\n",
      "[1]: http://ipython.org/\n",
      "[2]: http://johnmacfarlane.net/pandoc/\n",
      "[3]: http://miktex.org/"
     ]
    },
    {
     "cell_type": "markdown",
     "metadata": {},
     "source": [
      "Como ejecutar las Libretas Interactivas\n",
      "--------\n",
      "Navega al directorio `src` del repositorio y de ahi ejecuta en el comando:\n",
      "\n",
      " ```python\n",
      "      ipython notebook\n",
      "```\n",
      "\n",
      "Si todo resulta como debe, el navegador configurado como predeterminado debe abrirse y podr\u00e1n experimentar seleccionando la `libreta`"
     ]
    },
    {
     "cell_type": "markdown",
     "metadata": {
      "slideshow": {
       "slide_type": "slide"
      }
     },
     "source": [
      "Acerca del presentador\n",
      "----------\n",
      "\n",
      "* [Fisico][0] por la UNAM con Doctorado en [Ingenieria Mecanica][1] y Maestrias en [Applied Sciences][2] y [Ciencias Fisicas][3]. Actualmente realizo una estancia academica en [LANIA][4] realizand investigacion relacionada al computo paralelo de alto rendimiento para resolver problemas.\n",
      "\n",
      "* Uso Python y IPython Notebooks todos los dias para realizar, organizar, documentar y distribuir mi trabajo, como una alternativa completa y auto-contenida para llevar a cabo mis actividades.\n",
      "\n",
      "  [0]: http://www.fciencias.unam.mx/\n",
      "  [1]: http://www.ingenieria.unam.mx/posgmecanica/inicio.php\n",
      "  [2]: http://das.ucdavis.edu/\n",
      "  [3]: http://www.posgrado.fisica.unam.mx/beta/drupal/\n",
      "  [4]: http://lania.mx"
     ]
    }
   ],
   "metadata": {}
  }
 ]
}