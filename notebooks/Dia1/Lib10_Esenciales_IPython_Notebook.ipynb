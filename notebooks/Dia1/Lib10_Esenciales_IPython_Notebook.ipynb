{
 "metadata": {
  "celltoolbar": "Slideshow",
  "name": ""
 },
 "nbformat": 3,
 "nbformat_minor": 0,
 "worksheets": [
  {
   "cells": [
    {
     "cell_type": "code",
     "collapsed": true,
     "input": [
      "%run talktools.py"
     ],
     "language": "python",
     "metadata": {
      "slideshow": {
       "slide_type": "skip"
      }
     },
     "outputs": [
      {
       "html": [
        "\n",
        "<style>\n",
        "    @font-face {\n",
        "        font-family: \"Computer Modern\";\n",
        "        src: url('http://mirrors.ctan.org/fonts/cm-unicode/fonts/otf/cmunss.otf');\n",
        "    }\n",
        "    div.cell{\n",
        "        width:800px;\n",
        "        margin-left:auto !important;\n",
        "        margin-right:auto;\n",
        "\t\tmargin-top:1em;\n",
        "\t\tmargin-bottom:1em;\n",
        "    }\n",
        "    h1 {\n",
        "        font-family: Helvetica, serif;\n",
        "\t\tbackground-color:#b0c4de;\n",
        "\n",
        "\t\t\n",
        "    }\n",
        "\th2 {\n",
        "        font-family: Helvetica, serif;\n",
        "\t\tbackground-color:#b0c4de;\n",
        "\t\t\n",
        "\t\t\n",
        "    }\n",
        "\th3 {\n",
        "        font-family: Helvetica, serif;\n",
        "\t\tbackground-color:#b0c4de;\n",
        "\t\t\n",
        "    }\n",
        "    h4{\n",
        "        margin-top:12px;\n",
        "        margin-bottom: 3px;\n",
        "       }\n",
        "    div.text_cell_render{\n",
        "        font-family: Computer Modern, \"Helvetica Neue\", Arial, Helvetica, Geneva, sans-serif;\n",
        "        line-height: 145%;\n",
        "        font-size: 130%;\n",
        "        width:800px;\n",
        "        margin-left:auto;\n",
        "        margin-right:auto;\n",
        "    }\n",
        "    .CodeMirror{\n",
        "            font-family: \"Source Code Pro\", source-code-pro,Consolas, monospace;\n",
        "    }\n",
        "    \n",
        "    .text_cell_render h5 {\n",
        "        font-weight: 300;\n",
        "        font-size: 22pt;\n",
        "        color: #4057A1;\n",
        "        font-style: italic;\n",
        "        margin-bottom: .5em;\n",
        "        margin-top: 0.5em;\n",
        "        display: block;\n",
        "    }\n",
        "    \n",
        "    .warning{\n",
        "        color: rgb( 240, 20, 20 )\n",
        "        }  \n",
        "\n",
        "\t\tdiv.cell.code_cell {  /* Areat containing both code and output */\n",
        "\t\tbackground-color:#F1F0FF; /* light blue */\n",
        "\t\tborder-radius: 10px; /* rounded borders = friendlier */\n",
        "\t\tpadding: 1em;\n",
        "\t\t}\n",
        "</style>\n",
        "<script>\n",
        "    MathJax.Hub.Config({\n",
        "                        TeX: {\n",
        "                           extensions: [\"AMSmath.js\"]\n",
        "                           },\n",
        "                tex2jax: {\n",
        "                    inlineMath: [ ['$','$'], [\"\\\\(\",\"\\\\)\"] ],\n",
        "                    displayMath: [ ['$$','$$'], [\"\\\\[\",\"\\\\]\"] ]\n",
        "                },\n",
        "                displayAlign: 'center', // Change this to 'center' to center equations.\n",
        "                \"HTML-CSS\": {\n",
        "                    styles: {'.MathJax_Display': {\"margin\": 4}}\n",
        "                }\n",
        "        });\n",
        "</script>"
       ],
       "metadata": {},
       "output_type": "display_data",
       "text": [
        "<IPython.core.display.HTML at 0x105edc9d0>"
       ]
      }
     ],
     "prompt_number": 1
    },
    {
     "cell_type": "markdown",
     "metadata": {
      "slideshow": {
       "slide_type": "slide"
      }
     },
     "source": [
      "![http://ipython.org/_static/IPy_header.png](http://ipython.org/_static/IPy_header.png)\n",
      "\n",
      "[IPython](http://ipython.org/) en acci\u00f3n. Programacion interactiva, investigacion reproducible y trabajo publicable, aplicada al an\u00e1lisis de datos obtenidos con sensores m\u00f3viles (_aka_ smartphones).\n",
      "\n",
      "# La libreta de IPython (IPython Notebook)\n",
      "\n",
      "La IPython notebook, parte del proyecto de IPython(ipython.org) es un ambiente computacional interactivo web (se ejecuta en un navegador por medio de un servidor web) en el cual se puede combinar la ejecucionde codigo, texto, matematicas, graficas y contenido, en un solo documento.\n",
      "\n",
      "![IPython Notebook](http://ipython.org/_static/ipy_0.13.png)"
     ]
    },
    {
     "cell_type": "markdown",
     "metadata": {
      "slideshow": {
       "slide_type": "slide"
      }
     },
     "source": [
      "## Publicando el trabajo\n",
      "IPython contiene una herramienta llamada `nbconvert` que permite convertir el archivo `.ipynb` de una libreta en un documento estatico en diversos formatos.\n",
      "\n",
      "Actualmente `nbconvert` es una herramienta en la linea de comando y se ejecuta como un script de Ipython. Existen extensiones experimentales para exportar directamente desde la libreta web, pero no son suficientemente estables para ser parte de la distribucion actual.\n",
      "\n",
      "La sintaxis para el uso de `nbconvert` es: [MAS INFORMACION](http://ipython.org/ipython-doc/2/notebook/nbconvert.html)\n",
      "\n",
      "    ipython nbconvert --to FORMATO libreta.ipynb\n",
      "\n",
      "Esta libreta sera convertida a los siguiente formatos publicables usando esta herramienta:\n",
      "\n",
      "* Esta presentacion (usando `Reveal.js`) \n",
      "\n",
      "* HTML\n",
      "\n",
      "* PDF (en Windows se usa `wkhtml2pdf`)\n",
      "\n",
      "* $\\LaTeX$\n",
      "\n",
      "\n",
      "[VER MAS](http://nbviewer.ipython.org/github/Carreau/posts/blob/master/06-NBconvert-Doc-Draft.ipynb)"
     ]
    },
    {
     "cell_type": "markdown",
     "metadata": {
      "slideshow": {
       "slide_type": "slide"
      }
     },
     "source": [
      "## Exportando desde la libreta\n",
      "Usando las capacidades de ejecutar comandos del SO, podemos exportar al documento desde la libreta. Por ejemplo para crear `.html`:"
     ]
    },
    {
     "cell_type": "code",
     "collapsed": false,
     "input": [
      "%%bash\n",
      "rm output/*\n",
      "ipython nbconvert --to html lania2014_ipython.ipynb\n",
      "mv *.html output/"
     ],
     "language": "python",
     "metadata": {
      "slideshow": {
       "slide_type": "fragment"
      }
     },
     "outputs": [
      {
       "output_type": "stream",
       "stream": "stderr",
       "text": [
        "[NbConvertApp] Using existing profile dir: u'/Users/horacio/.ipython/profile_default'\n",
        "[NbConvertApp] Converting notebook lania2014_ipython.ipynb to html\n",
        "[NbConvertApp] Support files will be in lania2014_ipython_files/\n",
        "[NbConvertApp] Loaded template full.tpl\n",
        "/Users/horacio/anaconda/lib/python2.7/site-packages/IPython/nbconvert/filters/markdown.py:78: UserWarning: Node.js 0.9.12 or later wasn't found.\n",
        "Nbconvert will try to use Pandoc instead.\n",
        "  \"Nbconvert will try to use Pandoc instead.\")\n",
        "[NbConvertApp] Writing 316910 bytes to lania2014_ipython.html\n",
        "mv: rename *.pdf to output/*.pdf: No such file or directory\n"
       ]
      }
     ],
     "prompt_number": 13
    },
    {
     "cell_type": "markdown",
     "metadata": {
      "slideshow": {
       "slide_type": "slide"
      }
     },
     "source": [
      "## Algunas libretas interesantes\n",
      "Los enlaces que se presentan aqui son ejemplos del extendido uso de las IPython Notebooks en diferentes areas de interes. Los ejemplos cubren temas que van desde el uso basico de las libretas y las herramientas, hasta ejemplos muy avanzados. \n",
      "\n",
      "Algunos de los ejemplos que veremos en las siguientes sesiones estan basados o inspirados en algunas de estas libretas, de modo que tambien pueden servir como referencia. (**Nota: estas libretas estan en ingles**)"
     ]
    },
    {
     "cell_type": "code",
     "collapsed": false,
     "input": [
      "website('http://nbviewer.ipython.org/github/ipython/ipython/blob/2.x/examples/Index.ipynb')"
     ],
     "language": "python",
     "metadata": {},
     "outputs": [
      {
       "ename": "NameError",
       "evalue": "name 'website' is not defined",
       "output_type": "pyerr",
       "traceback": [
        "\u001b[0;31m---------------------------------------------------------------------------\u001b[0m\n\u001b[0;31mNameError\u001b[0m                                 Traceback (most recent call last)",
        "\u001b[0;32m<ipython-input-1-7d64339a994e>\u001b[0m in \u001b[0;36m<module>\u001b[0;34m()\u001b[0m\n\u001b[0;32m----> 1\u001b[0;31m \u001b[0mwebsite\u001b[0m\u001b[0;34m(\u001b[0m\u001b[0;34m'http://nbviewer.ipython.org/github/ipython/ipython/blob/2.x/examples/Index.ipynb'\u001b[0m\u001b[0;34m)\u001b[0m\u001b[0;34m\u001b[0m\u001b[0m\n\u001b[0m",
        "\u001b[0;31mNameError\u001b[0m: name 'website' is not defined"
       ]
      }
     ],
     "prompt_number": 1
    },
    {
     "cell_type": "markdown",
     "metadata": {},
     "source": [
      "## Fuentes y Referencias\n",
      "http://pandas.pydata.org/\n",
      "\n",
      "\n",
      "  [1]: http://pandas.pydata.org/\n",
      "  [2]: http://www.scipy.org/\n",
      "  \n",
      "\n",
      "5.  [nbviewer](http://nbviewer.ipython.org/)\n",
      "\n",
      "[6]:http://htapia.github.io/lania.ipython/\n",
      "\n",
      "2. Fernando P\u00e9rez, Brian E. Granger, IPython: A System for Interactive Scientific Computing, omputing in Science and Engineering, vol. 9, no. 3, pp. 21-29, May/June 2007, doi:10.1109/MCSE.2007.53. URL: http://ipython.org3\n"
     ]
    },
    {
     "cell_type": "code",
     "collapsed": false,
     "input": [],
     "language": "python",
     "metadata": {},
     "outputs": []
    }
   ],
   "metadata": {}
  }
 ]
}