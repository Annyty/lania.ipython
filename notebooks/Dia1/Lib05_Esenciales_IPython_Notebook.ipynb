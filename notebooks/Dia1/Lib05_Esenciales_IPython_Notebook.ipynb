{
 "metadata": {
  "name": ""
 },
 "nbformat": 3,
 "nbformat_minor": 0,
 "worksheets": [
  {
   "cells": [
    {
     "cell_type": "code",
     "collapsed": true,
     "input": [
      "%run ../talktools.py"
     ],
     "language": "python",
     "metadata": {
      "slideshow": {
       "slide_type": "skip"
      }
     },
     "outputs": [
      {
       "html": [
        "\n",
        "<style>\n",
        "    @font-face {\n",
        "        font-family: \"Computer Modern\";\n",
        "        src: url('http://mirrors.ctan.org/fonts/cm-unicode/fonts/otf/cmunss.otf');\n",
        "    }\n",
        "    div.cell{\n",
        "        width:800px;\n",
        "        margin-left:auto !important;\n",
        "        margin-right:auto;\n",
        "\t\tmargin-top:1em;\n",
        "\t\tmargin-bottom:1em;\n",
        "    }\n",
        "    h1 {\n",
        "        font-family: Helvetica, serif;\n",
        "\t\tbackground-color:#b0c4de;\n",
        "\n",
        "\t\t\n",
        "    }\n",
        "\th2 {\n",
        "        font-family: Helvetica, serif;\n",
        "\t\tbackground-color:#b0c4de;\n",
        "\t\t\n",
        "\t\t\n",
        "    }\n",
        "\th3 {\n",
        "        font-family: Helvetica, serif;\n",
        "\t\tbackground-color:#b0c4de;\n",
        "\t\t\n",
        "    }\n",
        "    h4{\n",
        "        margin-top:12px;\n",
        "        margin-bottom: 3px;\n",
        "       }\n",
        "    div.text_cell_render{\n",
        "        font-family: Computer Modern, \"Helvetica Neue\", Arial, Helvetica, Geneva, sans-serif;\n",
        "        line-height: 145%;\n",
        "        font-size: 130%;\n",
        "        width:800px;\n",
        "        margin-left:auto;\n",
        "        margin-right:auto;\n",
        "    }\n",
        "    .CodeMirror{\n",
        "            font-family: \"Source Code Pro\", source-code-pro,Consolas, monospace;\n",
        "    }\n",
        "    \n",
        "    .text_cell_render h5 {\n",
        "        font-weight: 300;\n",
        "        font-size: 22pt;\n",
        "        color: #4057A1;\n",
        "        font-style: italic;\n",
        "        margin-bottom: .5em;\n",
        "        margin-top: 0.5em;\n",
        "        display: block;\n",
        "    }\n",
        "    \n",
        "    .warning{\n",
        "        color: rgb( 240, 20, 20 )\n",
        "        }  \n",
        "\n",
        "\t\tdiv.cell.code_cell {  /* Areat containing both code and output */\n",
        "\t\tbackground-color:#F1F0FF; /* light blue */\n",
        "\t\tborder-radius: 10px; /* rounded borders = friendlier */\n",
        "\t\tpadding: 1em;\n",
        "\t\t}\n",
        "</style>\n",
        "<script>\n",
        "    MathJax.Hub.Config({\n",
        "                        TeX: {\n",
        "                           extensions: [\"AMSmath.js\"]\n",
        "                           },\n",
        "                tex2jax: {\n",
        "                    inlineMath: [ ['$','$'], [\"\\\\(\",\"\\\\)\"] ],\n",
        "                    displayMath: [ ['$$','$$'], [\"\\\\[\",\"\\\\]\"] ]\n",
        "                },\n",
        "                displayAlign: 'center', // Change this to 'center' to center equations.\n",
        "                \"HTML-CSS\": {\n",
        "                    styles: {'.MathJax_Display': {\"margin\": 4}}\n",
        "                }\n",
        "        });\n",
        "</script>"
       ],
       "metadata": {},
       "output_type": "display_data",
       "text": [
        "<IPython.core.display.HTML at 0x105edc9d0>"
       ]
      }
     ],
     "prompt_number": 1
    },
    {
     "cell_type": "markdown",
     "metadata": {
      "slideshow": {
       "slide_type": "slide"
      }
     },
     "source": [
      "![http://ipython.org/_static/IPy_header.png](http://ipython.org/_static/IPy_header.png)\n",
      "\n",
      "[IPython](http://ipython.org/) en acci\u00f3n. Programacion interactiva, investigacion reproducible y trabajo publicable, aplicada al an\u00e1lisis de datos obtenidos con sensores m\u00f3viles (_aka_ smartphones).\n",
      "\n",
      "# La libreta de IPython (IPython Notebook)\n",
      "\n",
      "La IPython notebook, parte del proyecto de IPython(ipython.org) es un ambiente computacional interactivo web (se ejecuta en un navegador por medio de un servidor web) en el cual se puede combinar la ejecucionde codigo, texto, matematicas, graficas y contenido, en un solo documento.\n",
      "\n",
      "![IPython Notebook](http://ipython.org/_static/ipy_0.13.png)"
     ]
    },
    {
     "cell_type": "markdown",
     "metadata": {
      "slideshow": {
       "slide_type": "slide"
      }
     },
     "source": [
      "## User input\n",
      "En el codigo que sigue, la funcion `raw_input()` se usa para ingresar informacion del usuario a la variable `raw` y mostrarla en `stdout`."
     ]
    },
    {
     "cell_type": "code",
     "collapsed": true,
     "input": [
      "from IPython.display import HTML\n",
      "\n",
      "raw = raw_input(\"Entra informacion aqui >>> \")\n",
      "\n",
      "print \"Hola, \",raw"
     ],
     "language": "python",
     "metadata": {
      "slideshow": {
       "slide_type": "fragment"
      }
     },
     "outputs": []
    },
    {
     "cell_type": "markdown",
     "metadata": {
      "slideshow": {
       "slide_type": "slide"
      }
     },
     "source": [
      "## Utilizando el `debugger` de Python - pdb"
     ]
    },
    {
     "cell_type": "code",
     "collapsed": false,
     "input": [
      "%pdb on"
     ],
     "language": "python",
     "metadata": {
      "slideshow": {
       "slide_type": "fragment"
      }
     },
     "outputs": [
      {
       "output_type": "stream",
       "stream": "stdout",
       "text": [
        "Automatic pdb calling has been turned ON\n"
       ]
      }
     ],
     "prompt_number": 3
    },
    {
     "cell_type": "code",
     "collapsed": false,
     "input": [
      "foo = 1\n",
      "bar = 'a'\n",
      "print foo+bar"
     ],
     "language": "python",
     "metadata": {
      "slideshow": {
       "slide_type": "fragment"
      }
     },
     "outputs": [
      {
       "ename": "TypeError",
       "evalue": "unsupported operand type(s) for +: 'int' and 'str'",
       "output_type": "pyerr",
       "traceback": [
        "\u001b[0;31m---------------------------------------------------------------------------\u001b[0m\n\u001b[0;31mTypeError\u001b[0m                                 Traceback (most recent call last)",
        "\u001b[0;32m<ipython-input-4-08464a413a31>\u001b[0m in \u001b[0;36m<module>\u001b[0;34m()\u001b[0m\n\u001b[1;32m      1\u001b[0m \u001b[0mfoo\u001b[0m \u001b[0;34m=\u001b[0m \u001b[0;36m1\u001b[0m\u001b[0;34m\u001b[0m\u001b[0m\n\u001b[1;32m      2\u001b[0m \u001b[0mbar\u001b[0m \u001b[0;34m=\u001b[0m \u001b[0;34m'a'\u001b[0m\u001b[0;34m\u001b[0m\u001b[0m\n\u001b[0;32m----> 3\u001b[0;31m \u001b[0;32mprint\u001b[0m \u001b[0mfoo\u001b[0m\u001b[0;34m+\u001b[0m\u001b[0mbar\u001b[0m\u001b[0;34m\u001b[0m\u001b[0m\n\u001b[0m",
        "\u001b[0;31mTypeError\u001b[0m: unsupported operand type(s) for +: 'int' and 'str'"
       ]
      },
      {
       "output_type": "stream",
       "stream": "stdout",
       "text": [
        "> \u001b[0;32m<ipython-input-4-08464a413a31>\u001b[0m(3)\u001b[0;36m<module>\u001b[0;34m()\u001b[0m\n",
        "\u001b[0;32m      1 \u001b[0;31m\u001b[0mfoo\u001b[0m \u001b[0;34m=\u001b[0m \u001b[0;36m1\u001b[0m\u001b[0;34m\u001b[0m\u001b[0m\n",
        "\u001b[0m\u001b[0;32m      2 \u001b[0;31m\u001b[0mbar\u001b[0m \u001b[0;34m=\u001b[0m \u001b[0;34m'a'\u001b[0m\u001b[0;34m\u001b[0m\u001b[0m\n",
        "\u001b[0m\u001b[0;32m----> 3 \u001b[0;31m\u001b[0;32mprint\u001b[0m \u001b[0mfoo\u001b[0m\u001b[0;34m+\u001b[0m\u001b[0mbar\u001b[0m\u001b[0;34m\u001b[0m\u001b[0m\n",
        "\u001b[0m\n"
       ]
      },
      {
       "name": "stdout",
       "output_type": "stream",
       "stream": "stdout",
       "text": [
        "ipdb> bt\n"
       ]
      },
      {
       "output_type": "stream",
       "stream": "stdout",
       "text": [
        "> \u001b[0;32m<ipython-input-4-08464a413a31>\u001b[0m(3)\u001b[0;36m<module>\u001b[0;34m()\u001b[0m\n",
        "\u001b[0;32m      1 \u001b[0;31m\u001b[0mfoo\u001b[0m \u001b[0;34m=\u001b[0m \u001b[0;36m1\u001b[0m\u001b[0;34m\u001b[0m\u001b[0m\n",
        "\u001b[0m\u001b[0;32m      2 \u001b[0;31m\u001b[0mbar\u001b[0m \u001b[0;34m=\u001b[0m \u001b[0;34m'a'\u001b[0m\u001b[0;34m\u001b[0m\u001b[0m\n",
        "\u001b[0m\u001b[0;32m----> 3 \u001b[0;31m\u001b[0;32mprint\u001b[0m \u001b[0mfoo\u001b[0m\u001b[0;34m+\u001b[0m\u001b[0mbar\u001b[0m\u001b[0;34m\u001b[0m\u001b[0m\n",
        "\u001b[0m\n"
       ]
      },
      {
       "name": "stdout",
       "output_type": "stream",
       "stream": "stdout",
       "text": [
        "ipdb> quit\n"
       ]
      }
     ],
     "prompt_number": 4
    },
    {
     "cell_type": "markdown",
     "metadata": {
      "slideshow": {
       "slide_type": "slide"
      }
     },
     "source": [
      "## La `magia` de las libretas\n",
      "IPython tiene un conjunto de `funciones magicas` predeterminadas que pueden invocarse con una sintaxis similar a la linea de comando. Existen dos tipos de \"magias\", orientadas a ejecuciones en linea y orientadas a ejecuciones de celdas completas.\n",
      "\n",
      "Las funciones magicas de linea se anteceden por el caracter % y tienen una funcionalidad similar a los comandos del SO: como argumento usan el resto de la linea y los argumentos se pasan sin parentesis o comillas.\n",
      "\n",
      "Las funciones magicas de celdas se anteceden por un doble %%, y son funciones que usan como argumento toda una celda completa, linea por linea como argumento separado.\n",
      "\n",
      "A continuacion algunos ejemplos utiles."
     ]
    },
    {
     "cell_type": "markdown",
     "metadata": {
      "slideshow": {
       "slide_type": "subslide"
      }
     },
     "source": [
      "### %timeit \n",
      "La funcion magica `%timeit` puede usarse para evaluar el tiempo promedio que un loop o un pedazo de codigo tarda en completarse una vez que se ejecuta."
     ]
    },
    {
     "cell_type": "code",
     "collapsed": false,
     "input": [
      "%timeit np.linalg.eigvals(np.random.rand(100,100))"
     ],
     "language": "python",
     "metadata": {
      "slideshow": {
       "slide_type": "fragment"
      }
     },
     "outputs": []
    },
    {
     "cell_type": "code",
     "collapsed": false,
     "input": [
      "%%timeit \n",
      "x = 0   # setup\n",
      "for i in range(100000):    #lets use range here\n",
      "    x = x + i**2"
     ],
     "language": "python",
     "metadata": {
      "slideshow": {
       "slide_type": "fragment"
      }
     },
     "outputs": []
    },
    {
     "cell_type": "code",
     "collapsed": false,
     "input": [
      "%%timeit \n",
      "x = 0   # setup\n",
      "for i in xrange(100000):   #replace range with slightly improved xrange\n",
      "    x += i**2"
     ],
     "language": "python",
     "metadata": {
      "slideshow": {
       "slide_type": "fragment"
      }
     },
     "outputs": []
    },
    {
     "cell_type": "markdown",
     "metadata": {
      "slideshow": {
       "slide_type": "subslide"
      }
     },
     "source": [
      "### include more magic fuctions"
     ]
    },
    {
     "cell_type": "markdown",
     "metadata": {
      "slideshow": {
       "slide_type": "slide"
      }
     },
     "source": [
      "## Acceso y ejecucion de codigo externos"
     ]
    },
    {
     "cell_type": "code",
     "collapsed": false,
     "input": [
      "%load http://pastebin.com/raw.php?i=mGiV1FwY"
     ],
     "language": "python",
     "metadata": {
      "slideshow": {
       "slide_type": "fragment"
      }
     },
     "outputs": []
    },
    {
     "cell_type": "markdown",
     "metadata": {
      "slideshow": {
       "slide_type": "slide"
      }
     },
     "source": [
      "## Salvando a [Gist](https://gist.github.com/)\n",
      "Gist es una forma sencilla de compartir _snippets_ de codigo. Es posible, desde las libretas, salvar lineas de codigo especificas usando la funcion magica `pastebin`:"
     ]
    },
    {
     "cell_type": "code",
     "collapsed": false,
     "input": [
      "%pastebin?"
     ],
     "language": "python",
     "metadata": {
      "slideshow": {
       "slide_type": "fragment"
      }
     },
     "outputs": [],
     "prompt_number": 4
    },
    {
     "cell_type": "code",
     "collapsed": false,
     "input": [
      "%pastebin \"grafica\" 0-10"
     ],
     "language": "python",
     "metadata": {
      "slideshow": {
       "slide_type": "fragment"
      }
     },
     "outputs": [
      {
       "metadata": {},
       "output_type": "pyout",
       "prompt_number": 75,
       "text": [
        "u'https://gist.github.com/2ddab870b06ab2ab0e65'"
       ]
      }
     ],
     "prompt_number": 75
    },
    {
     "cell_type": "markdown",
     "metadata": {
      "slideshow": {
       "slide_type": "slide"
      }
     },
     "source": [
      "## En un navegador... puede ejecutarse javascript...\n",
      "\n",
      "[Fuente](http://jakevdp.github.io/blog/2013/06/01/ipython-notebook-javascript-python-communication/)"
     ]
    },
    {
     "cell_type": "code",
     "collapsed": false,
     "input": [
      "from IPython.display import HTML\n",
      "\n",
      "input_form = \"\"\"\n",
      "<div style=\"background-color:gainsboro; border:solid black; width:630px; padding:20px;\">\n",
      "Variable Name: <input type=\"text\" id=\"var_name\" value=\"var\"><br>\n",
      "Variable Value: <input type=\"text\" id=\"var_value\" value=\"val\"><br>\n",
      "<button onclick=\"set_value()\">Set Value</button>\n",
      "</div>\n",
      "\"\"\"\n",
      "\n",
      "javascript = \"\"\"\n",
      "<script type=\"text/Javascript\">\n",
      "    function set_value(){\n",
      "        var var_name = document.getElementById('var_name').value;\n",
      "        var var_value = document.getElementById('var_value').value;\n",
      "        var command = var_name + \" = '\" + var_value + \"'\";\n",
      "        console.log(\"Executing Command: \" + command);\n",
      "        \n",
      "        var kernel = IPython.notebook.kernel;\n",
      "        kernel.execute(command);\n",
      "    }\n",
      "</script>\n",
      "\"\"\"\n",
      "\n",
      "\n",
      "HTML(input_form + javascript)"
     ],
     "language": "python",
     "metadata": {
      "slideshow": {
       "slide_type": "fragment"
      }
     },
     "outputs": [
      {
       "html": [
        "\n",
        "<div style=\"background-color:gainsboro; border:solid black; width:630px; padding:20px;\">\n",
        "Variable Name: <input type=\"text\" id=\"var_name\" value=\"var\"><br>\n",
        "Variable Value: <input type=\"text\" id=\"var_value\" value=\"val\"><br>\n",
        "<button onclick=\"set_value()\">Set Value</button>\n",
        "</div>\n",
        "\n",
        "<script type=\"text/Javascript\">\n",
        "    function set_value(){\n",
        "        var var_name = document.getElementById('var_name').value;\n",
        "        var var_value = document.getElementById('var_value').value;\n",
        "        var command = var_name + \" = '\" + var_value + \"'\";\n",
        "        console.log(\"Executing Command: \" + command);\n",
        "        \n",
        "        var kernel = IPython.notebook.kernel;\n",
        "        kernel.execute(command);\n",
        "    }\n",
        "</script>\n"
       ],
       "metadata": {},
       "output_type": "pyout",
       "prompt_number": 65,
       "text": [
        "<IPython.core.display.HTML at 0x7fc12d3f3a90>"
       ]
      }
     ],
     "prompt_number": 65
    },
    {
     "cell_type": "code",
     "collapsed": false,
     "input": [
      "qwerty"
     ],
     "language": "python",
     "metadata": {
      "slideshow": {
       "slide_type": "fragment"
      }
     },
     "outputs": [
      {
       "metadata": {},
       "output_type": "pyout",
       "prompt_number": 64,
       "text": [
        "'foo'"
       ]
      }
     ],
     "prompt_number": 64
    },
    {
     "cell_type": "markdown",
     "metadata": {
      "slideshow": {
       "slide_type": "slide"
      }
     },
     "source": [
      "## Conectarse a un kernel remotamente\n",
      "Usando la funcion magica `%connect_info` puede obtenerse informacion sobre la conexion y usarla para acceder a esta libreta desde otra consola de python (por ejemplo desde una terminal qtconsole) usando la instruccion:\n",
      "\n",
      "    ipython qtconsole --existing"
     ]
    },
    {
     "cell_type": "code",
     "collapsed": false,
     "input": [
      "%connect_info"
     ],
     "language": "python",
     "metadata": {
      "slideshow": {
       "slide_type": "fragment"
      }
     },
     "outputs": [
      {
       "output_type": "stream",
       "stream": "stdout",
       "text": [
        "{\n",
        "  \"stdin_port\": 35508, \n",
        "  \"ip\": \"127.0.0.1\", \n",
        "  \"control_port\": 34186, \n",
        "  \"hb_port\": 48236, \n",
        "  \"signature_scheme\": \"hmac-sha256\", \n",
        "  \"key\": \"7e7d64e1-229b-4d4a-b1e7-e6523e0fe88b\", \n",
        "  \"shell_port\": 50432, \n",
        "  \"transport\": \"tcp\", \n",
        "  \"iopub_port\": 43523\n",
        "}\n",
        "\n",
        "Paste the above JSON into a file, and connect with:\n",
        "    $> ipython <app> --existing <file>\n",
        "or, if you are local, you can connect with just:\n",
        "    $> ipython <app> --existing kernel-eb23a0cf-a20b-4076-affb-2df5663026ab.json \n",
        "or even just:\n",
        "    $> ipython <app> --existing \n",
        "if this is the most recent IPython session you have started.\n"
       ]
      }
     ],
     "prompt_number": 98
    },
    {
     "cell_type": "markdown",
     "metadata": {
      "slideshow": {
       "slide_type": "slide"
      }
     },
     "source": [
      "## Publicando el trabajo\n",
      "IPython contiene una herramienta llamada `nbconvert` que permite convertir el archivo `.ipynb` de una libreta en un documento estatico en diversos formatos.\n",
      "\n",
      "Actualmente `nbconvert` es una herramienta en la linea de comando y se ejecuta como un script de Ipython. Existen extensiones experimentales para exportar directamente desde la libreta web, pero no son suficientemente estables para ser parte de la distribucion actual.\n",
      "\n",
      "La sintaxis para el uso de `nbconvert` es: [MAS INFORMACION](http://ipython.org/ipython-doc/2/notebook/nbconvert.html)\n",
      "\n",
      "    ipython nbconvert --to FORMATO libreta.ipynb\n",
      "\n",
      "Esta libreta sera convertida a los siguiente formatos publicables usando esta herramienta:\n",
      "\n",
      "* Esta presentacion (usando `Reveal.js`) \n",
      "\n",
      "* HTML\n",
      "\n",
      "* PDF (en Windows se usa `wkhtml2pdf`)\n",
      "\n",
      "* $\\LaTeX$\n",
      "\n",
      "\n",
      "[VER MAS](http://nbviewer.ipython.org/github/Carreau/posts/blob/master/06-NBconvert-Doc-Draft.ipynb)"
     ]
    },
    {
     "cell_type": "markdown",
     "metadata": {
      "slideshow": {
       "slide_type": "slide"
      }
     },
     "source": [
      "## Exportando desde la libreta\n",
      "Usando las capacidades de ejecutar comandos del SO, podemos exportar al documento desde la libreta. Por ejemplo para crear `.html`:"
     ]
    },
    {
     "cell_type": "code",
     "collapsed": false,
     "input": [
      "%%bash\n",
      "rm output/*\n",
      "ipython nbconvert --to html lania2014_ipython.ipynb\n",
      "mv *.html output/"
     ],
     "language": "python",
     "metadata": {
      "slideshow": {
       "slide_type": "fragment"
      }
     },
     "outputs": [
      {
       "output_type": "stream",
       "stream": "stderr",
       "text": [
        "[NbConvertApp] Using existing profile dir: u'/Users/horacio/.ipython/profile_default'\n",
        "[NbConvertApp] Converting notebook lania2014_ipython.ipynb to html\n",
        "[NbConvertApp] Support files will be in lania2014_ipython_files/\n",
        "[NbConvertApp] Loaded template full.tpl\n",
        "/Users/horacio/anaconda/lib/python2.7/site-packages/IPython/nbconvert/filters/markdown.py:78: UserWarning: Node.js 0.9.12 or later wasn't found.\n",
        "Nbconvert will try to use Pandoc instead.\n",
        "  \"Nbconvert will try to use Pandoc instead.\")\n",
        "[NbConvertApp] Writing 316910 bytes to lania2014_ipython.html\n",
        "mv: rename *.pdf to output/*.pdf: No such file or directory\n"
       ]
      }
     ],
     "prompt_number": 13
    },
    {
     "cell_type": "markdown",
     "metadata": {
      "slideshow": {
       "slide_type": "slide"
      }
     },
     "source": [
      "## Enlaces a los archivos locales\n",
      "Se pueden acceder los archivos generados por el proceso de exportacion, sin necesidad de dejar la libreta:"
     ]
    },
    {
     "cell_type": "code",
     "collapsed": false,
     "input": [
      "FileLinks('output/')"
     ],
     "language": "python",
     "metadata": {
      "slideshow": {
       "slide_type": "fragment"
      }
     },
     "outputs": [
      {
       "ename": "NameError",
       "evalue": "name 'FileLinks' is not defined",
       "output_type": "pyerr",
       "traceback": [
        "\u001b[1;31m---------------------------------------------------------------------------\u001b[0m\n\u001b[1;31mNameError\u001b[0m                                 Traceback (most recent call last)",
        "\u001b[1;32m<ipython-input-1-8e695c4f4e2f>\u001b[0m in \u001b[0;36m<module>\u001b[1;34m()\u001b[0m\n\u001b[1;32m----> 1\u001b[1;33m \u001b[0mFileLinks\u001b[0m\u001b[1;33m(\u001b[0m\u001b[1;34m'output/'\u001b[0m\u001b[1;33m)\u001b[0m\u001b[1;33m\u001b[0m\u001b[0m\n\u001b[0m",
        "\u001b[1;31mNameError\u001b[0m: name 'FileLinks' is not defined"
       ]
      }
     ],
     "prompt_number": 1
    },
    {
     "cell_type": "markdown",
     "metadata": {
      "slideshow": {
       "slide_type": "slide"
      }
     },
     "source": [
      "## Algunas libretas interesantes\n",
      "Los enlaces que se presentan aqui son ejemplos del extendido uso de las IPython Notebooks en diferentes areas de interes. Los ejemplos cubren temas que van desde el uso basico de las libretas y las herramientas, hasta ejemplos muy avanzados. \n",
      "\n",
      "Algunos de los ejemplos que veremos en las siguientes sesiones estan basados o inspirados en algunas de estas libretas, de modo que tambien pueden servir como referencia. (**Nota: estas libretas estan en ingles**)"
     ]
    },
    {
     "cell_type": "code",
     "collapsed": false,
     "input": [
      "website('http://nbviewer.ipython.org/github/ipython/ipython/blob/2.x/examples/Index.ipynb')"
     ],
     "language": "python",
     "metadata": {},
     "outputs": [
      {
       "html": [
        "<div sytle=\"margin-bottom:10px\">\n",
        "<a href=\"http://nbviewer.ipython.org/github/ipython/ipython/blob/2.x/examples/Index.ipynb\">http://nbviewer.ipython.org/github/ipython/ipython/blob/2.x/examples/Index.ipynb</a>\n",
        "</div>\n",
        "<iframe src=\"http://nbviewer.ipython.org/github/ipython/ipython/blob/2.x/examples/Index.ipynb\"  width=\"800\" height=\"450\"></iframe>"
       ],
       "metadata": {},
       "output_type": "pyout",
       "prompt_number": 18,
       "text": [
        "<IPython.core.display.HTML at 0x105fa2d10>"
       ]
      }
     ],
     "prompt_number": 18
    },
    {
     "cell_type": "markdown",
     "metadata": {
      "slideshow": {
       "slide_type": "slide"
      }
     },
     "source": [
      "## Fuentes y Referencias\n",
      "http://pandas.pydata.org/\n",
      "\n",
      "\n",
      "  [1]: http://pandas.pydata.org/\n",
      "  [2]: http://www.scipy.org/\n",
      "  \n",
      "\n",
      "5.  [nbviewer](http://nbviewer.ipython.org/)\n",
      "\n",
      "[6]:http://htapia.github.io/lania.ipython/\n",
      "\n",
      "2. Fernando P\u00e9rez, Brian E. Granger, IPython: A System for Interactive Scientific Computing, omputing in Science and Engineering, vol. 9, no. 3, pp. 21-29, May/June 2007, doi:10.1109/MCSE.2007.53. URL: http://ipython.org3\n"
     ]
    },
    {
     "cell_type": "code",
     "collapsed": false,
     "input": [],
     "language": "python",
     "metadata": {},
     "outputs": []
    }
   ],
   "metadata": {}
  }
 ]
}