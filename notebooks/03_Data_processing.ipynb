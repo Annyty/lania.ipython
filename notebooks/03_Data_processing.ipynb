{
 "metadata": {
  "name": "",
  "signature": "sha256:2e31f543bba47dc8bea912699155bec835c8ede2f30d903609fc0e4695421537"
 },
 "nbformat": 3,
 "nbformat_minor": 0,
 "worksheets": [
  {
   "cells": [
    {
     "cell_type": "markdown",
     "metadata": {},
     "source": [
      "Para procesar nuestros datos, en forma de imagenes digitales, importamos el modulo #####"
     ]
    },
    {
     "cell_type": "code",
     "collapsed": false,
     "input": [
      "ls /home/htapia/LocalRepos/lania.research/scipy-tutorial-2014/notebooks/dexy"
     ],
     "language": "python",
     "metadata": {},
     "outputs": [
      {
       "output_type": "stream",
       "stream": "stdout",
       "text": [
        "00.py      dexy.yaml   imagedownloader.py  \u001b[0m\u001b[01;34mtest\u001b[0m/\r\n",
        "dexy.conf  eyesize.py  sand-hopper.tex\r\n"
       ]
      }
     ],
     "prompt_number": 2
    },
    {
     "cell_type": "markdown",
     "metadata": {},
     "source": [
      "## Reusando codigo\n",
      "En la libreta anterior escribimos unos comandos que nos permitieron descargar los datos de la nube a nuestro sistema local.\n",
      "\n",
      "Podemos escrbir las lineas de codigo en una clase de Python y guardarla en un modulo, para reusar el codigo:"
     ]
    },
    {
     "cell_type": "code",
     "collapsed": false,
     "input": [
      "%load imagedownloader.py"
     ],
     "language": "python",
     "metadata": {},
     "outputs": [],
     "prompt_number": 5
    },
    {
     "cell_type": "code",
     "collapsed": false,
     "input": [
      "\n",
      "import urllib\n",
      "import json\n",
      "\n",
      "class ImageDownloader(object):\n",
      "\n",
      "    figshare_id = None\n",
      "    image_name = None\n",
      "\n",
      "    def __init__(self):\n",
      "      pass\n",
      "\n",
      "    def set_figshare_id(self,figshare_id):\n",
      "      self.figshare_id = figshare_id\n",
      "\n",
      "    def set_image_name(self,image_name):\n",
      "      self.image_name = image_name\n",
      "\n",
      "    def download(self):\n",
      "      figshare_url = \"http://api.figshare.com/v1/articles/%s\" % self.figshare_id\n",
      "      f = urllib.urlopen(figshare_url)\n",
      "      info = json.load(f)\n",
      "      image_url = info['items'][0]['files'][0]['download_url']\n",
      "      urllib.urlretrieve(image_url, self.image_name)\n"
     ],
     "language": "python",
     "metadata": {},
     "outputs": []
    },
    {
     "cell_type": "markdown",
     "metadata": {},
     "source": [
      "Como este modulo esta en el mismo directorio de trabajo que la libreta con la que estamos trabajando, podemos importarlo directamente a nuestra sesion:"
     ]
    },
    {
     "cell_type": "code",
     "collapsed": false,
     "input": [
      "import imagedownloader"
     ],
     "language": "python",
     "metadata": {},
     "outputs": [],
     "prompt_number": 8
    },
    {
     "cell_type": "markdown",
     "metadata": {},
     "source": [
      "## Descargando la imagen\n",
      "Ahora usaremos la funcionalidad del modulo para descargar la imagen:"
     ]
    },
    {
     "cell_type": "code",
     "collapsed": false,
     "input": [
      "descarga = imagedownloader.ImageDownloader()\n",
      "\n",
      "img_nombre = \"arania.jpg\"\n"
     ],
     "language": "python",
     "metadata": {},
     "outputs": [],
     "prompt_number": 9
    },
    {
     "cell_type": "code",
     "collapsed": false,
     "input": [
      "descarga.set_figshare_id('1190169')\n",
      "descarga.set_image_name(img_nombre)"
     ],
     "language": "python",
     "metadata": {},
     "outputs": [],
     "prompt_number": 10
    },
    {
     "cell_type": "code",
     "collapsed": false,
     "input": [
      "descarga.download()"
     ],
     "language": "python",
     "metadata": {},
     "outputs": [],
     "prompt_number": 11
    },
    {
     "cell_type": "code",
     "collapsed": false,
     "input": [
      "ls *.jpg"
     ],
     "language": "python",
     "metadata": {},
     "outputs": [
      {
       "output_type": "stream",
       "stream": "stdout",
       "text": [
        "\u001b[0m\u001b[01;35marania.jpg\u001b[0m\r\n"
       ]
      }
     ],
     "prompt_number": 12
    },
    {
     "cell_type": "markdown",
     "metadata": {},
     "source": [
      "## Desplegando la imagen\n",
      "Ahora vamos a visualizar la imagen en la libreta. Para esto podemos usar la funcionalidad de IPython Notebook a traves del modulo display."
     ]
    },
    {
     "cell_type": "code",
     "collapsed": false,
     "input": [
      "# from IPython.display import Image"
     ],
     "language": "python",
     "metadata": {},
     "outputs": [],
     "prompt_number": 13
    },
    {
     "cell_type": "code",
     "collapsed": false,
     "input": [
      "# i = Image('arania.jpg')\n",
      "# i"
     ],
     "language": "python",
     "metadata": {},
     "outputs": [],
     "prompt_number": 1
    },
    {
     "cell_type": "markdown",
     "metadata": {},
     "source": [
      "Para realizar manipulaciones sobre la imagen usaremos las librerias `matplotlib`, `numpy` y `SimpleCV' o `skimage`:"
     ]
    },
    {
     "cell_type": "code",
     "collapsed": false,
     "input": [
      "import matplotlib.pyplot as plt\n",
      "import matplotlib.cm as cm\n",
      "import numpy as np\n",
      "from matplotlib.pylab import imshow\n",
      "from SimpleCV import Image"
     ],
     "language": "python",
     "metadata": {},
     "outputs": [],
     "prompt_number": 21
    },
    {
     "cell_type": "code",
     "collapsed": false,
     "input": [
      "i = Image('arania.jpg')"
     ],
     "language": "python",
     "metadata": {},
     "outputs": [
      {
       "metadata": {},
       "output_type": "pyout",
       "prompt_number": 32,
       "text": [
        "<SimpleCV.Display Object resolution:((960, 1280)), Image Resolution: (960, 1280) at memory location: (0x7ff0b0162128)>"
       ]
      }
     ],
     "prompt_number": 32
    },
    {
     "cell_type": "code",
     "collapsed": false,
     "input": [
      "import SimpleITK as sitk"
     ],
     "language": "python",
     "metadata": {},
     "outputs": [
      {
       "ename": "ImportError",
       "evalue": "No module named SimpleITK",
       "output_type": "pyerr",
       "traceback": [
        "\u001b[1;31m---------------------------------------------------------------------------\u001b[0m\n\u001b[1;31mImportError\u001b[0m                               Traceback (most recent call last)",
        "\u001b[1;32m<ipython-input-35-3dd12c25dd88>\u001b[0m in \u001b[0;36m<module>\u001b[1;34m()\u001b[0m\n\u001b[1;32m----> 1\u001b[1;33m \u001b[1;32mimport\u001b[0m \u001b[0mSimpleITK\u001b[0m \u001b[1;32mas\u001b[0m \u001b[0msitk\u001b[0m\u001b[1;33m\u001b[0m\u001b[0m\n\u001b[0m",
        "\u001b[1;31mImportError\u001b[0m: No module named SimpleITK"
       ]
      }
     ],
     "prompt_number": 35
    },
    {
     "cell_type": "code",
     "collapsed": false,
     "input": [
      "import android"
     ],
     "language": "python",
     "metadata": {},
     "outputs": [
      {
       "ename": "ImportError",
       "evalue": "No module named android",
       "output_type": "pyerr",
       "traceback": [
        "\u001b[1;31m---------------------------------------------------------------------------\u001b[0m\n\u001b[1;31mImportError\u001b[0m                               Traceback (most recent call last)",
        "\u001b[1;32m<ipython-input-1-89798a5c0215>\u001b[0m in \u001b[0;36m<module>\u001b[1;34m()\u001b[0m\n\u001b[1;32m----> 1\u001b[1;33m \u001b[1;32mimport\u001b[0m \u001b[0mandroid\u001b[0m\u001b[1;33m\u001b[0m\u001b[0m\n\u001b[0m",
        "\u001b[1;31mImportError\u001b[0m: No module named android"
       ]
      }
     ],
     "prompt_number": 1
    },
    {
     "cell_type": "code",
     "collapsed": false,
     "input": [],
     "language": "python",
     "metadata": {},
     "outputs": []
    }
   ],
   "metadata": {}
  }
 ]
}