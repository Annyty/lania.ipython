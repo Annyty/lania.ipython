{
 "metadata": {
  "name": "",
  "signature": "sha256:d62a0f03cd83e7da64f2113c74aca6d6f55840caa9dabe5aabb38bac454efae3"
 },
 "nbformat": 3,
 "nbformat_minor": 0,
 "worksheets": [
  {
   "cells": [
    {
     "cell_type": "markdown",
     "metadata": {},
     "source": [
      "En esta sesion tomaremos datos en forma de imagenes digitales usando nuestros dispositivos moviles."
     ]
    },
    {
     "cell_type": "markdown",
     "metadata": {},
     "source": [
      "Haremos honor al metodo desarrollado por [Antoine van Leeuwenhoek](http://es.wikipedia.org/wiki/Anton_van_Leeuwenhoek) en los 1600s. "
     ]
    },
    {
     "cell_type": "code",
     "collapsed": false,
     "input": [
      "# from IPython.display import HTML\n",
      "# HTML(url='http://es.wikipedia.org/wiki/Anton_van_Leeuwenhoek')"
     ],
     "language": "python",
     "metadata": {},
     "outputs": [],
     "prompt_number": 4
    },
    {
     "cell_type": "markdown",
     "metadata": {},
     "source": [
      "Se dice que van Leeuwenhoek realizo algunas de sus primeras observaciones microscopicas usando una gota de agua como lente esferico."
     ]
    },
    {
     "cell_type": "code",
     "collapsed": false,
     "input": [
      "from IPython.display import Image\n",
      "Image(url='http://1.bp.blogspot.com/-K16-1qulgJY/UtU-BXagDxI/AAAAAAAAAKY/1w2qspa5fgs/s1600/Olaf+telescope.jpg')"
     ],
     "language": "python",
     "metadata": {},
     "outputs": [
      {
       "html": [
        "<img src=\"http://1.bp.blogspot.com/-K16-1qulgJY/UtU-BXagDxI/AAAAAAAAAKY/1w2qspa5fgs/s1600/Olaf+telescope.jpg\"/>"
       ],
       "metadata": {},
       "output_type": "pyout",
       "prompt_number": 2,
       "text": [
        "<IPython.core.display.Image at 0x104804810>"
       ]
      }
     ],
     "prompt_number": 2
    },
    {
     "cell_type": "markdown",
     "metadata": {},
     "source": [
      "Una gota de agua tiene un diametro de alrededor de 2 a 4 milimetros, lo cual resulta en un poder de amplificacion alto: la amplificacion es inversamente proporcional al radio de la gota, lo cual implica que a menor diametro (gota chica) mayor es la amplificacion."
     ]
    },
    {
     "cell_type": "markdown",
     "metadata": {},
     "source": [
      "El primer ejercicio que realizaremos sera colocar una gota de agua sobre una superficie de cristal, con lo cual crearemos una lente semi-esferica.\n",
      "\n",
      "## Paso 1\n",
      "\n",
      "Usando un dispositivo movil:\n",
      "\n",
      "* telefono celular\n",
      "* tableta\n",
      "\n",
      "Agua:\n",
      "\n",
      "* dentro de un vaso\n",
      "* usen una servilleta\n",
      "\n"
     ]
    },
    {
     "cell_type": "markdown",
     "metadata": {},
     "source": [
      "La amplificacion"
     ]
    }
   ],
   "metadata": {}
  }
 ]
}