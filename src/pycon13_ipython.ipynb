{
 "metadata": {
  "name": ""
 },
 "nbformat": 3,
 "nbformat_minor": 0,
 "worksheets": [
  {
   "cells": [
    {
     "cell_type": "markdown",
     "metadata": {},
     "source": [
      "IPython Notebooks and the Python Scientific Stack\n",
      "---\n",
      "\n",
      "[IPython](http://ipython.org/) in action creating reproducible and publishable interactive work.\n",
      "\n",
      "What is this?\n",
      "------\n",
      "\n",
      "This repo contains the full [talk](http://za.pycon.org/talks/10/) I intend to deliver (have delivered) at [PyConZA2013](http://za.pycon.org/). It contains all the files needed to build a final publishable PDF document and even adds a customer front page.\n",
      "\n",
      "[The Complete Talk GitHub Website can be accessed here][6]\n",
      "\n",
      "Background\n",
      "-------------\n",
      "IPython had become a popular choice for doing interactive scientific work. It extends the standard Python interpreter and adds many useful new futures. There is really no need to use the standard Python interpreter anymore.\n",
      "In addition to this IPython offers a web based Notebook that makes interactive work much easier, and have been used to write repeatable scientific papers and more recently a book has been written using this platform, the online Notebook Viewer and GitHub. The development of this material and tool chain to compile the notebook to a publishable PDF, has inspired me to maybe even try and turn this into a complete (free) book. Let\u2019s see what happens.\n",
      "\n",
      "Combining the most common scientific packages with IPython makes it a formidable tool and serious competition to R. ( _R is still awesome!_ )\n",
      "\n",
      "As a matter of fact you can run R in the notebook session, embed YouTube Videos, Images and lots more but let me not get ahead of myself....\n",
      "\n",
      "The science stack consists of (but not limited to):\n",
      "\n",
      "package  |  description\n",
      "---  |  ---\n",
      "[pandas][1]  |  `dataframe` implementation (based on numpy)\n",
      "[scipy][2]  |  efficient numerical routines\n",
      "[sympy][3]  |  `symbolic mathematics`\n",
      "[matplotlib][4]  |  python standard `plotting` package\n",
      "[sci-kit learn][5] | machine learning and `well documented!`\n",
      "\n",
      "Talk contents\n",
      "--------\n",
      "The talk will aim to introduce these tools and give some practical examples. Once completed it will be shown how easy it is to publish your work to various formats. Some of the topics covered in the talk are listed below:\n",
      "\n",
      "item   | description\n",
      "---- |  -------\n",
      "ipython | quick intro to ipython and the notebook\n",
      "setup  | set up your environment / get the talk files\n",
      "notebook basics | navigate the notebook\n",
      "notebook magic\u2019s | special notebook commands that can be very useful\n",
      "getting input   | as from IPython 1.00 getting input from sdtin is possible\n",
      "local files | how to link to local files in the notebook directory\n",
      "plotting\t| how to create beautiful inline plots\n",
      "symbolic math | quick demo of sympy model\n",
      "pandas  | quick intro to pandas dataframe\n",
      "typsetting | include markdown, Latex via MathJax\n",
      "loading code | how to load a remote .py code file\n",
      "gist         | paste some of your work to gist for sharing\n",
      "js\t\t| some javascript examples\n",
      "customising | loading a customer css and custom matplotlib config file\n",
      "git cell    | add code to a special cell that would commit to git\n",
      "output formats | how to publish your work to html, pdf or jeveal.js presentation\n",
      "\n",
      "\n",
      "Get the talk files here\n",
      "------\n",
      "format  | description\n",
      "------- | ------------\n",
      "[IPython notebook](https://github.com/Tooblippe/zapycon2013_ipython_science/blob/master/src/pycon13_ipython.ipynb)  |  .ipynb file to run in browser\n",
      "[IPython html notebook](http://htmlpreview.github.io/?https://github.com/Tooblippe/zapycon2013_ipython_science/blob/master/src/output/pycon13_ipython.html) | converted to HTML and served online\n",
      "[IPython pdf notebook](https://github.com/Tooblippe/zapycon2013_ipython_science/blob/master/src/output/pycon13_ipython_pdf.pdf?raw=true)  | converted to PDF for download (to be added, needs pandoc)\n",
      "[IPython pdf book](https://github.com/Tooblippe/zapycon2013_ipython_science/blob/master/src/output/pycon13_ipython_complete.pdf?raw=true)  | converted to pdf and a front-page stitched to it)\n",
      "[Ipython reveal.js presentation](http://htmlpreview.github.io/?https://github.com/Tooblippe/zapycon2013_ipython_science/blob/master/src/output/pycon13_ipython.slides.html#/) | converted to a reveal.js presentation and served online\n",
      "[Online IPython NBveiwer](http://nbviewer.ipython.org/urls/raw.github.com/Tooblippe/zapycon2013_ipython_science/master/src/pycon13_ipython.ipynb)  | view on the ipython notebook viewer\n",
      "\n",
      "\n",
      "Dependencies\n",
      "-------------\n",
      "I was given the challenge to develop all of this on a Windows machine as some of my sponsors want to demonstrate that this stuff can not only be done on GNU/Linux/OSX. So all the tool chains are Windows based. If you know Linux, then you are the type of person that would easily port this. That being said the Windows GitHub client is refreshing.\n",
      "\n",
      "package  |  description\n",
      "-------- | ------------\n",
      "IPython  | To use NBConvert you need V1.00. If you only want to use the interactive notebook then v0.13 will be ok.\n",
      "pandoc \t | The document converter used by IPythonr\n",
      "MikeTex  | If you want to do a TEX to PDF transform. I had so many issues with the TEX to PDF conversion by NBConvert, so settled for wkhtmltopdf(below) to convert HTML to PDF rather. (Convert notebook to HTML with NBconvert and then from HTML to PDF with wkhtmltopdf\n",
      "wkhtmltopdf  | Convert HTML to PDF\n",
      "pdftk   |  Can be used to combine PDF's. In this case add a frontpage to the generated IPython notebook PDF.\n",
      "ImageMagick | for compressing the PDF. Still experimenting with this.\n",
      "GhostScript | needed by ImageMagick\n",
      "anaconda  | install anaconda from Continuum Analytics. Almost all the Python packages are included and it has a virtual environment manager via it's console application `conda'\n",
      "\n",
      " \n",
      "How to run the Interactive Notebook\n",
      "--------\n",
      "Navigate to the `src` directory and run from the command line:\n",
      "\n",
      " ```python\n",
      "      ipython notebook\n",
      "```\n",
      "\n",
      "If everything works your browser should open and you can select the `notebook` and start experimenting!\n",
      " \n",
      "PDF, HTML, Slideshow Build Script\n",
      "------------\n",
      "There is a build script in the `src` directory. It is an IPython file. You can basically build shell scripts this way. To use the power of IPython commands save the file with the `.ipy` extension and call it with IPython. Even the magic\u2019s work. To build the document use `ipython builddocs.ipy` You will have to change the paths to the software however.\n",
      "\n",
      "Cross Platform Output Rendering\n",
      "--------\n",
      "I have tested the HTML outputs on my Galaxy S3 and S4, IPAD and Nexus7. They render very well. Even the downloaded PDF was easily readable on the NEXUS 7 in landscape mode. In conclusion the produces work is really very well packaged and easily consumed on most platforms. This is not bad, and all done with open source software.\n",
      "\n",
      "Some interesting links\n",
      "-----------------------\n",
      "* [A book written with IPython Notebook][7]\n",
      "* [Notebook Viewer][8]\n",
      "* [Anaconda - Installing almost everything you need][9]\n",
      "\n",
      "\n",
      "About the presenter\n",
      "----------\n",
      "* I am an Electrical Engineer and is currently working for a [consulting firm][10] where I manage the Business Analytics and Quantitative Decision Support Services division.\n",
      "* I use python in my day to day work as a practical alternative to the limitations of EXCEL in using large data sets.\n",
      "* [LinkedIn][11]\n",
      "* I am also a co-founder at [House4Hack][12]\n",
      "\n",
      "\n",
      "\n",
      "  [1]: http://pandas.pydata.org/\n",
      "  [2]: http://www.scipy.org/\n",
      "  [3]: http://sympy.org/en/index.html\n",
      "  [4]: http://matplotlib.org/\n",
      "  [5]: http://scikit-learn.org/\n",
      "  [6]: http://tooblippe.github.io/zapycon2013_ipython_science\n",
      "  [7]: http://camdavidsonpilon.github.io/Probabilistic-Programming-and-Bayesian-Methods-for-Hackers/\n",
      "  [8]: http://nbviewer.ipython.org/\n",
      "  [9]: http://www.continuum.io/downloads\n",
      "  [10]: http://www.eon.co.za/index.php/our-services-main/our-services/business-analytics\n",
      "  [11]: http://www.linkedin.com/in/tobienortje\n",
      "  [12]: http://www.house4hack.co.za/\n"
     ]
    },
    {
     "cell_type": "markdown",
     "metadata": {},
     "source": [
      "-----------------------------insert something cool here"
     ]
    },
    {
     "cell_type": "markdown",
     "metadata": {
      "slideshow": {
       "slide_type": "slide"
      }
     },
     "source": [
      "# IPython Notebook and Scientific Stack\n"
     ]
    },
    {
     "cell_type": "markdown",
     "metadata": {
      "slideshow": {
       "slide_type": "slide"
      }
     },
     "source": [
      "## Quick Ipython Introdution"
     ]
    },
    {
     "cell_type": "markdown",
     "metadata": {
      "slideshow": {
       "slide_type": "slide"
      }
     },
     "source": [
      "## Some Imports and Settings"
     ]
    },
    {
     "cell_type": "code",
     "collapsed": false,
     "input": [
      "#Some standard stuff. Also see last cell for custom css\n",
      "import json\n",
      "s = json.load( open(\"static/matplotlibrc.json\") )\n",
      "matplotlib.rcParams.update(s)\n",
      "figsize(18, 4) "
     ],
     "language": "python",
     "metadata": {
      "slideshow": {
       "slide_type": "fragment"
      }
     },
     "outputs": [],
     "prompt_number": 48
    },
    {
     "cell_type": "markdown",
     "metadata": {
      "slideshow": {
       "slide_type": "slide"
      }
     },
     "source": [
      "## Notebook Basics"
     ]
    },
    {
     "cell_type": "markdown",
     "metadata": {
      "slideshow": {
       "slide_type": "slide"
      }
     },
     "source": [
      "## Using Markdown"
     ]
    },
    {
     "cell_type": "markdown",
     "metadata": {
      "slideshow": {
       "slide_type": "slide"
      }
     },
     "source": [
      "## Notebook Magics"
     ]
    },
    {
     "cell_type": "markdown",
     "metadata": {
      "slideshow": {
       "slide_type": "slide"
      }
     },
     "source": [
      "## User Input"
     ]
    },
    {
     "cell_type": "code",
     "collapsed": false,
     "input": [
      "\n",
      "raw = raw_input(\"enter your input here >>> \")\n",
      "print \"hallo \", raw"
     ],
     "language": "python",
     "metadata": {
      "slideshow": {
       "slide_type": "subslide"
      }
     },
     "outputs": [
      {
       "name": "stdout",
       "output_type": "stream",
       "stream": "stdout",
       "text": [
        "enter your input here >>> KKKK\n"
       ]
      },
      {
       "output_type": "stream",
       "stream": "stdout",
       "text": [
        "hallo  KKKK\n"
       ]
      }
     ],
     "prompt_number": 42
    },
    {
     "cell_type": "markdown",
     "metadata": {
      "slideshow": {
       "slide_type": "slide"
      }
     },
     "source": [
      "## Linking to Local Files"
     ]
    },
    {
     "cell_type": "markdown",
     "metadata": {
      "slideshow": {
       "slide_type": "slide"
      }
     },
     "source": [
      "## Adding Figures"
     ]
    },
    {
     "cell_type": "markdown",
     "metadata": {
      "slideshow": {
       "slide_type": "slide"
      }
     },
     "source": [
      "## Adding Youtube Videos"
     ]
    },
    {
     "cell_type": "code",
     "collapsed": false,
     "input": [
      "from IPython.display import YouTubeVideo\n",
      "YouTubeVideo('iwVvqwLDsJo', width=600, height=400)\n"
     ],
     "language": "python",
     "metadata": {
      "slideshow": {
       "slide_type": "subslide"
      }
     },
     "outputs": [
      {
       "html": [
        "\n",
        "        <iframe\n",
        "            width=\"600\"\n",
        "            height=400\"\n",
        "            src=\"http://www.youtube.com/embed/iwVvqwLDsJo\"\n",
        "            frameborder=\"0\"\n",
        "            allowfullscreen\n",
        "        ></iframe>\n",
        "        "
       ],
       "metadata": {},
       "output_type": "pyout",
       "prompt_number": 59,
       "text": [
        "<IPython.lib.display.YouTubeVideo object at 0x09668510>"
       ]
      }
     ],
     "prompt_number": 59
    },
    {
     "cell_type": "markdown",
     "metadata": {
      "slideshow": {
       "slide_type": "slide"
      }
     },
     "source": [
      "## Plotting"
     ]
    },
    {
     "cell_type": "markdown",
     "metadata": {
      "slideshow": {
       "slide_type": "slide"
      }
     },
     "source": [
      "### custom plot setup"
     ]
    },
    {
     "cell_type": "code",
     "collapsed": false,
     "input": [
      "\n",
      "%pylab --no-import-all inline\n",
      "figsize(15, 4) \n",
      "xlabel('Time(t)')\n",
      "ylabel('+1')\n",
      "plot([1,2,3,4,5,5,6,67])"
     ],
     "language": "python",
     "metadata": {
      "slideshow": {
       "slide_type": "slide"
      }
     },
     "outputs": [
      {
       "output_type": "stream",
       "stream": "stdout",
       "text": [
        "Populating the interactive namespace from numpy and matplotlib\n"
       ]
      },
      {
       "metadata": {},
       "output_type": "pyout",
       "prompt_number": 57,
       "text": [
        "[Line2D(_line0)]"
       ]
      },
      {
       "metadata": {},
       "output_type": "display_data",
       "png": "[encoded data removed]",
       "text": [
        "Figure(1200x320)"
       ]
      }
     ],
     "prompt_number": 57
    },
    {
     "cell_type": "markdown",
     "metadata": {
      "slideshow": {
       "slide_type": "slide"
      }
     },
     "source": [
      "## Symbolic math\n"
     ]
    },
    {
     "cell_type": "markdown",
     "metadata": {
      "slideshow": {
       "slide_type": "slide"
      }
     },
     "source": [
      "## Pandas\n"
     ]
    },
    {
     "cell_type": "markdown",
     "metadata": {
      "slideshow": {
       "slide_type": "slide"
      }
     },
     "source": [
      "## Typesetting"
     ]
    },
    {
     "cell_type": "markdown",
     "metadata": {
      "slideshow": {
       "slide_type": "slide"
      }
     },
     "source": [
      "## Loading Code"
     ]
    },
    {
     "cell_type": "markdown",
     "metadata": {
      "slideshow": {
       "slide_type": "slide"
      }
     },
     "source": [
      "## Saving a Gist"
     ]
    },
    {
     "cell_type": "markdown",
     "metadata": {
      "slideshow": {
       "slide_type": "slide"
      }
     },
     "source": [
      "## Publish Your Work"
     ]
    },
    {
     "cell_type": "markdown",
     "metadata": {
      "slideshow": {
       "slide_type": "slide"
      }
     },
     "source": [
      "## Changing the Notebook Layout"
     ]
    },
    {
     "cell_type": "code",
     "collapsed": false,
     "input": [
      "from IPython.core.display import HTML\n",
      "def css_styling():\n",
      "    \n",
      "styles = open(\"static/custom.css\", \"r\").read()\n",
      "    return HTML(styles)\n",
      "css_styling()"
     ],
     "language": "python",
     "metadata": {
      "slideshow": {
       "slide_type": "fragment"
      }
     },
     "outputs": [
      {
       "html": [
        "\n",
        "<style>\n",
        "    @font-face {\n",
        "        font-family: \"Computer Modern\";\n",
        "        src: url('http://mirrors.ctan.org/fonts/cm-unicode/fonts/otf/cmunss.otf');\n",
        "    }\n",
        "    div.cell{\n",
        "        width:805px;\n",
        "        margin-left:auto !important;\n",
        "        margin-right:auto;\n",
        "    }\n",
        "    h1 {\n",
        "        font-family: Helvetica, serif;\n",
        "    }\n",
        "    h4{\n",
        "        margin-top:12px;\n",
        "        margin-bottom: 3px;\n",
        "       }\n",
        "    div.text_cell_render{\n",
        "        font-family: Computer Modern, \"Helvetica Neue\", Arial, Helvetica, Geneva, sans-serif;\n",
        "        line-height: 145%;\n",
        "        font-size: 130%;\n",
        "        width:800px;\n",
        "        margin-left:auto;\n",
        "        margin-right:auto;\n",
        "    }\n",
        "    .CodeMirror{\n",
        "            font-family: \"Source Code Pro\", source-code-pro,Consolas, monospace;\n",
        "    }\n",
        "    .prompt{\n",
        "        display: None;\n",
        "    }\n",
        "    .text_cell_render h5 {\n",
        "        font-weight: 300;\n",
        "        font-size: 22pt;\n",
        "        color: #4057A1;\n",
        "        font-style: italic;\n",
        "        margin-bottom: .5em;\n",
        "        margin-top: 0.5em;\n",
        "        display: block;\n",
        "    }\n",
        "    \n",
        "    .warning{\n",
        "        color: rgb( 240, 20, 20 )\n",
        "        }  \n",
        "</style>\n",
        "<script>\n",
        "    MathJax.Hub.Config({\n",
        "                        TeX: {\n",
        "                           extensions: [\"AMSmath.js\"]\n",
        "                           },\n",
        "                tex2jax: {\n",
        "                    inlineMath: [ ['$','$'], [\"\\\\(\",\"\\\\)\"] ],\n",
        "                    displayMath: [ ['$$','$$'], [\"\\\\[\",\"\\\\]\"] ]\n",
        "                },\n",
        "                displayAlign: 'center', // Change this to 'center' to center equations.\n",
        "                \"HTML-CSS\": {\n",
        "                    styles: {'.MathJax_Display': {\"margin\": 4}}\n",
        "                }\n",
        "        });\n",
        "</script>"
       ],
       "metadata": {},
       "output_type": "pyout",
       "prompt_number": 6,
       "text": [
        "<IPython.core.display.HTML at 0x3046090>"
       ]
      }
     ],
     "prompt_number": 6
    },
    {
     "cell_type": "markdown",
     "metadata": {
      "slideshow": {
       "slide_type": "slide"
      }
     },
     "source": [
      "\n",
      "## Some Interesting Notebooks"
     ]
    }
   ],
   "metadata": {}
  }
 ]
}