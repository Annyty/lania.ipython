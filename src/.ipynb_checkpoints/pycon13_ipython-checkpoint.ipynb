{
 "metadata": {
  "name": ""
 },
 "nbformat": 3,
 "nbformat_minor": 0,
 "worksheets": [
  {
   "cells": [
    {
     "cell_type": "markdown",
     "metadata": {
      "slideshow": {
       "slide_type": "skip"
      }
     },
     "source": [
      "IPython Notebooks and the Python Scientific Stack\n",
      "---\n",
      "\n",
      "![http://ipython.org/_static/IPy_header.png](http://ipython.org/_static/IPy_header.png)\n",
      "\n",
      "[IPython](http://ipython.org/) in action creating reproducible and publishable interactive work.\n",
      "\n",
      "What is this?\n",
      "------\n",
      "\n",
      "This `repo` contains the full [talk](http://za.pycon.org/talks/10/) I intend to deliver (have delivered) at [PyConZA2013](http://za.pycon.org/). It contains all the files needed to build a final publishable PDF document from an interactive notebook and even adds a custom front page.\n",
      "\n",
      "[The Complete Talk GitHub Website can be accessed here][6]\n",
      "\n",
      "Background\n",
      "-------------\n",
      "IPython had become a popular choice for doing interactive scientific work. It extends the standard Python interpreter and adds many useful new futures. There is really no need to use the standard Python interpreter anymore.\n",
      "In addition to this IPython offers a web based Notebook that makes interactive work much easier, and have been used to write repeatable scientific papers and more recently a book has been written using this platform, the online Notebook Viewer and GitHub. The development of this material and tool chain to compile the notebook to a publishable PDF, has inspired me to maybe even try and turn this into a complete (free) book. Let\u2019s see what happens.\n",
      "\n",
      "Combining the most common scientific packages with IPython makes it a formidable tool and serious competition to R. ( _R is still awesome!_ )\n",
      "\n",
      "![http://ipython.org/_static/ipy_0.13.png](http://ipython.org/_static/ipy_0.13.png)\n",
      "\n",
      "As a matter of fact you can run R in the notebook session, embed YouTube Videos, Images and lots more but let me not get ahead of myself....\n",
      "\n",
      "The science stack consists of (but not limited to):\n",
      "\n",
      "package  |  description\n",
      "---  |  ---\n",
      "[pandas][1]  |  `dataframe` implementation (based on numpy)\n",
      "[scipy][2]  |  efficient numerical routines\n",
      "[sympy][3]  |  `symbolic mathematics`\n",
      "[matplotlib][4]  |  python standard `plotting` package\n",
      "[sci-kit learn][5] | machine learning and `well documented!`\n",
      "\n",
      "Talk contents\n",
      "--------\n",
      "The talk will aim to introduce these tools and explore some practical interactive examples. Once completed it will be shown how easy it is to publish your work to various formats. Some of the topics covered in the talk are listed below:\n",
      "\n",
      "item   | description\n",
      "---- |  -------\n",
      "ipython | quick intro to ipython and the notebook\n",
      "setup  | set up your environment / get the talk files\n",
      "notebook basics | navigate the notebook\n",
      "notebook magic\u2019s | special notebook commands that can be very useful\n",
      "getting input   | as from IPython 1.00 getting input from sdtin is possible\n",
      "local files | how to link to local files in the notebook directory\n",
      "plotting\t| how to create beautiful inline plots\n",
      "symbolic math | quick demo of sympy model\n",
      "pandas  | quick intro to pandas dataframe\n",
      "typsetting | include markdown, Latex via MathJax\n",
      "loading code | how to load a remote .py code file\n",
      "gist         | paste some of your work to gist for sharing\n",
      "js\t\t| some javascript examples\n",
      "customising | loading a customer css and custom matplotlib config file\n",
      "git cell    | add code to a special cell that would commit to git\n",
      "output formats | how to publish your work to html, pdf or jeveal.js presentation\n",
      "\n",
      "\n",
      "Get the processed presentation files here:\n",
      "------\n",
      "format  | description\n",
      "------- | ------------\n",
      "[IPython notebook](https://github.com/Tooblippe/zapycon2013_ipython_science/blob/master/src/pycon13_ipython.ipynb)  |  .ipynb file to run in browser\n",
      "[IPython html notebook](http://htmlpreview.github.io/?https://github.com/Tooblippe/zapycon2013_ipython_science/blob/master/src/output/pycon13_ipython.html) | converted to HTML and served online\n",
      "[IPython pdf notebook](https://github.com/Tooblippe/zapycon2013_ipython_science/blob/master/src/output/pycon13_ipython_pdf.pdf?raw=true)  | converted to PDF for download (to be added, needs pandoc)\n",
      "[IPython pdf book](https://github.com/Tooblippe/zapycon2013_ipython_science/blob/master/src/output/pycon13_ipython_complete.pdf?raw=true)  | converted to pdf and a front-page stitched to it)\n",
      "[Ipython reveal.js presentation](http://htmlpreview.github.io/?https://github.com/Tooblippe/zapycon2013_ipython_science/blob/master/src/output/pycon13_ipython.slides.html#/) | converted to a reveal.js presentation and served online\n",
      "[Online IPython NBveiwer](http://nbviewer.ipython.org/urls/raw.github.com/Tooblippe/zapycon2013_ipython_science/master/src/pycon13_ipython.ipynb)  | view on the ipython notebook viewer\n",
      "\n",
      "\n",
      "Dependencies\n",
      "-------------\n",
      "I was given the challenge to develop all of this on a Windows machine as some of my sponsors want to demonstrate that this stuff can not only be done on GNU/Linux/OSX. So all the tool chains are Windows based. If you know Linux, then you are the type of person that would easily port this. That being said the Windows GitHub client is refreshing.\n",
      "\n",
      "package  |  description\n",
      "-------- | ------------\n",
      "IPython  | To use NBConvert you need V1.00. If you only want to use the interactive notebook then v0.13 will be ok.\n",
      "pandoc \t | The document converter used by IPythonr\n",
      "MikeTex  | If you want to do a TEX to PDF transform. I had so many issues with the TEX to PDF conversion by NBConvert, so settled for wkhtmltopdf(below) to convert HTML to PDF rather. (Convert notebook to HTML with NBconvert and then from HTML to PDF with wkhtmltopdf\n",
      "wkhtmltopdf  | Convert HTML to PDF\n",
      "pdftk   |  Can be used to combine PDF's. In this case add a frontpage to the generated IPython notebook PDF.\n",
      "ImageMagick | for compressing the PDF. Still experimenting with this.\n",
      "GhostScript | needed by ImageMagick\n",
      "anaconda  | install anaconda from Continuum Analytics. Almost all the Python packages are included and it has a virtual environment manager via it's console application `conda'\n",
      "\n",
      " \n",
      "How to run the Interactive Notebook\n",
      "--------\n",
      "Navigate to the `src` directory and run from the command line:\n",
      "\n",
      " ```python\n",
      "      ipython notebook\n",
      "```\n",
      "\n",
      "If everything works your browser should open and you can select the `notebook` and start experimenting!\n",
      " \n",
      "PDF, HTML, Slideshow Build Script\n",
      "------------\n",
      "There is a build script in the `src` directory. It is an IPython file. You can basically build shell scripts this way. To use the power of IPython commands save the file with the `.ipy` extension and call it with IPython. Even the magic\u2019s work. To build the document use `ipython builddocs.ipy` You will have to change the paths to the software however.\n",
      "\n",
      "Cross Platform Output Rendering\n",
      "--------\n",
      "I have tested the HTML outputs on my Galaxy S3 and S4, IPAD and Nexus7. They render very well. Even the downloaded PDF was easily readable on the NEXUS 7 in landscape mode. In conclusion the produces work is really very well packaged and easily consumed on most platforms. This is not bad, and all done with open source software.\n",
      "\n",
      "Some interesting links\n",
      "-----------------------\n",
      "* [A book written with IPython Notebook][7]\n",
      "* [Notebook Viewer][8]\n",
      "* [Anaconda - Installing almost everything you need][9]\n",
      "\n",
      "\n",
      "About the presenter\n",
      "----------\n",
      "* I am an Electrical Engineer and is currently working for a [consulting firm][10] where I manage the Business Analytics and Quantitative Decision Support Services division.\n",
      "* I use python in my day to day work as a practical alternative to the limitations of EXCEL in using large data sets.\n",
      "* [LinkedIn][11]\n",
      "* I am also a co-founder at [House4Hack][12]\n",
      "\n",
      "\n",
      "\n",
      "  [1]: http://pandas.pydata.org/\n",
      "  [2]: http://www.scipy.org/\n",
      "  [3]: http://sympy.org/en/index.html\n",
      "  [4]: http://matplotlib.org/\n",
      "  [5]: http://scikit-learn.org/\n",
      "  [6]: http://tooblippe.github.io/zapycon2013_ipython_science\n",
      "  [7]: http://camdavidsonpilon.github.io/Probabilistic-Programming-and-Bayesian-Methods-for-Hackers/\n",
      "  [8]: http://nbviewer.ipython.org/\n",
      "  [9]: http://www.continuum.io/downloads\n",
      "  [10]: http://www.eon.co.za/index.php/our-services-main/our-services/business-analytics\n",
      "  [11]: http://www.linkedin.com/in/tobienortje\n",
      "  [12]: http://www.house4hack.co.za/\n"
     ]
    },
    {
     "cell_type": "markdown",
     "metadata": {
      "slideshow": {
       "slide_type": "slide"
      }
     },
     "source": [
      "# IPython Notebook - A cookbook?\n",
      "\n"
     ]
    },
    {
     "cell_type": "markdown",
     "metadata": {
      "slideshow": {
       "slide_type": "slide"
      }
     },
     "source": [
      "## Quick IPython Introdution\n",
      "\n",
      "IPython provides a rich architecture for interactive computing with:\n",
      "\n",
      "* Powerful `interactive shells` (terminal and Qt-based).\n",
      "* A `browser-based notebook` with support for code, text, mathematical expressions, inline plots and other rich media.\n",
      "* Support for `interactive data visualization` and use of GUI toolkits.\n",
      "* Flexible, embeddable interpreters to load into your own projects.\n",
      "* Easy to use, high performance tools for parallel computing.\n",
      "\n",
      "The main reasons I have been using it includes:\n",
      "\n",
      "* A `superior` shell\n",
      "* Plotting is possible in the QT console or the Notebook\n",
      "* the `magic` functions makes life easier (magics gets called with a %, use %-tab to see them all)\n",
      "* I also use it as a `replacement shell` for Windows Shell or Terminal\n",
      "* `Code Completion`\n",
      "* `GNU Readline` based editing and command history"
     ]
    },
    {
     "cell_type": "markdown",
     "metadata": {},
     "source": [
      "## The four most helpful commands \n",
      "\n",
      "The four most helpful commands, as well as their brief description, is shown\n",
      "to you in a banner, every time you start IPython:\n",
      "\n",
      "\n",
      "`command`      |  `description`\n",
      "------------|-----------  \n",
      "?           |  Introduction and overview of IPython's features.\n",
      "%quickref   |  Quick reference.\n",
      "help        |  Python's own help system.\n",
      "object?     |  Details about 'object', use 'object??' for extra details.\n"
     ]
    },
    {
     "cell_type": "markdown",
     "metadata": {
      "slideshow": {
       "slide_type": "slide"
      }
     },
     "source": [
      "## Some Imports and Settings\n",
      "The following code cells make sure that plotting is enabled and also loads a customised matplotlib confirguration file that spices up the inline plots. The custom matplotlib file has been taken from the [Bayesian Methods for Hackers Project](http://nbviewer.ipython.org/urls/raw.github.com/CamDavidsonPilon/Probabilistic-Programming-and-Bayesian-Methods-for-Hackers/master/Chapter1_Introduction/Chapter1_Introduction.ipynb)"
     ]
    },
    {
     "cell_type": "code",
     "collapsed": false,
     "input": [
      "# makes sure inline plotting is enabled\n",
      "%pylab --no-import-all inline "
     ],
     "language": "python",
     "metadata": {
      "slideshow": {
       "slide_type": "fragment"
      }
     },
     "outputs": [
      {
       "output_type": "stream",
       "stream": "stdout",
       "text": [
        "Populating the interactive namespace from numpy and matplotlib\n"
       ]
      }
     ],
     "prompt_number": 16
    },
    {
     "cell_type": "code",
     "collapsed": false,
     "input": [
      "#loads a customer marplotlib configuration file\n",
      "import json\n",
      "s = json.load( open(\"static/matplotlibrc.json\") )\n",
      "matplotlib.rcParams.update(s)\n",
      "figsize(18, 6) \n",
      "print \"Imported customer plotting\""
     ],
     "language": "python",
     "metadata": {
      "slideshow": {
       "slide_type": "fragment"
      }
     },
     "outputs": [
      {
       "output_type": "stream",
       "stream": "stdout",
       "text": [
        "Imported customer plotting\n"
       ]
      }
     ],
     "prompt_number": 33
    },
    {
     "cell_type": "markdown",
     "metadata": {
      "slideshow": {
       "slide_type": "slide"
      }
     },
     "source": [
      "## Changing the Notebook Layout\n",
      "The code cell below is an example of how you should not be chaning the layout and css of the notebook. From IPython V1.00 it is possible to include custom css by creating IPython profiles. Since this file needs to be distributable I have opted for the hack below as used by the `Bayesian Methods for Hackers Team`"
     ]
    },
    {
     "cell_type": "code",
     "collapsed": false,
     "input": [
      "from IPython.core.display import HTML\n",
      "def css_styling():\n",
      "    \n",
      "    styles = open(\"static/custom.css\", \"r\").read()\n",
      "    return HTML(styles)\n",
      "css_styling()"
     ],
     "language": "python",
     "metadata": {
      "slideshow": {
       "slide_type": "fragment"
      }
     },
     "outputs": [
      {
       "html": [
        "\n",
        "<style>\n",
        "    @font-face {\n",
        "        font-family: \"Computer Modern\";\n",
        "        src: url('http://mirrors.ctan.org/fonts/cm-unicode/fonts/otf/cmunss.otf');\n",
        "    }\n",
        "    div.cell{\n",
        "        width:805px;\n",
        "        margin-left:auto !important;\n",
        "        margin-right:auto;\n",
        "    }\n",
        "    h1 {\n",
        "        font-family: Helvetica, serif;\n",
        "    }\n",
        "    h4{\n",
        "        margin-top:12px;\n",
        "        margin-bottom: 3px;\n",
        "       }\n",
        "    div.text_cell_render{\n",
        "        font-family: Computer Modern, \"Helvetica Neue\", Arial, Helvetica, Geneva, sans-serif;\n",
        "        line-height: 145%;\n",
        "        font-size: 130%;\n",
        "        width:800px;\n",
        "        margin-left:auto;\n",
        "        margin-right:auto;\n",
        "    }\n",
        "    .CodeMirror{\n",
        "            font-family: \"Source Code Pro\", source-code-pro,Consolas, monospace;\n",
        "    }\n",
        "    .prompt{\n",
        "        display: None;\n",
        "    }\n",
        "    .text_cell_render h5 {\n",
        "        font-weight: 300;\n",
        "        font-size: 22pt;\n",
        "        color: #4057A1;\n",
        "        font-style: italic;\n",
        "        margin-bottom: .5em;\n",
        "        margin-top: 0.5em;\n",
        "        display: block;\n",
        "    }\n",
        "    \n",
        "    .warning{\n",
        "        color: rgb( 240, 20, 20 )\n",
        "        }  \n",
        "</style>\n",
        "<script>\n",
        "    MathJax.Hub.Config({\n",
        "                        TeX: {\n",
        "                           extensions: [\"AMSmath.js\"]\n",
        "                           },\n",
        "                tex2jax: {\n",
        "                    inlineMath: [ ['$','$'], [\"\\\\(\",\"\\\\)\"] ],\n",
        "                    displayMath: [ ['$$','$$'], [\"\\\\[\",\"\\\\]\"] ]\n",
        "                },\n",
        "                displayAlign: 'center', // Change this to 'center' to center equations.\n",
        "                \"HTML-CSS\": {\n",
        "                    styles: {'.MathJax_Display': {\"margin\": 4}}\n",
        "                }\n",
        "        });\n",
        "</script>"
       ],
       "metadata": {},
       "output_type": "pyout",
       "prompt_number": 3,
       "text": [
        "<IPython.core.display.HTML at 0x105ebc650>"
       ]
      }
     ],
     "prompt_number": 3
    },
    {
     "cell_type": "code",
     "collapsed": false,
     "input": [
      "#Python -- An enhanced Interactive Python\n",
      "?"
     ],
     "language": "python",
     "metadata": {},
     "outputs": [],
     "prompt_number": 13
    },
    {
     "cell_type": "markdown",
     "metadata": {
      "slideshow": {
       "slide_type": "slide"
      }
     },
     "source": [
      "## Notebook Basics\n",
      "The IPython Notebook is a web-based interactive computational environment where you can combine code execution, text, mathematics, plots and rich media into a single document.\n",
      "\n",
      "* Code Completion\n",
      "* Help\n",
      "* Docstrings\n",
      "* Markdown cells\n",
      "* Running a Code cell (Shift+Enter)\n",
      "* Setting a cell to be included in the presentation"
     ]
    },
    {
     "cell_type": "code",
     "collapsed": false,
     "input": [
      "# press shift-enter to run code\n",
      "print \"Hallo Pycon\""
     ],
     "language": "python",
     "metadata": {},
     "outputs": [
      {
       "output_type": "stream",
       "stream": "stdout",
       "text": [
        "Hallo Pycon\n"
       ]
      }
     ],
     "prompt_number": 15
    },
    {
     "cell_type": "code",
     "collapsed": false,
     "input": [
      "IPython -- An enhanced Interactive Python - Quick Reference Card\n",
      "%quickref"
     ],
     "language": "python",
     "metadata": {},
     "outputs": [],
     "prompt_number": 14
    },
    {
     "cell_type": "code",
     "collapsed": false,
     "input": [
      "# lets degine a function with a long name.\n",
      "def long_silly_dummy_name(a, b):\n",
      "    \"\"\"\n",
      "    This is the docstring for dummy.\n",
      "    \"\"\"\n",
      "    return a+b"
     ],
     "language": "python",
     "metadata": {},
     "outputs": [],
     "prompt_number": 1
    },
    {
     "cell_type": "code",
     "collapsed": false,
     "input": [
      "# lets get the docstring or some help\n",
      "long_silly_dummy_name?"
     ],
     "language": "python",
     "metadata": {},
     "outputs": []
    },
    {
     "cell_type": "code",
     "collapsed": false,
     "input": [
      "#press tab to autocplete\n",
      "lon"
     ],
     "language": "python",
     "metadata": {},
     "outputs": []
    },
    {
     "cell_type": "markdown",
     "metadata": {},
     "source": [
      "### Have a look here, this sets a cell function     -------------------------^^^\n",
      "You need to activate the Cell Toolbar in the Toolbar\n",
      "\n",
      "* slide\n",
      "* sub slide\n",
      "* fragment\n",
      "* skip\n",
      "* notes"
     ]
    },
    {
     "cell_type": "markdown",
     "metadata": {
      "slideshow": {
       "slide_type": "slide"
      }
     },
     "source": [
      "## Using Markdown\n",
      "You can set the contents of the cell in the toolbar above. When Markdown is selected you can type markdown in a cell and it's will be rendered as HTML. The markdown syntax can by [found here](http://daringfireball.net/projects/markdown/)\n",
      "\n",
      "# This is heading 1\n",
      "## This is heading 2\n",
      "### This is heading 5\n",
      "\n",
      "> Beautiful is better than ugly.\n",
      "    Explicit is better than implicit.\n",
      "    Simple is better than complex.\n",
      "    Complex is better than complicated.\n",
      "    Flat is better than nested.\n",
      "    Sparse is better than dense.\n",
      "    Readability counts.\n",
      "    Special cases aren't special enough to break the rules.\n",
      "    Although practicality beats purity.\n",
      "    Errors should never pass silently.\n",
      "    Unless explicitly silenced.\n",
      "    In the face of ambiguity, refuse the temptation to guess.\n",
      "    There should be one-- and preferably only one --obvious way to do it.\n",
      "    Although that way may not be obvious at first unless you're Dutch.\n",
      "    Now is better than never.\n",
      "    Although never is often better than *right* now.\n",
      "    If the implementation is hard to explain, it's a bad idea.\n",
      "    If the implementation is easy to explain, it may be a good idea.\n",
      "    Namespaces are one honking great idea -- let's do more of those!"
     ]
    },
    {
     "cell_type": "markdown",
     "metadata": {
      "slideshow": {
       "slide_type": "slide"
      }
     },
     "source": [
      "## Notebook Magics\n",
      "IPython has a set of predefined \u2018magic functions\u2019 that you can call with a command line style syntax. There are two kinds of magics, line-oriented and cell-oriented. Line magics are prefixed with the % character and work much like OS command-line calls: they get as an argument the rest of the line, where arguments are passed without parentheses or quotes. Cell magics are prefixed with a double %%, and they are functions that get as an argument not only the rest of the line, but also the lines below it in a separate argument."
     ]
    },
    {
     "cell_type": "markdown",
     "metadata": {
      "slideshow": {
       "slide_type": "slide"
      }
     },
     "source": [
      "### Timeit\n",
      "The timeit magic can be used to evaluate the average time your loop or piece of code is taking to complete it's run."
     ]
    },
    {
     "cell_type": "code",
     "collapsed": false,
     "input": [
      "%%timeit x = 0   # setup\n",
      "for i in range(100000):\n",
      "    x += i**2"
     ],
     "language": "python",
     "metadata": {
      "slideshow": {
       "slide_type": "fragment"
      }
     },
     "outputs": [
      {
       "output_type": "stream",
       "stream": "stdout",
       "text": [
        "100 loops, best of 3: 12.2 ms per loop\n"
       ]
      }
     ],
     "prompt_number": 5
    },
    {
     "cell_type": "markdown",
     "metadata": {
      "slideshow": {
       "slide_type": "slide"
      }
     },
     "source": [
      "## User Input"
     ]
    },
    {
     "cell_type": "code",
     "collapsed": false,
     "input": [
      "\n",
      "raw = raw_input(\"enter your input here >>> \")\n",
      "print \"hallo \", raw"
     ],
     "language": "python",
     "metadata": {
      "slideshow": {
       "slide_type": "fragment"
      }
     },
     "outputs": [
      {
       "name": "stdout",
       "output_type": "stream",
       "stream": "stdout",
       "text": [
        "enter your input here >>> world\n"
       ]
      },
      {
       "output_type": "stream",
       "stream": "stdout",
       "text": [
        "hallo  world\n"
       ]
      }
     ],
     "prompt_number": 6
    },
    {
     "cell_type": "markdown",
     "metadata": {
      "slideshow": {
       "slide_type": "slide"
      }
     },
     "source": [
      "## Linking to Local Files"
     ]
    },
    {
     "cell_type": "code",
     "collapsed": false,
     "input": [
      "from IPython.display import FileLink, FileLinks\n",
      "FileLinks('.')"
     ],
     "language": "python",
     "metadata": {
      "slideshow": {
       "slide_type": "fragment"
      }
     },
     "outputs": [
      {
       "html": [
        "./<br>\n",
        "&nbsp;&nbsp;<a href='files/./.DS_Store' target='_blank'>.DS_Store</a><br>\n",
        "&nbsp;&nbsp;<a href='files/./builddocs.ipy' target='_blank'>builddocs.ipy</a><br>\n",
        "&nbsp;&nbsp;<a href='files/./pycon13_ipython.ipynb' target='_blank'>pycon13_ipython.ipynb</a><br>\n",
        "&nbsp;&nbsp;<a href='files/./README.md' target='_blank'>README.md</a><br>\n",
        "./.ipynb_checkpoints/<br>\n",
        "&nbsp;&nbsp;<a href='files/./.ipynb_checkpoints/pycon13_ipython-checkpoint.ipynb' target='_blank'>pycon13_ipython-checkpoint.ipynb</a><br>\n",
        "./output/<br>\n",
        "&nbsp;&nbsp;<a href='files/./output/.DS_Store' target='_blank'>.DS_Store</a><br>\n",
        "&nbsp;&nbsp;<a href='files/./output/pycon13_ipython.html' target='_blank'>pycon13_ipython.html</a><br>\n",
        "&nbsp;&nbsp;<a href='files/./output/pycon13_ipython.slides.html' target='_blank'>pycon13_ipython.slides.html</a><br>\n",
        "&nbsp;&nbsp;<a href='files/./output/pycon13_ipython_complete.pdf' target='_blank'>pycon13_ipython_complete.pdf</a><br>\n",
        "&nbsp;&nbsp;<a href='files/./output/pycon13_ipython_pdf.pdf' target='_blank'>pycon13_ipython_pdf.pdf</a><br>\n",
        "./static/<br>\n",
        "&nbsp;&nbsp;<a href='files/./static/.DS_Store' target='_blank'>.DS_Store</a><br>\n",
        "&nbsp;&nbsp;<a href='files/./static/custom.css' target='_blank'>custom.css</a><br>\n",
        "&nbsp;&nbsp;<a href='files/./static/frontpage.docx' target='_blank'>frontpage.docx</a><br>\n",
        "&nbsp;&nbsp;<a href='files/./static/frontpage.pdf' target='_blank'>frontpage.pdf</a><br>\n",
        "&nbsp;&nbsp;<a href='files/./static/matplotlibrc.json' target='_blank'>matplotlibrc.json</a><br>"
       ],
       "metadata": {},
       "output_type": "pyout",
       "prompt_number": 7,
       "text": [
        "./\n",
        "  .DS_Store\n",
        "  builddocs.ipy\n",
        "  pycon13_ipython.ipynb\n",
        "  README.md\n",
        "./.ipynb_checkpoints/\n",
        "  pycon13_ipython-checkpoint.ipynb\n",
        "./output/\n",
        "  .DS_Store\n",
        "  pycon13_ipython.html\n",
        "  pycon13_ipython.slides.html\n",
        "  pycon13_ipython_complete.pdf\n",
        "  pycon13_ipython_pdf.pdf\n",
        "./static/\n",
        "  .DS_Store\n",
        "  custom.css\n",
        "  frontpage.docx\n",
        "  frontpage.pdf\n",
        "  matplotlibrc.json"
       ]
      }
     ],
     "prompt_number": 7
    },
    {
     "cell_type": "markdown",
     "metadata": {
      "slideshow": {
       "slide_type": "slide"
      }
     },
     "source": [
      "## Adding Images\n"
     ]
    },
    {
     "cell_type": "markdown",
     "metadata": {
      "slideshow": {
       "slide_type": "slide"
      }
     },
     "source": [
      "## Adding Youtube Videos\n",
      "\n",
      "I am making the video small as it does not embed into the final output pdf."
     ]
    },
    {
     "cell_type": "code",
     "collapsed": false,
     "input": [
      "from IPython.display import YouTubeVideo\n",
      "YouTubeVideo('iwVvqwLDsJo', width=200, height=200)\n"
     ],
     "language": "python",
     "metadata": {
      "slideshow": {
       "slide_type": "fragment"
      }
     },
     "outputs": [
      {
       "html": [
        "\n",
        "        <iframe\n",
        "            width=\"200\"\n",
        "            height=200\"\n",
        "            src=\"http://www.youtube.com/embed/iwVvqwLDsJo\"\n",
        "            frameborder=\"0\"\n",
        "            allowfullscreen\n",
        "        ></iframe>\n",
        "        "
       ],
       "metadata": {},
       "output_type": "pyout",
       "prompt_number": 8,
       "text": [
        "<IPython.lib.display.YouTubeVideo at 0x105ebc890>"
       ]
      }
     ],
     "prompt_number": 8
    },
    {
     "cell_type": "markdown",
     "metadata": {
      "slideshow": {
       "slide_type": "slide"
      }
     },
     "source": [
      "## Plotting with Matplotlib"
     ]
    },
    {
     "cell_type": "code",
     "collapsed": false,
     "input": [
      "%pylab --no-import-all\n",
      "n = array([0,1,2,3,4,5])\n",
      "xx = np.linspace(-0.75, 1., 100)\n",
      "x = linspace(0, 5, 10)\n",
      "y = x ** 2\n",
      "fig, axes = plt.subplots(1, 4, figsize=(12,3))\n",
      "\n",
      "axes[0].scatter(xx, xx + 0.25*randn(len(xx)))\n",
      "\n",
      "axes[1].step(n, n**2, lw=2)\n",
      "\n",
      "axes[2].bar(n, n**2, align=\"center\", width=0.5, alpha=0.5)\n",
      "\n",
      "axes[3].fill_between(x, x**2, x**3, color=\"green\", alpha=0.5);"
     ],
     "language": "python",
     "metadata": {
      "slideshow": {
       "slide_type": "fragment"
      }
     },
     "outputs": [
      {
       "output_type": "stream",
       "stream": "stdout",
       "text": [
        "Using matplotlib backend: module://IPython.kernel.zmq.pylab.backend_inline\n",
        "Populating the interactive namespace from numpy and matplotlib\n"
       ]
      },
      {
       "metadata": {},
       "output_type": "display_data",
       "png": "[encoded data removed]",
       "text": [
        "<matplotlib.figure.Figure at 0x1060a16d0>"
       ]
      }
     ],
     "prompt_number": 34
    },
    {
     "cell_type": "code",
     "collapsed": false,
     "input": [
      "figsize(18, 6) \n",
      "fig, ax = plt.subplots()\n",
      "\n",
      "ax.plot(xx, xx**2, xx, xx**3)\n",
      "fig.tight_layout()\n",
      "\n",
      "# inset\n",
      "inset_ax = fig.add_axes([0.2, 0.55, 0.35, 0.35]) # X, Y, width, height\n",
      "\n",
      "inset_ax.plot(xx, xx**2, xx, xx**3)\n",
      "inset_ax.set_title('zoom near origin',fontsize=40)\n",
      "\n",
      "# set axis range\n",
      "inset_ax.set_xlim(-.2, .2)\n",
      "inset_ax.set_ylim(-.005, .01)\n",
      "\n",
      "# set axis tick locations\n",
      "inset_ax.set_yticks([0, 0.005, 0.01])\n",
      "inset_ax.set_xticks([-0.1,0,.1]);"
     ],
     "language": "python",
     "metadata": {},
     "outputs": [
      {
       "metadata": {},
       "output_type": "display_data",
       "png": "[encoded data removed]",
       "text": [
        "<matplotlib.figure.Figure at 0x1066ab110>"
       ]
      }
     ],
     "prompt_number": 42
    },
    {
     "cell_type": "code",
     "collapsed": false,
     "input": [
      "figsize(18, 6) \n",
      "fig, ax = plt.subplots()\n",
      "\n",
      "ax.plot(xx, xx**2, xx, xx**3)\n",
      "\n",
      "ax.text(0.15, 0.2, r\"$y=x^2$\", fontsize=60, color=\"blue\")\n",
      "ax.text(0.65, 0.1, r\"$y=x^3$\", fontsize=60, color=\"green\");"
     ],
     "language": "python",
     "metadata": {},
     "outputs": [
      {
       "metadata": {},
       "output_type": "display_data",
       "png": "[encoded data removed]",
       "text": [
        "<matplotlib.figure.Figure at 0x10664d810>"
       ]
      }
     ],
     "prompt_number": 43
    },
    {
     "cell_type": "markdown",
     "metadata": {
      "slideshow": {
       "slide_type": "slide"
      }
     },
     "source": [
      "## Symbolic math\n"
     ]
    },
    {
     "cell_type": "markdown",
     "metadata": {
      "slideshow": {
       "slide_type": "slide"
      }
     },
     "source": [
      "## Massaging some data with Pandas\n"
     ]
    },
    {
     "cell_type": "markdown",
     "metadata": {
      "slideshow": {
       "slide_type": "slide"
      }
     },
     "source": [
      "## Typesetting\n",
      "\n",
      "### Latex\n",
      "Latex is rendered using the mathjax javascript library    "
     ]
    },
    {
     "cell_type": "markdown",
     "metadata": {},
     "source": [
      "The Lorenz Equations\n",
      "\n",
      "\\begin{aligned} \\dot{x} & = \\sigma(y-x) \\\\ \\dot{y} & = \\rho x - y - xz \\\\ \\dot{z} & = -\\beta z + xy \\end{aligned}\n",
      "\n",
      "The Cauchy-Schwarz Inequality\n",
      "\n",
      "\\begin{equation*} \\left( \\sum_{k=1}^n a_k b_k \\right)^2 \\leq \\left( \\sum_{k=1}^n a_k^2 \\right) \\left( \\sum_{k=1}^n b_k^2 \\right) \\end{equation*}\n",
      "\n",
      "A Cross Product Formula\n",
      "\n",
      "\n",
      "\\begin{equation*} \\mathbf{V}_1 \\times \\mathbf{V}_2 =  \\begin{vmatrix} \\mathbf{i} & \\mathbf{j} & \\mathbf{k} \\\\ \\frac{\\partial X}{\\partial u} &  \\frac{\\partial Y}{\\partial u} & 0 \\\\ \\frac{\\partial X}{\\partial v} &  \\frac{\\partial Y}{\\partial v} & 0 \\end{vmatrix}   \\end{equation*}\n"
     ]
    },
    {
     "cell_type": "markdown",
     "metadata": {
      "slideshow": {
       "slide_type": "slide"
      }
     },
     "source": [
      "## Using the Python Debugger - pdb\n"
     ]
    },
    {
     "cell_type": "code",
     "collapsed": false,
     "input": [
      "%pdb"
     ],
     "language": "python",
     "metadata": {
      "slideshow": {
       "slide_type": "fragment"
      }
     },
     "outputs": [
      {
       "output_type": "stream",
       "stream": "stdout",
       "text": [
        "Automatic pdb calling has been turned ON\n"
       ]
      }
     ],
     "prompt_number": 11
    },
    {
     "cell_type": "code",
     "collapsed": false,
     "input": [
      "foo = 1\n",
      "bar = 'a'\n",
      "print foo+bar"
     ],
     "language": "python",
     "metadata": {},
     "outputs": [
      {
       "ename": "TypeError",
       "evalue": "unsupported operand type(s) for +: 'int' and 'str'",
       "output_type": "pyerr",
       "traceback": [
        "\u001b[0;31m---------------------------------------------------------------------------\u001b[0m\n\u001b[0;31mTypeError\u001b[0m                                 Traceback (most recent call last)",
        "\u001b[0;32m<ipython-input-12-08464a413a31>\u001b[0m in \u001b[0;36m<module>\u001b[0;34m()\u001b[0m\n\u001b[1;32m      1\u001b[0m \u001b[0mfoo\u001b[0m \u001b[0;34m=\u001b[0m \u001b[0;36m1\u001b[0m\u001b[0;34m\u001b[0m\u001b[0m\n\u001b[1;32m      2\u001b[0m \u001b[0mbar\u001b[0m \u001b[0;34m=\u001b[0m \u001b[0;34m'a'\u001b[0m\u001b[0;34m\u001b[0m\u001b[0m\n\u001b[0;32m----> 3\u001b[0;31m \u001b[0;32mprint\u001b[0m \u001b[0mfoo\u001b[0m\u001b[0;34m+\u001b[0m\u001b[0mbar\u001b[0m\u001b[0;34m\u001b[0m\u001b[0m\n\u001b[0m",
        "\u001b[0;31mTypeError\u001b[0m: unsupported operand type(s) for +: 'int' and 'str'"
       ]
      },
      {
       "output_type": "stream",
       "stream": "stdout",
       "text": [
        "> \u001b[0;32m<ipython-input-12-08464a413a31>\u001b[0m(3)\u001b[0;36m<module>\u001b[0;34m()\u001b[0m\n",
        "\u001b[0;32m      1 \u001b[0;31m\u001b[0mfoo\u001b[0m \u001b[0;34m=\u001b[0m \u001b[0;36m1\u001b[0m\u001b[0;34m\u001b[0m\u001b[0m\n",
        "\u001b[0m\u001b[0;32m      2 \u001b[0;31m\u001b[0mbar\u001b[0m \u001b[0;34m=\u001b[0m \u001b[0;34m'a'\u001b[0m\u001b[0;34m\u001b[0m\u001b[0m\n",
        "\u001b[0m\u001b[0;32m----> 3 \u001b[0;31m\u001b[0;32mprint\u001b[0m \u001b[0mfoo\u001b[0m\u001b[0;34m+\u001b[0m\u001b[0mbar\u001b[0m\u001b[0;34m\u001b[0m\u001b[0m\n",
        "\u001b[0m\n"
       ]
      },
      {
       "name": "stdout",
       "output_type": "stream",
       "stream": "stdout",
       "text": [
        "ipdb> ?\n"
       ]
      },
      {
       "output_type": "stream",
       "stream": "stdout",
       "text": [
        "\n",
        "Documented commands (type help <topic>):\n",
        "========================================\n",
        "EOF    bt         cont      enable  jump  pdef    psource  run      unt   \n",
        "a      c          continue  exit    l     pdoc    q        s        until \n",
        "alias  cl         d         h       list  pfile   quit     step     up    \n",
        "args   clear      debug     help    n     pinfo   r        tbreak   w     \n",
        "b      commands   disable   ignore  next  pinfo2  restart  u        whatis\n",
        "break  condition  down      j       p     pp      return   unalias  where \n",
        "\n",
        "Miscellaneous help topics:\n",
        "==========================\n",
        "exec  pdb\n",
        "\n",
        "Undocumented commands:\n",
        "======================\n",
        "retval  rv\n",
        "\n"
       ]
      },
      {
       "name": "stdout",
       "output_type": "stream",
       "stream": "stdout",
       "text": [
        "ipdb> q\n"
       ]
      }
     ],
     "prompt_number": 12
    },
    {
     "cell_type": "markdown",
     "metadata": {
      "slideshow": {
       "slide_type": "slide"
      }
     },
     "source": [
      "## Loading Code Snippets"
     ]
    },
    {
     "cell_type": "code",
     "collapsed": false,
     "input": [
      "%load http://matplotlib.org/mpl_examples/pylab_examples/simple_plot.py"
     ],
     "language": "python",
     "metadata": {
      "slideshow": {
       "slide_type": "slide"
      }
     },
     "outputs": [],
     "prompt_number": 13
    },
    {
     "cell_type": "code",
     "collapsed": false,
     "input": [
      "from pylab import *\n",
      "\n",
      "t = arange(0.0, 2.0, 0.01)\n",
      "s = sin(2*pi*t)\n",
      "plot(t, s)\n",
      "\n",
      "xlabel('time (s)')\n",
      "ylabel('voltage (mV)')\n",
      "title('About as simple as it gets, folks', fontsize=30)\n",
      "grid(True)\n"
     ],
     "language": "python",
     "metadata": {},
     "outputs": [
      {
       "metadata": {},
       "output_type": "display_data",
       "png": "[encoded data removed]",
       "text": [
        "<matplotlib.figure.Figure at 0x1069b2d10>"
       ]
      }
     ],
     "prompt_number": 46
    },
    {
     "cell_type": "markdown",
     "metadata": {
      "slideshow": {
       "slide_type": "slide"
      }
     },
     "source": [
      "## Saving a Gist\n",
      "It is possible to save spesific lines of code to a GitHub gist. This is achieved with the `pastebin` magic as demonstrated below."
     ]
    },
    {
     "cell_type": "code",
     "collapsed": false,
     "input": [
      "%pastebin \"cell one\" 0-10"
     ],
     "language": "python",
     "metadata": {
      "slideshow": {
       "slide_type": "fragment"
      }
     },
     "outputs": [
      {
       "metadata": {},
       "output_type": "pyout",
       "prompt_number": 15,
       "text": [
        "u'https://gist.github.com/6521768'"
       ]
      }
     ],
     "prompt_number": 15
    },
    {
     "cell_type": "markdown",
     "metadata": {
      "slideshow": {
       "slide_type": "slide"
      }
     },
     "source": [
      "## Publishing Your Work\n",
      "Newly added in the 1.0 release of IPython is the nbconvert tool, which allows you to convert an `.ipynb` notebook document file into various static formats.\n",
      "\n",
      "Currently, nbconvert is provided as a command line tool, run as a script using IPython. A direct export capability from within the IPython Notebook web app is planned.\n",
      "\n",
      "The command-line syntax to run the nbconvert script is: [MORE OPTIONS](http://ipython.org/ipython-doc/rel-1.0.0/interactive/nbconvert.html)\n",
      "\n",
      "    ipython nbconvert --to FORMAT notebook.ipynb\n",
      "\n",
      "This page is converted and published to the following formats using this tool\n",
      "* HTML\n",
      "* PDF (the PDF is created using `wkhtml2pdf` that takes the html file as an input)\n",
      "* LATEX\n",
      "* `Reveal.js` slideshow\n"
     ]
    },
    {
     "cell_type": "markdown",
     "metadata": {
      "slideshow": {
       "slide_type": "slide"
      }
     },
     "source": [
      "## File links to exported content\n",
      "The links below can be used to verify the output from the convertion process. This saved me a lot of time as I could just click below and have a look at the files without exiting the notebook."
     ]
    },
    {
     "cell_type": "code",
     "collapsed": false,
     "input": [
      "FileLinks('output/')"
     ],
     "language": "python",
     "metadata": {
      "slideshow": {
       "slide_type": "fragment"
      }
     },
     "outputs": []
    },
    {
     "cell_type": "markdown",
     "metadata": {
      "slideshow": {
       "slide_type": "slide"
      }
     },
     "source": [
      "## Building(exporting) from within the notebook\n",
      "You can even call the build script from the notebook. The script will convert this page to an html and slide file. It will also compile to PDF and stitch a front page to it. Some of the last text in the building process wont appear as this notebook is being updated as it is being compile. Maybe not the best idea but saved a lot of time..."
     ]
    },
    {
     "cell_type": "code",
     "collapsed": false,
     "input": [
      "!ipython builddocs.ipy"
     ],
     "language": "python",
     "metadata": {
      "slideshow": {
       "slide_type": "fragment"
      }
     },
     "outputs": [
      {
       "output_type": "stream",
       "stream": "stdout",
       "text": [
        "srunning on mac\r\n",
        "******************** Converting to HTML\r\n"
       ]
      },
      {
       "output_type": "stream",
       "stream": "stdout",
       "text": [
        "[NbConvertApp] Using existing profile dir: u'/Users/tobie/.ipython/profile_default'\r\n",
        "[NbConvertApp] Converting notebook pycon13_ipython.ipynb to html\r\n",
        "[NbConvertApp] Support files will be in pycon13_ipython_files/\r\n"
       ]
      },
      {
       "output_type": "stream",
       "stream": "stdout",
       "text": [
        "[NbConvertApp] Loaded template html_full.tpl\r\n"
       ]
      },
      {
       "output_type": "stream",
       "stream": "stdout",
       "text": [
        "[NbConvertApp] Writing 277122 bytes to pycon13_ipython.html\r\n"
       ]
      },
      {
       "output_type": "stream",
       "stream": "stdout",
       "text": [
        "******************** Converting to slides\r\n"
       ]
      },
      {
       "output_type": "stream",
       "stream": "stdout",
       "text": [
        "[NbConvertApp] Using existing profile dir: u'/Users/tobie/.ipython/profile_default'\r\n",
        "[NbConvertApp] Converting notebook pycon13_ipython.ipynb to slides\r\n",
        "[NbConvertApp] Support files will be in pycon13_ipython_files/\r\n"
       ]
      },
      {
       "output_type": "stream",
       "stream": "stdout",
       "text": [
        "[NbConvertApp] Loaded template slides_reveal.tpl\r\n"
       ]
      },
      {
       "output_type": "stream",
       "stream": "stdout",
       "text": [
        "[NbConvertApp] Writing 282520 bytes to pycon13_ipython.slides.html\r\n"
       ]
      },
      {
       "output_type": "stream",
       "stream": "stdout",
       "text": [
        "mac run completed\r\n"
       ]
      }
     ],
     "prompt_number": 16
    },
    {
     "cell_type": "markdown",
     "metadata": {
      "slideshow": {
       "slide_type": "slide"
      }
     },
     "source": [
      "## Links to some interesting notebooks\n",
      "The following notebooks showcase multiple aspects of IPython, from its basic\n",
      "use to more advanced scenarios.  They introduce you to the use of the Notebook\n",
      "and also cover aspects of IPython that are available in other clients, such as\n",
      "the cell magics for multi-language integration or our extended display\n",
      "protocol.\n",
      "\n",
      "For beginners, we recommend that you start with the 5-part series that\n",
      "introduces the system, and later read others as the topics interest you.\n",
      "\n",
      "Once you are familiar with the notebook system, we encourage you to visit our\n",
      "[gallery](https://github.com/ipython/ipython/wiki/A-gallery-of-interesting-IPython-Notebooks)\n",
      "where you will find many more examples that cover areas from basic Python\n",
      "programming to advanced topics in scientific computing.\n",
      "\n",
      "* [Animations Using clear_output](http://nbviewer.ipython.org/url/github.com/ipython/ipython/raw/master/examples/notebooks/Animations%20Using%20clear_output.ipynb)\n",
      "* [Cell Magics](http://nbviewer.ipython.org/url/github.com/ipython/ipython/raw/master/examples/notebooks/Cell%20Magics.ipynb)\n",
      "* [Custom Display Logic](http://nbviewer.ipython.org/url/github.com/ipython/ipython/raw/master/examples/notebooks/Custom%20Display%20Logic.ipynb)\n",
      "* [Cython Magics](http://nbviewer.ipython.org/url/github.com/ipython/ipython/raw/master/examples/notebooks/Cython%20Magics.ipynb)\n",
      "* [Data Publication API](http://nbviewer.ipython.org/url/github.com/ipython/ipython/raw/master/examples/notebooks/Data%20Publication%20API.ipynb)\n",
      "* [Frontend-Kernel Model](http://nbviewer.ipython.org/url/github.com/ipython/ipython/raw/master/examples/notebooks/Frontend-Kernel%20Model.ipynb)\n",
      "* [Octave Magic](http://nbviewer.ipython.org/url/github.com/ipython/ipython/raw/master/examples/notebooks/Octave%20Magic.ipynb)\n",
      "* [Part 1 - Running Code](http://nbviewer.ipython.org/url/github.com/ipython/ipython/raw/master/examples/notebooks/Part%201%20-%20Running%20Code.ipynb)\n",
      "* [Part 2 - Basic Output](http://nbviewer.ipython.org/url/github.com/ipython/ipython/raw/master/examples/notebooks/Part%202%20-%20Basic%20Output.ipynb)\n",
      "* [Part 3 - Pylab and Matplotlib](http://nbviewer.ipython.org/url/github.com/ipython/ipython/raw/master/examples/notebooks/Part%203%20-%20Pylab%20and%20Matplotlib.ipynb)\n",
      "* [Part 4 - Markdown Cells](http://nbviewer.ipython.org/url/github.com/ipython/ipython/raw/master/examples/notebooks/Part%204%20-%20Markdown%20Cells.ipynb)\n",
      "* [Part 5 - Rich Display System](http://nbviewer.ipython.org/url/github.com/ipython/ipython/raw/master/examples/notebooks/Part%205%20-%20Rich%20Display%20System.ipynb)\n",
      "* [Progress Bars](http://nbviewer.ipython.org/url/github.com/ipython/ipython/raw/master/examples/notebooks/Progress%20Bars.ipynb)\n",
      "* [R Magics](http://nbviewer.ipython.org/url/github.com/ipython/ipython/raw/master/examples/notebooks/R%20Magics.ipynb)\n",
      "* [Script Magics](http://nbviewer.ipython.org/url/github.com/ipython/ipython/raw/master/examples/notebooks/Script%20Magics.ipynb)\n",
      "* [SymPy Examples](http://nbviewer.ipython.org/url/github.com/ipython/ipython/raw/master/examples/notebooks/SymPy%20Examples.ipynb)\n",
      "* [Trapezoid Rule](http://nbviewer.ipython.org/url/github.com/ipython/ipython/raw/master/examples/notebooks/Trapezoid%20Rule.ipynb)\n",
      "* [Typesetting Math Using MathJax](http://nbviewer.ipython.org/url/github.com/ipython/ipython/raw/master/examples/notebooks/Typesetting%20Math%20Using%20MathJax.ipynb)"
     ]
    },
    {
     "cell_type": "markdown",
     "metadata": {
      "slideshow": {
       "slide_type": "slide"
      }
     },
     "source": [
      "## Sources / References \n",
      "Since this demonstration focussed on the life cycle of the analysis to publication many of the code examples were taken from their respective websites. If I have not given credit at any point please let me know and I will make sure that the work is updated\n",
      "\n",
      "* IPython website, portions of text has been used without modification\n",
      "\n",
      "* Matplotlib\n",
      "\n",
      "* Bayesian Methods for Hackers, the use of the custom css and also the custom matplotlib skin"
     ]
    },
    {
     "cell_type": "markdown",
     "metadata": {
      "slideshow": {
       "slide_type": "slide"
      }
     },
     "source": [
      "## Embedding the final presentation into the notebook! \n",
      "The build script generates a slideshow version of this notebook and saves it in the output directory. You can also use normal HTML in a cell and using the `iframe` tag the slideshow was embedded to a cell below. Since this document has not been build yet...we are editing it now, the slideshow below is linked to the previous saved version of this notebook. So if we did not make to many changes it should be pretty close to being the same thing."
     ]
    },
    {
     "cell_type": "markdown",
     "metadata": {
      "slideshow": {
       "slide_type": "fragment"
      }
     },
     "source": [
      "<iframe width=800 height= 400 src=\"http://htmlpreview.github.io/?https://github.com/Tooblippe/zapycon2013_ipython_science/blob/master/src/output/pycon13_ipython.slides.html#/\"></iframe>"
     ]
    },
    {
     "cell_type": "code",
     "collapsed": false,
     "input": [],
     "language": "python",
     "metadata": {},
     "outputs": []
    }
   ],
   "metadata": {}
  }
 ]
}