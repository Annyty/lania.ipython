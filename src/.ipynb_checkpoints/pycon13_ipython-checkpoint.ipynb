{
 "metadata": {
  "name": ""
 },
 "nbformat": 3,
 "nbformat_minor": 0,
 "worksheets": [
  {
   "cells": [
    {
     "cell_type": "markdown",
     "metadata": {
      "slideshow": {
       "slide_type": "skip"
      }
     },
     "source": [
      "IPython Notebooks and the Python Scientific Stack\n",
      "---\n",
      "\n",
      "[IPython](http://ipython.org/) in action creating reproducible and publishable interactive work..\n",
      "\n",
      "What is this?\n",
      "------\n",
      "\n",
      "This repo contains the full [talk](http://za.pycon.org/talks/10/) I intend to deliver (have delivered) at [PyConZA2013](http://za.pycon.org/). It contains all the files needed to build a final publishable PDF document and even adds a customer front page.\n",
      "\n",
      "[The Complete Talk GitHub Website can be accessed here][6]\n",
      "\n",
      "Background\n",
      "-------------\n",
      "IPython had become a popular choice for doing interactive scientific work. It extends the standard Python interpreter and adds many useful new futures. There is really no need to use the standard Python interpreter anymore.\n",
      "In addition to this IPython offers a web based Notebook that makes interactive work much easier, and have been used to write repeatable scientific papers and more recently a book has been written using this platform, the online Notebook Viewer and GitHub. The development of this material and tool chain to compile the notebook to a publishable PDF, has inspired me to maybe even try and turn this into a complete (free) book. Let\u2019s see what happens.\n",
      "\n",
      "Combining the most common scientific packages with IPython makes it a formidable tool and serious competition to R. ( _R is still awesome!_ )\n",
      "\n",
      "As a matter of fact you can run R in the notebook session, embed YouTube Videos, Images and lots more but let me not get ahead of myself....\n",
      "\n",
      "The science stack consists of (but not limited to):\n",
      "\n",
      "package  |  description\n",
      "---  |  ---\n",
      "[pandas][1]  |  `dataframe` implementation (based on numpy)\n",
      "[scipy][2]  |  efficient numerical routines\n",
      "[sympy][3]  |  `symbolic mathematics`\n",
      "[matplotlib][4]  |  python standard `plotting` package\n",
      "[sci-kit learn][5] | machine learning and `well documented!`\n",
      "\n",
      "Talk contents\n",
      "--------\n",
      "The talk will aim to introduce these tools and give some practical examples. Once completed it will be shown how easy it is to publish your work to various formats. Some of the topics covered in the talk are listed below:\n",
      "\n",
      "item   | description\n",
      "---- |  -------\n",
      "ipython | quick intro to ipython and the notebook\n",
      "setup  | set up your environment / get the talk files\n",
      "notebook basics | navigate the notebook\n",
      "notebook magic\u2019s | special notebook commands that can be very useful\n",
      "getting input   | as from IPython 1.00 getting input from sdtin is possible\n",
      "local files | how to link to local files in the notebook directory\n",
      "plotting\t| how to create beautiful inline plots\n",
      "symbolic math | quick demo of sympy model\n",
      "pandas  | quick intro to pandas dataframe\n",
      "typsetting | include markdown, Latex via MathJax\n",
      "loading code | how to load a remote .py code file\n",
      "gist         | paste some of your work to gist for sharing\n",
      "js\t\t| some javascript examples\n",
      "customising | loading a customer css and custom matplotlib config file\n",
      "git cell    | add code to a special cell that would commit to git\n",
      "output formats | how to publish your work to html, pdf or jeveal.js presentation\n",
      "\n",
      "\n",
      "Get the talk files here\n",
      "------\n",
      "format  | description\n",
      "------- | ------------\n",
      "[IPython notebook](https://github.com/Tooblippe/zapycon2013_ipython_science/blob/master/src/pycon13_ipython.ipynb)  |  .ipynb file to run in browser\n",
      "[IPython html notebook](http://htmlpreview.github.io/?https://github.com/Tooblippe/zapycon2013_ipython_science/blob/master/src/output/pycon13_ipython.html) | converted to HTML and served online\n",
      "[IPython pdf notebook](https://github.com/Tooblippe/zapycon2013_ipython_science/blob/master/src/output/pycon13_ipython_pdf.pdf?raw=true)  | converted to PDF for download (to be added, needs pandoc)\n",
      "[IPython pdf book](https://github.com/Tooblippe/zapycon2013_ipython_science/blob/master/src/output/pycon13_ipython_complete.pdf?raw=true)  | converted to pdf and a front-page stitched to it)\n",
      "[Ipython reveal.js presentation](http://htmlpreview.github.io/?https://github.com/Tooblippe/zapycon2013_ipython_science/blob/master/src/output/pycon13_ipython.slides.html#/) | converted to a reveal.js presentation and served online\n",
      "[Online IPython NBveiwer](http://nbviewer.ipython.org/urls/raw.github.com/Tooblippe/zapycon2013_ipython_science/master/src/pycon13_ipython.ipynb)  | view on the ipython notebook viewer\n",
      "\n",
      "\n",
      "Dependencies\n",
      "-------------\n",
      "I was given the challenge to develop all of this on a Windows machine as some of my sponsors want to demonstrate that this stuff can not only be done on GNU/Linux/OSX. So all the tool chains are Windows based. If you know Linux, then you are the type of person that would easily port this. That being said the Windows GitHub client is refreshing.\n",
      "\n",
      "package  |  description\n",
      "-------- | ------------\n",
      "IPython  | To use NBConvert you need V1.00. If you only want to use the interactive notebook then v0.13 will be ok.\n",
      "pandoc \t | The document converter used by IPythonr\n",
      "MikeTex  | If you want to do a TEX to PDF transform. I had so many issues with the TEX to PDF conversion by NBConvert, so settled for wkhtmltopdf(below) to convert HTML to PDF rather. (Convert notebook to HTML with NBconvert and then from HTML to PDF with wkhtmltopdf\n",
      "wkhtmltopdf  | Convert HTML to PDF\n",
      "pdftk   |  Can be used to combine PDF's. In this case add a frontpage to the generated IPython notebook PDF.\n",
      "ImageMagick | for compressing the PDF. Still experimenting with this.\n",
      "GhostScript | needed by ImageMagick\n",
      "anaconda  | install anaconda from Continuum Analytics. Almost all the Python packages are included and it has a virtual environment manager via it's console application `conda'\n",
      "\n",
      " \n",
      "How to run the Interactive Notebook\n",
      "--------\n",
      "Navigate to the `src` directory and run from the command line:\n",
      "\n",
      " ```python\n",
      "      ipython notebook\n",
      "```\n",
      "\n",
      "If everything works your browser should open and you can select the `notebook` and start experimenting!\n",
      " \n",
      "PDF, HTML, Slideshow Build Script\n",
      "------------\n",
      "There is a build script in the `src` directory. It is an IPython file. You can basically build shell scripts this way. To use the power of IPython commands save the file with the `.ipy` extension and call it with IPython. Even the magic\u2019s work. To build the document use `ipython builddocs.ipy` You will have to change the paths to the software however.\n",
      "\n",
      "Cross Platform Output Rendering\n",
      "--------\n",
      "I have tested the HTML outputs on my Galaxy S3 and S4, IPAD and Nexus7. They render very well. Even the downloaded PDF was easily readable on the NEXUS 7 in landscape mode. In conclusion the produces work is really very well packaged and easily consumed on most platforms. This is not bad, and all done with open source software.\n",
      "\n",
      "Some interesting links\n",
      "-----------------------\n",
      "* [A book written with IPython Notebook][7]\n",
      "* [Notebook Viewer][8]\n",
      "* [Anaconda - Installing almost everything you need][9]\n",
      "\n",
      "\n",
      "About the presenter\n",
      "----------\n",
      "* I am an Electrical Engineer and is currently working for a [consulting firm][10] where I manage the Business Analytics and Quantitative Decision Support Services division.\n",
      "* I use python in my day to day work as a practical alternative to the limitations of EXCEL in using large data sets.\n",
      "* [LinkedIn][11]\n",
      "* I am also a co-founder at [House4Hack][12]\n",
      "\n",
      "\n",
      "\n",
      "  [1]: http://pandas.pydata.org/\n",
      "  [2]: http://www.scipy.org/\n",
      "  [3]: http://sympy.org/en/index.html\n",
      "  [4]: http://matplotlib.org/\n",
      "  [5]: http://scikit-learn.org/\n",
      "  [6]: http://tooblippe.github.io/zapycon2013_ipython_science\n",
      "  [7]: http://camdavidsonpilon.github.io/Probabilistic-Programming-and-Bayesian-Methods-for-Hackers/\n",
      "  [8]: http://nbviewer.ipython.org/\n",
      "  [9]: http://www.continuum.io/downloads\n",
      "  [10]: http://www.eon.co.za/index.php/our-services-main/our-services/business-analytics\n",
      "  [11]: http://www.linkedin.com/in/tobienortje\n",
      "  [12]: http://www.house4hack.co.za/\n"
     ]
    },
    {
     "cell_type": "markdown",
     "metadata": {
      "slideshow": {
       "slide_type": "slide"
      }
     },
     "source": [
      "\n",
      "# IPython Notebook (A cookbook?) ![IPY Notebook Icon](http://ipython.org/ipython-doc/stable/_images/ipynb_icon_128x128.png)"
     ]
    },
    {
     "cell_type": "markdown",
     "metadata": {
      "slideshow": {
       "slide_type": "slide"
      }
     },
     "source": [
      "## Quick IPython Introdution\n",
      "\n",
      "IPython provides a rich architecture for interactive computing with:\n",
      "\n",
      "* Powerful `interactive shells` (terminal and Qt-based).\n",
      "* A `browser-based notebook` with support for code, text, mathematical expressions, inline plots and other rich media.\n",
      "* Support for `interactive data visualization` and use of GUI toolkits.\n",
      "* Flexible, embeddable interpreters to load into your own projects.\n",
      "* Easy to use, high performance tools for parallel computing.\n",
      "\n",
      "The main reasons I have been using it includes:\n",
      "\n",
      "* A `superior` shell\n",
      "* Plotting is possible in the QT console or the Notebook\n",
      "* the `magic` functions makes life easier\n",
      "* I also use it as a `replacement shell` for Windows Shell or Terminal\n",
      "* `Code Completion`\n",
      "* `GNU Readline` based editing and command history"
     ]
    },
    {
     "cell_type": "markdown",
     "metadata": {
      "slideshow": {
       "slide_type": "slide"
      }
     },
     "source": [
      "## Some Imports and Settings\n",
      "The following code cells make sure that plotting is enabled and also loads a customised matplotlib confirguration file that spices up the inline plots. The custom matplotlib file has been taken from the [Bayesian Methods for Hackers Project](http://nbviewer.ipython.org/urls/raw.github.com/CamDavidsonPilon/Probabilistic-Programming-and-Bayesian-Methods-for-Hackers/master/Chapter1_Introduction/Chapter1_Introduction.ipynb)"
     ]
    },
    {
     "cell_type": "code",
     "collapsed": false,
     "input": [
      "# makes sure inline plotting is enabled\n",
      "%pylab --no-import-all inline "
     ],
     "language": "python",
     "metadata": {
      "slideshow": {
       "slide_type": "fragment"
      }
     },
     "outputs": [
      {
       "output_type": "stream",
       "stream": "stdout",
       "text": [
        "Populating the interactive namespace from numpy and matplotlib\n"
       ]
      }
     ],
     "prompt_number": 3
    },
    {
     "cell_type": "code",
     "collapsed": false,
     "input": [
      "#loads a customer marplotlib configuration file\n",
      "import json\n",
      "s = json.load( open(\"static/matplotlibrc.json\") )\n",
      "matplotlib.rcParams.update(s)\n",
      "figsize(18, 4) \n",
      "print \"Imported customer plotting\""
     ],
     "language": "python",
     "metadata": {
      "slideshow": {
       "slide_type": "fragment"
      }
     },
     "outputs": [
      {
       "output_type": "stream",
       "stream": "stdout",
       "text": [
        "Imported customer plotting\n"
       ]
      }
     ],
     "prompt_number": 4
    },
    {
     "cell_type": "markdown",
     "metadata": {
      "slideshow": {
       "slide_type": "slide"
      }
     },
     "source": [
      "## Changing the Notebook Layout\n",
      "The code cell below is an example of how you should not be chaning the layout and css of the notebook. From IPython V1.00 it is possible to include custom css by creating IPython profiles. Since this file needs to be distributable I have opted for the hack below as used by the `Bayesian Methods for Hackers Team`"
     ]
    },
    {
     "cell_type": "code",
     "collapsed": false,
     "input": [
      "from IPython.core.display import HTML\n",
      "def css_styling():\n",
      "    \n",
      "    styles = open(\"static/custom.css\", \"r\").read()\n",
      "    return HTML(styles)\n",
      "css_styling()"
     ],
     "language": "python",
     "metadata": {
      "slideshow": {
       "slide_type": "fragment"
      }
     },
     "outputs": [
      {
       "html": [
        "\n",
        "<style>\n",
        "    @font-face {\n",
        "        font-family: \"Computer Modern\";\n",
        "        src: url('http://mirrors.ctan.org/fonts/cm-unicode/fonts/otf/cmunss.otf');\n",
        "    }\n",
        "    div.cell{\n",
        "        width:805px;\n",
        "        margin-left:auto !important;\n",
        "        margin-right:auto;\n",
        "    }\n",
        "    h1 {\n",
        "        font-family: Helvetica, serif;\n",
        "    }\n",
        "    h4{\n",
        "        margin-top:12px;\n",
        "        margin-bottom: 3px;\n",
        "       }\n",
        "    div.text_cell_render{\n",
        "        font-family: Computer Modern, \"Helvetica Neue\", Arial, Helvetica, Geneva, sans-serif;\n",
        "        line-height: 145%;\n",
        "        font-size: 130%;\n",
        "        width:800px;\n",
        "        margin-left:auto;\n",
        "        margin-right:auto;\n",
        "    }\n",
        "    .CodeMirror{\n",
        "            font-family: \"Source Code Pro\", source-code-pro,Consolas, monospace;\n",
        "    }\n",
        "    .prompt{\n",
        "        display: None;\n",
        "    }\n",
        "    .text_cell_render h5 {\n",
        "        font-weight: 300;\n",
        "        font-size: 22pt;\n",
        "        color: #4057A1;\n",
        "        font-style: italic;\n",
        "        margin-bottom: .5em;\n",
        "        margin-top: 0.5em;\n",
        "        display: block;\n",
        "    }\n",
        "    \n",
        "    .warning{\n",
        "        color: rgb( 240, 20, 20 )\n",
        "        }  \n",
        "</style>\n",
        "<script>\n",
        "    MathJax.Hub.Config({\n",
        "                        TeX: {\n",
        "                           extensions: [\"AMSmath.js\"]\n",
        "                           },\n",
        "                tex2jax: {\n",
        "                    inlineMath: [ ['$','$'], [\"\\\\(\",\"\\\\)\"] ],\n",
        "                    displayMath: [ ['$$','$$'], [\"\\\\[\",\"\\\\]\"] ]\n",
        "                },\n",
        "                displayAlign: 'center', // Change this to 'center' to center equations.\n",
        "                \"HTML-CSS\": {\n",
        "                    styles: {'.MathJax_Display': {\"margin\": 4}}\n",
        "                }\n",
        "        });\n",
        "</script>"
       ],
       "metadata": {},
       "output_type": "pyout",
       "prompt_number": 5,
       "text": [
        "<IPython.core.display.HTML at 0x10230bd10>"
       ]
      }
     ],
     "prompt_number": 5
    },
    {
     "cell_type": "markdown",
     "metadata": {
      "slideshow": {
       "slide_type": "slide"
      }
     },
     "source": [
      "## Notebook Basics\n",
      "The IPython Notebook is a web-based interactive computational environment where you can combine code execution, text, mathematics, plots and rich media into a single document.\n",
      "\n",
      "* Code Completion\n",
      "* Help\n",
      "* Docstrings\n",
      "* Markdown cells\n",
      "* Slide Cells\n",
      "* Running Code"
     ]
    },
    {
     "cell_type": "markdown",
     "metadata": {
      "slideshow": {
       "slide_type": "slide"
      }
     },
     "source": [
      "## Using Markdown"
     ]
    },
    {
     "cell_type": "markdown",
     "metadata": {
      "slideshow": {
       "slide_type": "slide"
      }
     },
     "source": [
      "## Notebook Magics"
     ]
    },
    {
     "cell_type": "markdown",
     "metadata": {
      "slideshow": {
       "slide_type": "slide"
      }
     },
     "source": [
      "### Timeit"
     ]
    },
    {
     "cell_type": "code",
     "collapsed": false,
     "input": [
      "%%timeit x = 0   # setup\n",
      "for i in xrange(100000):\n",
      "    x += i**2"
     ],
     "language": "python",
     "metadata": {
      "slideshow": {
       "slide_type": "fragment"
      }
     },
     "outputs": [
      {
       "output_type": "stream",
       "stream": "stdout",
       "text": [
        "100 loops, best of 3: 10.8 ms per loop\n"
       ]
      }
     ],
     "prompt_number": 6
    },
    {
     "cell_type": "markdown",
     "metadata": {
      "slideshow": {
       "slide_type": "slide"
      }
     },
     "source": [
      "## User Input"
     ]
    },
    {
     "cell_type": "code",
     "collapsed": false,
     "input": [
      "\n",
      "raw = raw_input(\"enter your input here >>> \")\n",
      "print \"hallo \", raw"
     ],
     "language": "python",
     "metadata": {
      "slideshow": {
       "slide_type": "fragment"
      }
     },
     "outputs": [
      {
       "name": "stdout",
       "output_type": "stream",
       "stream": "stdout",
       "text": [
        "enter your input here >>> hallo \n"
       ]
      },
      {
       "output_type": "stream",
       "stream": "stdout",
       "text": [
        "hallo  hallo \n"
       ]
      }
     ],
     "prompt_number": 7
    },
    {
     "cell_type": "markdown",
     "metadata": {
      "slideshow": {
       "slide_type": "slide"
      }
     },
     "source": [
      "## Linking to Local Files"
     ]
    },
    {
     "cell_type": "code",
     "collapsed": false,
     "input": [
      "from IPython.display import FileLink, FileLinks\n",
      "FileLinks('.')"
     ],
     "language": "python",
     "metadata": {
      "slideshow": {
       "slide_type": "fragment"
      }
     },
     "outputs": [
      {
       "html": [
        "./<br>\n",
        "&nbsp;&nbsp;<a href='files/./.DS_Store' target='_blank'>.DS_Store</a><br>\n",
        "&nbsp;&nbsp;<a href='files/./build.bat' target='_blank'>build.bat</a><br>\n",
        "&nbsp;&nbsp;<a href='files/./builddocs.ipy' target='_blank'>builddocs.ipy</a><br>\n",
        "&nbsp;&nbsp;<a href='files/./notebook.bat' target='_blank'>notebook.bat</a><br>\n",
        "&nbsp;&nbsp;<a href='files/./pycon13_ipython.ipynb' target='_blank'>pycon13_ipython.ipynb</a><br>\n",
        "&nbsp;&nbsp;<a href='files/./README.md' target='_blank'>README.md</a><br>\n",
        "./.ipynb_checkpoints/<br>\n",
        "&nbsp;&nbsp;<a href='files/./.ipynb_checkpoints/pycon13_ipython-checkpoint.ipynb' target='_blank'>pycon13_ipython-checkpoint.ipynb</a><br>\n",
        "./output/<br>\n",
        "&nbsp;&nbsp;<a href='files/./output/pycon13_ipython.html' target='_blank'>pycon13_ipython.html</a><br>\n",
        "&nbsp;&nbsp;<a href='files/./output/pycon13_ipython.slides.html' target='_blank'>pycon13_ipython.slides.html</a><br>\n",
        "&nbsp;&nbsp;<a href='files/./output/pycon13_ipython_complete.pdf' target='_blank'>pycon13_ipython_complete.pdf</a><br>\n",
        "&nbsp;&nbsp;<a href='files/./output/pycon13_ipython_pdf.pdf' target='_blank'>pycon13_ipython_pdf.pdf</a><br>\n",
        "./static/<br>\n",
        "&nbsp;&nbsp;<a href='files/./static/custom.css' target='_blank'>custom.css</a><br>\n",
        "&nbsp;&nbsp;<a href='files/./static/frontpage.docx' target='_blank'>frontpage.docx</a><br>\n",
        "&nbsp;&nbsp;<a href='files/./static/frontpage.pdf' target='_blank'>frontpage.pdf</a><br>\n",
        "&nbsp;&nbsp;<a href='files/./static/matplotlibrc.json' target='_blank'>matplotlibrc.json</a><br>"
       ],
       "metadata": {},
       "output_type": "pyout",
       "prompt_number": 8,
       "text": [
        "./\n",
        "  .DS_Store\n",
        "  build.bat\n",
        "  builddocs.ipy\n",
        "  notebook.bat\n",
        "  pycon13_ipython.ipynb\n",
        "  README.md\n",
        "./.ipynb_checkpoints/\n",
        "  pycon13_ipython-checkpoint.ipynb\n",
        "./output/\n",
        "  pycon13_ipython.html\n",
        "  pycon13_ipython.slides.html\n",
        "  pycon13_ipython_complete.pdf\n",
        "  pycon13_ipython_pdf.pdf\n",
        "./static/\n",
        "  custom.css\n",
        "  frontpage.docx\n",
        "  frontpage.pdf\n",
        "  matplotlibrc.json"
       ]
      }
     ],
     "prompt_number": 8
    },
    {
     "cell_type": "markdown",
     "metadata": {
      "slideshow": {
       "slide_type": "slide"
      }
     },
     "source": [
      "## Adding Images\n"
     ]
    },
    {
     "cell_type": "markdown",
     "metadata": {
      "slideshow": {
       "slide_type": "slide"
      }
     },
     "source": [
      "## Adding Youtube Videos"
     ]
    },
    {
     "cell_type": "code",
     "collapsed": false,
     "input": [
      "from IPython.display import YouTubeVideo\n",
      "YouTubeVideo('iwVvqwLDsJo', width=600, height=400)\n"
     ],
     "language": "python",
     "metadata": {
      "slideshow": {
       "slide_type": "fragment"
      }
     },
     "outputs": [
      {
       "html": [
        "\n",
        "        <iframe\n",
        "            width=\"600\"\n",
        "            height=400\"\n",
        "            src=\"http://www.youtube.com/embed/iwVvqwLDsJo\"\n",
        "            frameborder=\"0\"\n",
        "            allowfullscreen\n",
        "        ></iframe>\n",
        "        "
       ],
       "metadata": {},
       "output_type": "pyout",
       "prompt_number": 9,
       "text": [
        "<IPython.lib.display.YouTubeVideo at 0x105ec1950>"
       ]
      }
     ],
     "prompt_number": 9
    },
    {
     "cell_type": "markdown",
     "metadata": {
      "slideshow": {
       "slide_type": "slide"
      }
     },
     "source": [
      "## Plotting with Matplotlib"
     ]
    },
    {
     "cell_type": "code",
     "collapsed": false,
     "input": [
      "xlabel('Time(t)')\n",
      "ylabel('+1')\n",
      "plot([1,2,3,4,5,5,6,67])"
     ],
     "language": "python",
     "metadata": {
      "slideshow": {
       "slide_type": "fragment"
      }
     },
     "outputs": [
      {
       "metadata": {},
       "output_type": "pyout",
       "prompt_number": 12,
       "text": [
        "[<matplotlib.lines.Line2D at 0x10615f150>]"
       ]
      },
      {
       "metadata": {},
       "output_type": "display_data",
       "png": "[encoded data removed]",
       "text": [
        "<matplotlib.figure.Figure at 0x105f285d0>"
       ]
      }
     ],
     "prompt_number": 12
    },
    {
     "cell_type": "markdown",
     "metadata": {
      "slideshow": {
       "slide_type": "slide"
      }
     },
     "source": [
      "## Symbolic math\n"
     ]
    },
    {
     "cell_type": "markdown",
     "metadata": {
      "slideshow": {
       "slide_type": "slide"
      }
     },
     "source": [
      "## Pandas\n"
     ]
    },
    {
     "cell_type": "markdown",
     "metadata": {
      "slideshow": {
       "slide_type": "slide"
      }
     },
     "source": [
      "## Typesetting"
     ]
    },
    {
     "cell_type": "markdown",
     "metadata": {
      "slideshow": {
       "slide_type": "slide"
      }
     },
     "source": [
      "## Debugging\n"
     ]
    },
    {
     "cell_type": "code",
     "collapsed": false,
     "input": [
      "%pdb"
     ],
     "language": "python",
     "metadata": {
      "slideshow": {
       "slide_type": "fragment"
      }
     },
     "outputs": [
      {
       "output_type": "stream",
       "stream": "stdout",
       "text": [
        "Automatic pdb calling has been turned ON\n"
       ]
      }
     ],
     "prompt_number": 13
    },
    {
     "cell_type": "code",
     "collapsed": false,
     "input": [
      "foo = 1\n",
      "bar = 'a'\n",
      "print foo+bar"
     ],
     "language": "python",
     "metadata": {},
     "outputs": [
      {
       "ename": "TypeError",
       "evalue": "unsupported operand type(s) for +: 'int' and 'str'",
       "output_type": "pyerr",
       "traceback": [
        "\u001b[0;31m---------------------------------------------------------------------------\u001b[0m\n\u001b[0;31mTypeError\u001b[0m                                 Traceback (most recent call last)",
        "\u001b[0;32m<ipython-input-14-08464a413a31>\u001b[0m in \u001b[0;36m<module>\u001b[0;34m()\u001b[0m\n\u001b[1;32m      1\u001b[0m \u001b[0mfoo\u001b[0m \u001b[0;34m=\u001b[0m \u001b[0;36m1\u001b[0m\u001b[0;34m\u001b[0m\u001b[0m\n\u001b[1;32m      2\u001b[0m \u001b[0mbar\u001b[0m \u001b[0;34m=\u001b[0m \u001b[0;34m'a'\u001b[0m\u001b[0;34m\u001b[0m\u001b[0m\n\u001b[0;32m----> 3\u001b[0;31m \u001b[0;32mprint\u001b[0m \u001b[0mfoo\u001b[0m\u001b[0;34m+\u001b[0m\u001b[0mbar\u001b[0m\u001b[0;34m\u001b[0m\u001b[0m\n\u001b[0m",
        "\u001b[0;31mTypeError\u001b[0m: unsupported operand type(s) for +: 'int' and 'str'"
       ]
      },
      {
       "output_type": "stream",
       "stream": "stdout",
       "text": [
        "> \u001b[0;32m<ipython-input-14-08464a413a31>\u001b[0m(3)\u001b[0;36m<module>\u001b[0;34m()\u001b[0m\n",
        "\u001b[0;32m      1 \u001b[0;31m\u001b[0mfoo\u001b[0m \u001b[0;34m=\u001b[0m \u001b[0;36m1\u001b[0m\u001b[0;34m\u001b[0m\u001b[0m\n",
        "\u001b[0m\u001b[0;32m      2 \u001b[0;31m\u001b[0mbar\u001b[0m \u001b[0;34m=\u001b[0m \u001b[0;34m'a'\u001b[0m\u001b[0;34m\u001b[0m\u001b[0m\n",
        "\u001b[0m\u001b[0;32m----> 3 \u001b[0;31m\u001b[0;32mprint\u001b[0m \u001b[0mfoo\u001b[0m\u001b[0;34m+\u001b[0m\u001b[0mbar\u001b[0m\u001b[0;34m\u001b[0m\u001b[0m\n",
        "\u001b[0m\n"
       ]
      },
      {
       "name": "stdout",
       "output_type": "stream",
       "stream": "stdout",
       "text": [
        "ipdb> q\n"
       ]
      }
     ],
     "prompt_number": 14
    },
    {
     "cell_type": "markdown",
     "metadata": {
      "slideshow": {
       "slide_type": "slide"
      }
     },
     "source": [
      "## Loading Code Snippets"
     ]
    },
    {
     "cell_type": "code",
     "collapsed": false,
     "input": [
      "%load http://matplotlib.org/mpl_examples/pylab_examples/simple_plot.py"
     ],
     "language": "python",
     "metadata": {
      "slideshow": {
       "slide_type": "slide"
      }
     },
     "outputs": [],
     "prompt_number": 15
    },
    {
     "cell_type": "code",
     "collapsed": false,
     "input": [
      "\n",
      "\n",
      "t = arange(0.0, 2.0, 0.01)\n",
      "s = sin(2*pi*t)\n",
      "plot(t, s)\n",
      "\n",
      "xlabel('time (s)')\n",
      "ylabel('voltage (mV)')\n",
      "title('About as simple as it gets, folks')\n",
      "grid(True)\n",
      "\n",
      "show()\n"
     ],
     "language": "python",
     "metadata": {
      "slideshow": {
       "slide_type": "fragment"
      }
     },
     "outputs": [
      {
       "metadata": {},
       "output_type": "display_data",
       "png": "[encoded data removed]",
       "text": [
        "<matplotlib.figure.Figure at 0x1061b2310>"
       ]
      }
     ],
     "prompt_number": 16
    },
    {
     "cell_type": "markdown",
     "metadata": {
      "slideshow": {
       "slide_type": "slide"
      }
     },
     "source": [
      "## Saving a Gist\n",
      "It is possible to save spesific lines of code to a GitHub gist. This is achieved with the `pastebin` magic as demonstrated below."
     ]
    },
    {
     "cell_type": "code",
     "collapsed": false,
     "input": [
      "%pastebin \"cell one\" 0-10"
     ],
     "language": "python",
     "metadata": {
      "slideshow": {
       "slide_type": "fragment"
      }
     },
     "outputs": [
      {
       "metadata": {},
       "output_type": "pyout",
       "prompt_number": 17,
       "text": [
        "u'https://gist.github.com/6499771'"
       ]
      }
     ],
     "prompt_number": 17
    },
    {
     "cell_type": "markdown",
     "metadata": {
      "slideshow": {
       "slide_type": "slide"
      }
     },
     "source": [
      "## Publishing Your Work\n",
      "\n",
      "* NBConvert\n",
      "* HTML\n",
      "* PDF\n",
      "* LATEX\n",
      "* Reveal.js slideshow\n"
     ]
    },
    {
     "cell_type": "markdown",
     "metadata": {
      "slideshow": {
       "slide_type": "slide"
      }
     },
     "source": [
      "\n",
      "## Some Interesting Notebooks"
     ]
    },
    {
     "cell_type": "markdown",
     "metadata": {
      "slideshow": {
       "slide_type": "slide"
      }
     },
     "source": [
      "## Sources / References \n",
      "Since this demonstration focussed on the life cycle of the analysis to publication many of the code examples were taken from their respective websites. If I have not given credit at any point please let me know and I will make sure that the work is updated\n",
      "\n",
      "* IPython\n",
      "\n",
      "* Matplotlib\n",
      "\n",
      "* Bayesian Methods for Hackers"
     ]
    }
   ],
   "metadata": {}
  }
 ]
}