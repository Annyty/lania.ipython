{
 "metadata": {
  "name": "",
  "signature": "sha256:793c773994557a43f4560791ecf6598e742c196743e31ec9800d109e1e6d2edb"
 },
 "nbformat": 3,
 "nbformat_minor": 0,
 "worksheets": [
  {
   "cells": [
    {
     "cell_type": "markdown",
     "metadata": {},
     "source": [
      "Hola clase distribuido\n",
      "=====\n",
      "Esta libreta empieza a explorar el mundo paralelo "
     ]
    },
    {
     "cell_type": "code",
     "collapsed": false,
     "input": [
      "from IPython.parallel import Client"
     ],
     "language": "python",
     "metadata": {},
     "outputs": [],
     "prompt_number": 1
    },
    {
     "cell_type": "code",
     "collapsed": false,
     "input": [
      "rc = Client()\n",
      "view = rc.load_balanced_view()"
     ],
     "language": "python",
     "metadata": {},
     "outputs": [],
     "prompt_number": 5
    },
    {
     "cell_type": "code",
     "collapsed": false,
     "input": [
      "def sleep_and_echo(t, msg):\n",
      "    import time\n",
      "    time.sleep(t)\n",
      "    return msg"
     ],
     "language": "python",
     "metadata": {},
     "outputs": [],
     "prompt_number": 7
    },
    {
     "cell_type": "code",
     "collapsed": false,
     "input": [
      "clase = view.apply_async(sleep_and_echo,30, 'Clase!')\n",
      "hola = view.apply_async(sleep_and_echo,30, 'Hola!')"
     ],
     "language": "python",
     "metadata": {},
     "outputs": [],
     "prompt_number": 31
    },
    {
     "cell_type": "code",
     "collapsed": false,
     "input": [
      "print 'Submitted tasks: ', hola.msg_ids + clase.msg_ids\n",
      "print hola.result, clase.result"
     ],
     "language": "python",
     "metadata": {},
     "outputs": [
      {
       "output_type": "stream",
       "stream": "stdout",
       "text": [
        "Submitted tasks:  ['4dadab4a-43ab-43b4-825c-500c5fcb5633', '78de82f1-7e77-4cf7-b311-a06ed60eea14']\n",
        "Hola!"
       ]
      },
      {
       "output_type": "stream",
       "stream": "stdout",
       "text": [
        " Clase!\n"
       ]
      }
     ],
     "prompt_number": 32
    },
    {
     "cell_type": "code",
     "collapsed": false,
     "input": [],
     "language": "python",
     "metadata": {},
     "outputs": []
    },
    {
     "cell_type": "code",
     "collapsed": false,
     "input": [],
     "language": "python",
     "metadata": {},
     "outputs": []
    },
    {
     "cell_type": "code",
     "collapsed": false,
     "input": [],
     "language": "python",
     "metadata": {},
     "outputs": []
    }
   ],
   "metadata": {}
  }
 ]
}